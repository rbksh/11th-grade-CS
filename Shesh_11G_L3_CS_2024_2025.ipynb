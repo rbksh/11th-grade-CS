{
  "nbformat": 4,
  "nbformat_minor": 0,
  "metadata": {
    "colab": {
      "provenance": [],
      "include_colab_link": true
    },
    "kernelspec": {
      "name": "python3",
      "display_name": "Python 3"
    },
    "language_info": {
      "name": "python"
    }
  },
  "cells": [
    {
      "cell_type": "markdown",
      "metadata": {
        "id": "view-in-github",
        "colab_type": "text"
      },
      "source": [
        "<a href=\"https://colab.research.google.com/github/rbksh/11th-grade-CS/blob/main/Shesh_11G_L3_CS_2024_2025.ipynb\" target=\"_parent\"><img src=\"https://colab.research.google.com/assets/colab-badge.svg\" alt=\"Open In Colab\"/></a>"
      ]
    },
    {
      "cell_type": "code",
      "execution_count": null,
      "metadata": {
        "colab": {
          "base_uri": "https://localhost:8080/"
        },
        "id": "mzP2YBx-Ot9n",
        "outputId": "e4940779-2690-4d42-b739-a5211c59160d"
      },
      "outputs": [
        {
          "output_type": "stream",
          "name": "stdout",
          "text": [
            "Enter a number n: 5\n",
            "1\n",
            "12\n",
            "123\n",
            "1234\n",
            "12345\n"
          ]
        }
      ],
      "source": [
        "# --------------------------------------------------------------#\n",
        "\t# List-Program No \t: L3-P1-(a)\n",
        "\t# Developed By\t \t: Shesh Shiromani\n",
        "\t# Date        \t\t: 17-Aug-2023\n",
        "# --------------------------------------------------------------#\n",
        "n = int(input(\"Enter a number n: \"))\n",
        "for i in range(1,n+1):\n",
        "  print(\"\" * (n-i),end = \"\")\n",
        "  for j in range(1,i+1):\n",
        "    print(j, end = \"\")\n",
        "  print()"
      ]
    },
    {
      "cell_type": "code",
      "source": [
        "# --------------------------------------------------------------#\n",
        "\t# List-Program No \t: L3-P1-(b)\n",
        "\t# Developed By\t \t: Shesh Shiromani\n",
        "\t# Date        \t\t: 17-Aug-2023\n",
        "# --------------------------------------------------------------#\n",
        "n = int(input(\"Enter a number n: \"))\n",
        "for i in range(n,0,-1):\n",
        "  print(\"\" * (n-1),end = \"\")\n",
        "  for j in range(i,0,-1):\n",
        "    print(j, end = \"\")\n",
        "  print()"
      ],
      "metadata": {
        "colab": {
          "base_uri": "https://localhost:8080/"
        },
        "id": "Yvp0jW4mQren",
        "outputId": "6db2c722-1285-4cbc-b844-1eae6cf003cc"
      },
      "execution_count": null,
      "outputs": [
        {
          "output_type": "stream",
          "name": "stdout",
          "text": [
            "Enter a number n: 5\n",
            "54321\n",
            "4321\n",
            "321\n",
            "21\n",
            "1\n"
          ]
        }
      ]
    },
    {
      "cell_type": "code",
      "source": [
        "# --------------------------------------------------------------#\n",
        "\t# List-Program No \t: L3-P1-(c)\n",
        "\t# Developed By\t \t: Shesh Shiromani\n",
        "\t# Date        \t\t: 17-Aug-2023\n",
        "# --------------------------------------------------------------#\n",
        "n = int(input(\"Enter number of lines: \"))\n",
        "\n",
        "for i in range(1,n+1):\n",
        "\n",
        "    for j in range(1, n+1-i):\n",
        "        print(' ', end='')\n",
        "\n",
        "    for j in range(1,i+1):\n",
        "        print(j, end='')\n",
        "\n",
        "    for j in range(i-1,0,-1):\n",
        "        print(j, end='')\n",
        "\n",
        "    print()"
      ],
      "metadata": {
        "colab": {
          "base_uri": "https://localhost:8080/"
        },
        "id": "l63bUiuHXDqs",
        "outputId": "74c5e1d8-ee49-46b2-c278-c472fcd96a8b"
      },
      "execution_count": null,
      "outputs": [
        {
          "output_type": "stream",
          "name": "stdout",
          "text": [
            "Enter number of lines: 5\n",
            "    1\n",
            "   121\n",
            "  12321\n",
            " 1234321\n",
            "123454321\n"
          ]
        }
      ]
    },
    {
      "cell_type": "code",
      "source": [
        "# --------------------------------------------------------------#\n",
        "\t# List-Program No \t: L3-P2-(a)\n",
        "\t# Developed By\t \t: Shesh Shiromani\n",
        "\t# Date        \t\t: 17-Aug-2023\n",
        "# --------------------------------------------------------------#\n",
        "n = int(input(\"Enter a number n: \"))\n",
        "for i in range(1,n+1):\n",
        "  for j in range(1,i+1):\n",
        "    print(i, end  = '')\n",
        "  print()"
      ],
      "metadata": {
        "colab": {
          "base_uri": "https://localhost:8080/"
        },
        "id": "hlCTqUEhZQs2",
        "outputId": "5ef0b8c1-30b1-4bfe-c4c8-edb8489d5031"
      },
      "execution_count": null,
      "outputs": [
        {
          "output_type": "stream",
          "name": "stdout",
          "text": [
            "Enter a number n: 5\n",
            "1\n",
            "22\n",
            "333\n",
            "4444\n",
            "55555\n"
          ]
        }
      ]
    },
    {
      "cell_type": "code",
      "source": [
        "# --------------------------------------------------------------#\n",
        "\t# List-Program No \t: L3-P2-(b)\n",
        "\t# Developed By\t \t: Shesh Shiromani\n",
        "\t# Date        \t\t: 17-Aug-2023\n",
        "# --------------------------------------------------------------#\n",
        "n = int(input(\"Enter a number n: \"))\n",
        "for i in range(1,n+1):\n",
        "  print(\" \"*(n-i),end=\"\")\n",
        "  for j in range(1,i+1):\n",
        "    print(i,end=\"\")\n",
        "  print()"
      ],
      "metadata": {
        "colab": {
          "base_uri": "https://localhost:8080/"
        },
        "id": "jzxeXrKXZyu-",
        "outputId": "dffddf1a-1008-46ef-a622-a783cd0d0d9d"
      },
      "execution_count": null,
      "outputs": [
        {
          "output_type": "stream",
          "name": "stdout",
          "text": [
            "Enter a number n: 5\n",
            "    1\n",
            "   22\n",
            "  333\n",
            " 4444\n",
            "55555\n"
          ]
        }
      ]
    },
    {
      "cell_type": "code",
      "source": [
        "# --------------------------------------------------------------#\n",
        "\t# List-Program No \t: L3-P2-(c)\n",
        "\t# Developed By\t \t: Shesh Shiromani\n",
        "\t# Date        \t\t: 17-Aug-2023\n",
        "# --------------------------------------------------------------#\n",
        "n = int(input(\"Enter a number: \"))\n",
        "\n",
        "for i in range(1, n + 1):\n",
        "    for j in range(n - i):\n",
        "        print(' ', end='')\n",
        "    for k in range(2 * i - 1):\n",
        "        print(i, end='')\n",
        "\n",
        "    print()\n"
      ],
      "metadata": {
        "id": "8QieXD4T-RRn",
        "colab": {
          "base_uri": "https://localhost:8080/"
        },
        "outputId": "9fab3b30-1a5c-4d63-97e9-735663708b12"
      },
      "execution_count": null,
      "outputs": [
        {
          "output_type": "stream",
          "name": "stdout",
          "text": [
            "    1\n",
            "   222\n",
            "  33333\n",
            " 4444444\n",
            "555555555\n"
          ]
        }
      ]
    },
    {
      "cell_type": "code",
      "source": [
        "# --------------------------------------------------------------#\n",
        "\t# List-Program No \t: L3-P3-(a)\n",
        "\t# Developed By\t \t: Shesh Shiromani\n",
        "\t# Date        \t\t: 17-Aug-2023\n",
        "# --------------------------------------------------------------#\n",
        "n = input(\"Enter a string: \")\n",
        "for i in range(1, len(n)+1):\n",
        "  print(n[:i])"
      ],
      "metadata": {
        "colab": {
          "base_uri": "https://localhost:8080/"
        },
        "id": "OWVMNp9RI85Q",
        "outputId": "6d70f1b0-be2f-42ec-814a-fcae0aaa5006"
      },
      "execution_count": null,
      "outputs": [
        {
          "output_type": "stream",
          "name": "stdout",
          "text": [
            "Enter a string: science\n",
            "s\n",
            "sc\n",
            "sci\n",
            "scie\n",
            "scien\n",
            "scienc\n",
            "science\n"
          ]
        }
      ]
    },
    {
      "cell_type": "code",
      "source": [
        "# --------------------------------------------------------------#\n",
        "\t# List-Program No \t: L3-P3-(b)\n",
        "\t# Developed By\t \t: Shesh Shiromani\n",
        "\t# Date        \t\t: 17-Aug-2023\n",
        "# --------------------------------------------------------------#\n",
        "n = input(\"Enter a string: \")\n",
        "for i in range(len(n),0,-1):\n",
        "  print(n[:i])"
      ],
      "metadata": {
        "colab": {
          "base_uri": "https://localhost:8080/"
        },
        "id": "Sq6KFBejSZ4o",
        "outputId": "69592f66-324e-4a4a-9bd5-074c83e3cc13"
      },
      "execution_count": null,
      "outputs": [
        {
          "output_type": "stream",
          "name": "stdout",
          "text": [
            "Enter a string: science\n",
            "science\n",
            "scienc\n",
            "scien\n",
            "scie\n",
            "sci\n",
            "sc\n",
            "s\n"
          ]
        }
      ]
    },
    {
      "cell_type": "code",
      "source": [
        "# --------------------------------------------------------------#\n",
        "\t# List-Program No \t: L3-P3-(c)\n",
        "\t# Developed By\t \t: Shesh Shiromani\n",
        "\t# Date        \t\t: 17-Aug-2023\n",
        "# --------------------------------------------------------------#\n",
        "n = input(\"Enter a string: \")\n",
        "for i in range(len(n)):\n",
        "  print(' ' * (len(n) - i - 1), end='')\n",
        "  print(n[:i + 1])\n"
      ],
      "metadata": {
        "colab": {
          "base_uri": "https://localhost:8080/"
        },
        "id": "IY18S1oSSqGv",
        "outputId": "c3715b21-37f9-4dc9-c7ea-cec7a7443fa2"
      },
      "execution_count": null,
      "outputs": [
        {
          "output_type": "stream",
          "name": "stdout",
          "text": [
            "Enter a string: science\n",
            "      s\n",
            "     sc\n",
            "    sci\n",
            "   scie\n",
            "  scien\n",
            " scienc\n",
            "science\n"
          ]
        }
      ]
    },
    {
      "cell_type": "code",
      "source": [
        "# --------------------------------------------------------------#\n",
        "\t# List-Program No \t: L3-P4-(a)\n",
        "\t# Developed By\t \t: Shesh Shiromani\n",
        "\t# Date        \t\t: 17-Aug-2023\n",
        "# --------------------------------------------------------------#\n",
        "n = input(\"Enter a string: \")\n",
        "for i in range(len(n)):\n",
        "  print(' ' * i + n[i])"
      ],
      "metadata": {
        "colab": {
          "base_uri": "https://localhost:8080/"
        },
        "id": "_R8f2on5Va1I",
        "outputId": "dbb1f91b-8f73-4eb4-cfde-3d67cb498f9e"
      },
      "execution_count": null,
      "outputs": [
        {
          "output_type": "stream",
          "name": "stdout",
          "text": [
            "Enter a string: science\n",
            "s\n",
            " c\n",
            "  i\n",
            "   e\n",
            "    n\n",
            "     c\n",
            "      e\n"
          ]
        }
      ]
    },
    {
      "cell_type": "code",
      "source": [
        "# --------------------------------------------------------------#\n",
        "\t# List-Program No \t: L3-P4-(b)\n",
        "\t# Developed By\t \t: Shesh Shiromani\n",
        "\t# Date        \t\t: 17-Aug-2023\n",
        "# --------------------------------------------------------------#\n",
        "n = input(\"Enter a string: \")\n",
        "for i in range(len(n)):\n",
        "  print(' ' * (len(n)-i) + n[len(n)-i-1])"
      ],
      "metadata": {
        "colab": {
          "base_uri": "https://localhost:8080/"
        },
        "id": "B_JnVjrrV1OD",
        "outputId": "340b4345-e426-4865-e755-3619434c6cba"
      },
      "execution_count": null,
      "outputs": [
        {
          "output_type": "stream",
          "name": "stdout",
          "text": [
            "Enter a string: science\n",
            "       e\n",
            "      c\n",
            "     n\n",
            "    e\n",
            "   i\n",
            "  c\n",
            " s\n"
          ]
        }
      ]
    },
    {
      "cell_type": "code",
      "source": [
        "# --------------------------------------------------------------#\n",
        "\t# List-Program No \t: L3-P4-(c)\n",
        "\t# Developed By\t \t: Shesh Shiromani\n",
        "\t# Date        \t\t: 17-Aug-2023\n",
        "# --------------------------------------------------------------#\n",
        "chars = input(\"Enter a string: \")\n",
        "\n",
        "for i in range(len(chars)):\n",
        "    print(' ' * i, end='')\n",
        "    print(chars[i], end='')\n",
        "\n",
        "    if i < len(chars) - 1:\n",
        "        print(' ' * (2 * (len(chars) - i - 1) - 1), end='')\n",
        "        print(chars[i])\n",
        "    else:\n",
        "        print()\n",
        "\n",
        "print(' ' * (len(chars) - 1) + chars[-1])\n"
      ],
      "metadata": {
        "colab": {
          "base_uri": "https://localhost:8080/"
        },
        "id": "BswXh4Q2-bfL",
        "outputId": "b3c7cbb8-3efe-4664-d8ef-086bc00bc364"
      },
      "execution_count": null,
      "outputs": [
        {
          "output_type": "stream",
          "name": "stdout",
          "text": [
            "Enter a string: science\n",
            "s           s\n",
            " c         c\n",
            "  i       i\n",
            "   e     e\n",
            "    n   n\n",
            "     c c\n",
            "      e\n",
            "      e\n"
          ]
        }
      ]
    },
    {
      "cell_type": "code",
      "source": [
        "# --------------------------------------------------------------#\n",
        "\t# List-Program No \t: L3-P5\n",
        "\t# Developed By\t \t: Shesh Shiromani\n",
        "\t# Date        \t\t: 17-Aug-2023\n",
        "# --------------------------------------------------------------#\n",
        "x = input(\"Enter a string: \")\n",
        "vowels = \"AEIOUaeiou\"\n",
        "word = \"\"\n",
        "for i in x:\n",
        "  if i in vowels:\n",
        "    word+=\"_\"\n",
        "  else:\n",
        "    word+=i\n",
        "print(word)"
      ],
      "metadata": {
        "colab": {
          "base_uri": "https://localhost:8080/"
        },
        "id": "lqrLEeJm_skl",
        "outputId": "aeaeca0a-72cc-4a21-dd63-e504ac62db33"
      },
      "execution_count": null,
      "outputs": [
        {
          "output_type": "stream",
          "name": "stdout",
          "text": [
            "Enter a string: apple\n",
            "_ppl_\n"
          ]
        }
      ]
    },
    {
      "cell_type": "code",
      "source": [
        "# --------------------------------------------------------------#\n",
        "\t# List-Program No \t: L3-P6\n",
        "\t# Developed By\t \t: Shesh Shiromani\n",
        "\t# Date        \t\t: 17-Aug-2023\n",
        "# --------------------------------------------------------------#\n",
        "string = input(\"Enter string: \")\n",
        "word = input(\"Enter word: \")\n",
        "if (string.find(word) == -1):\n",
        "  print(\"Word is not found\")\n",
        "else:\n",
        "  print(\"Word is found\")"
      ],
      "metadata": {
        "id": "W2ugqrEkXb_t",
        "colab": {
          "base_uri": "https://localhost:8080/"
        },
        "outputId": "de85b275-306b-4198-a34f-63db5741f80f"
      },
      "execution_count": null,
      "outputs": [
        {
          "output_type": "stream",
          "name": "stdout",
          "text": [
            "Enter string: Jacques Bermon Webster II\n",
            "Enter word: Drake\n",
            "Word is not found\n"
          ]
        }
      ]
    },
    {
      "cell_type": "code",
      "source": [
        "# --------------------------------------------------------------#\n",
        "\t# List-Program No \t: L3-P7\n",
        "\t# Developed By\t \t: Shesh Shiromani\n",
        "\t# Date        \t\t: 17-Aug-2023\n",
        "# --------------------------------------------------------------#\n",
        "x = input(\"Enter a string: \")\n",
        "words = len(x.split())\n",
        "print(\"Number of words in the string are: \",words)"
      ],
      "metadata": {
        "id": "culdkWRSHdZB",
        "colab": {
          "base_uri": "https://localhost:8080/"
        },
        "outputId": "ae0bd313-65d3-471a-de2b-ba2e7f0f9e65"
      },
      "execution_count": null,
      "outputs": [
        {
          "output_type": "stream",
          "name": "stdout",
          "text": [
            "Enter a string: A small box in the big box\n",
            "Number of words in the string are:  7\n"
          ]
        }
      ]
    },
    {
      "cell_type": "code",
      "source": [
        "# --------------------------------------------------------------#\n",
        "\t# List-Program No \t: L3-P8\n",
        "\t# Developed By\t \t: Shesh Shiromani\n",
        "\t# Date        \t\t: 17-Aug-2023\n",
        "# --------------------------------------------------------------#\n",
        "a = input(\"Enter string: \")\n",
        "b = input(\"Enter word: \")\n",
        "x = a.find(b)\n",
        "print(\"The word is found at: \",x)"
      ],
      "metadata": {
        "colab": {
          "base_uri": "https://localhost:8080/"
        },
        "id": "DEPYzeJlZeuf",
        "outputId": "db89892e-915a-4243-9e35-ce71bb3dcf28"
      },
      "execution_count": null,
      "outputs": [
        {
          "output_type": "stream",
          "name": "stdout",
          "text": [
            "Enter string: A small box in a big box\n",
            "Enter word: box\n",
            "The word is found at:  8\n"
          ]
        }
      ]
    },
    {
      "cell_type": "code",
      "source": [
        "# --------------------------------------------------------------#\n",
        "\t# List-Program No \t: L3-P9\n",
        "\t# Developed By\t \t: Shesh Shiromani\n",
        "\t# Date        \t\t: 17-Aug-2023\n",
        "# --------------------------------------------------------------#\n",
        "x = input(\"Enter string: \")\n",
        "a = x[:3]\n",
        "b = a[::-1]\n",
        "c = x[-3:]\n",
        "print(b+c)"
      ],
      "metadata": {
        "colab": {
          "base_uri": "https://localhost:8080/"
        },
        "id": "rXfiZeovbb6L",
        "outputId": "c0dce859-f40b-4bc8-8e6c-06d6fcfe5fba"
      },
      "execution_count": null,
      "outputs": [
        {
          "output_type": "stream",
          "name": "stdout",
          "text": [
            "Enter string: MOHAN'S TEAM SCORED 345\n",
            "HOM345\n"
          ]
        }
      ]
    },
    {
      "cell_type": "code",
      "source": [
        "# --------------------------------------------------------------#\n",
        "\t# List-Program No \t: L3-P10\n",
        "\t# Developed By\t \t: Shesh Shiromani\n",
        "\t# Date        \t\t: 17-Aug-2023\n",
        "# --------------------------------------------------------------#\n",
        "x = input(\"Enter string: \")\n",
        "a = x[:len(x)//2]\n",
        "b = a[::-1]\n",
        "c = x[len(x)//2:]\n",
        "print(c+b)"
      ],
      "metadata": {
        "colab": {
          "base_uri": "https://localhost:8080/"
        },
        "id": "OeeJRBMfdc1G",
        "outputId": "a208c393-3b44-4d28-858c-65c8ff1eeb50"
      },
      "execution_count": null,
      "outputs": [
        {
          "output_type": "stream",
          "name": "stdout",
          "text": [
            "Enter string: ABCDEFGH\n",
            "EFGHDCBA\n"
          ]
        }
      ]
    },
    {
      "cell_type": "code",
      "source": [
        "# --------------------------------------------------------------#\n",
        "\t# List-Program No \t: L3-P11\n",
        "\t# Developed By\t \t: Shesh Shiromani\n",
        "\t# Date        \t\t: 17-Aug-2023\n",
        "# --------------------------------------------------------------#\n",
        "x = input(\"Enter string: \")\n",
        "consonants = \"BCDFGHJKLMNPQRSTVWXYZbcdfghjklmnpqrstvwxyz\"\n",
        "vowels = \"AEIOUaeiou\"\n",
        "digits = \"0123456789\"\n",
        "\n",
        "vowel_count = 0\n",
        "consonant_count = 0\n",
        "digit_count = 0\n",
        "\n",
        "for vowel in vowels:\n",
        "  vowel_count+=x.count(vowel)\n",
        "\n",
        "for consonant in consonants:\n",
        "  consonant_count += x.count(consonant)\n",
        "\n",
        "for digit in digits:\n",
        "  digit_count += x.count(digit)\n",
        "\n",
        "print(\"Number of vowels: \",vowel_count)\n",
        "print(\"Number of consonants: \",consonant_count)\n",
        "print(\"Number of digits: \",digit_count)\n",
        "\n",
        "\n"
      ],
      "metadata": {
        "colab": {
          "base_uri": "https://localhost:8080/"
        },
        "id": "LakGpTuLfU86",
        "outputId": "e90cc23e-da18-4201-c016-368c58ea843f"
      },
      "execution_count": null,
      "outputs": [
        {
          "output_type": "stream",
          "name": "stdout",
          "text": [
            "Enter string: 10 HAFTE 10 BAJE\n",
            "Number of vowels:  4\n",
            "Number of consonants:  5\n",
            "Number of digits:  4\n"
          ]
        }
      ]
    },
    {
      "cell_type": "code",
      "source": [
        "# --------------------------------------------------------------#\n",
        "\t# List-Program No \t: L3-P12\n",
        "\t# Developed By\t \t: Shesh Shiromani\n",
        "\t# Date        \t\t: 17-Aug-2023\n",
        "# --------------------------------------------------------------#\n",
        "x = input(\"Enter string: \")\n",
        "y = x[::-1]\n",
        "if x == y:\n",
        "  print(\"String is a palindrome\")\n",
        "else:\n",
        "  print(\"String is not a palindrome\")"
      ],
      "metadata": {
        "colab": {
          "base_uri": "https://localhost:8080/"
        },
        "id": "EDbmJRIYhifD",
        "outputId": "4c01a808-c2ef-4296-af4e-4637b4210103"
      },
      "execution_count": null,
      "outputs": [
        {
          "output_type": "stream",
          "name": "stdout",
          "text": [
            "Enter string: DELHI\n",
            "String is not a palindrome\n"
          ]
        }
      ]
    },
    {
      "cell_type": "code",
      "source": [
        "# --------------------------------------------------------------#\n",
        "\t# List-Program No \t: L3-P13\n",
        "\t# Developed By\t \t: Shesh Shiromani\n",
        "\t# Date        \t\t: 17-Aug-2023\n",
        "# --------------------------------------------------------------#\n",
        "user1_string = input(\"User1, enter a string (less than 10 alphabets): \")\n",
        "\n",
        "while len(user1_string) >= 10 or not user1_string.isalpha():\n",
        "    user1_string = input(\"Invalid input. Please enter a string with less than 10 alphabets: \")\n",
        "\n",
        "print(\"\\n\" * 50)\n",
        "\n",
        "#initial string\n",
        "guessed_str = ''\n",
        "for ch in user1_string:\n",
        "    if ch in 'aeiou':\n",
        "        guessed_str += ch\n",
        "    else:\n",
        "        guessed_str += '_'\n",
        "\n",
        "print(\"Guess the string: \" + guessed_str)\n",
        "\n",
        "#initial variables\n",
        "attempts = 0\n",
        "max_attempts = 10\n",
        "score = 20\n",
        "guessed_letters = set()\n",
        "\n",
        "#game\n",
        "while attempts < max_attempts and '_' in guessed_str:\n",
        "    guess = input(\"User2, enter a single alphabet (attempt \" + str(attempts + 1) + \"/\" + str(max_attempts) + \"): \").lower()\n",
        "\n",
        "    if len(guess) != 1 or not guess.isalpha():\n",
        "        print(\"Invalid input. Please enter a single alphabet.\")\n",
        "        continue\n",
        "\n",
        "    if guess in guessed_letters:\n",
        "        print(\"You already guessed this letter.\")\n",
        "        score -= 2\n",
        "        continue\n",
        "\n",
        "    guessed_letters.add(guess)\n",
        "\n",
        "    new_guessed_str = ''\n",
        "    for i in range(len(user1_string)):\n",
        "        if user1_string[i] == guess or user1_string[i] in 'aeiou':\n",
        "            new_guessed_str += user1_string[i]\n",
        "        else:\n",
        "            new_guessed_str += guessed_str[i]\n",
        "\n",
        "    if new_guessed_str == guessed_str:\n",
        "        print(\"Wrong guess.\")\n",
        "        attempts += 1\n",
        "    else:\n",
        "        guessed_str = new_guessed_str\n",
        "        print(\"Correct guess!\")\n",
        "\n",
        "    print(\"Current guess: \" + guessed_str)\n",
        "\n",
        "#result\n",
        "if '_' not in guessed_str:\n",
        "    print(\"Congratulations! You've guessed the word.\")\n",
        "else:\n",
        "    print(\"Game over. You've used all attempts.\")\n",
        "\n",
        "print(\"Your final score is: \" + str(score))\n"
      ],
      "metadata": {
        "colab": {
          "base_uri": "https://localhost:8080/"
        },
        "id": "m687X5Kbmorb",
        "outputId": "ed3fd438-ad1d-4100-b6cf-8e30bc409d8d"
      },
      "execution_count": null,
      "outputs": [
        {
          "output_type": "stream",
          "name": "stdout",
          "text": [
            "User1, enter a string (less than 10 alphabets): rajwati\n",
            "\n",
            "\n",
            "\n",
            "\n",
            "\n",
            "\n",
            "\n",
            "\n",
            "\n",
            "\n",
            "\n",
            "\n",
            "\n",
            "\n",
            "\n",
            "\n",
            "\n",
            "\n",
            "\n",
            "\n",
            "\n",
            "\n",
            "\n",
            "\n",
            "\n",
            "\n",
            "\n",
            "\n",
            "\n",
            "\n",
            "\n",
            "\n",
            "\n",
            "\n",
            "\n",
            "\n",
            "\n",
            "\n",
            "\n",
            "\n",
            "\n",
            "\n",
            "\n",
            "\n",
            "\n",
            "\n",
            "\n",
            "\n",
            "\n",
            "\n",
            "\n",
            "Guess the string: _a__a_i\n",
            "User2, enter a single alphabet (attempt 1/10): s\n",
            "Wrong guess.\n",
            "Current guess: _a__a_i\n",
            "User2, enter a single alphabet (attempt 2/10): r\n",
            "Correct guess!\n",
            "Current guess: ra__a_i\n",
            "User2, enter a single alphabet (attempt 2/10): n\n",
            "Wrong guess.\n",
            "Current guess: ra__a_i\n",
            "User2, enter a single alphabet (attempt 3/10): p\n",
            "Wrong guess.\n",
            "Current guess: ra__a_i\n",
            "User2, enter a single alphabet (attempt 4/10): b\n",
            "Wrong guess.\n",
            "Current guess: ra__a_i\n",
            "User2, enter a single alphabet (attempt 5/10): h\n",
            "Wrong guess.\n",
            "Current guess: ra__a_i\n",
            "User2, enter a single alphabet (attempt 6/10): m\n",
            "Wrong guess.\n",
            "Current guess: ra__a_i\n",
            "User2, enter a single alphabet (attempt 7/10): j\n",
            "Correct guess!\n",
            "Current guess: raj_a_i\n",
            "User2, enter a single alphabet (attempt 7/10): t\n",
            "Correct guess!\n",
            "Current guess: raj_ati\n",
            "User2, enter a single alphabet (attempt 7/10): g\n",
            "Wrong guess.\n",
            "Current guess: raj_ati\n",
            "User2, enter a single alphabet (attempt 8/10): m\n",
            "You already guessed this letter.\n",
            "User2, enter a single alphabet (attempt 8/10): w\n",
            "Correct guess!\n",
            "Current guess: rajwati\n",
            "Congratulations! You've guessed the word.\n",
            "Your final score is: 18\n"
          ]
        }
      ]
    },
    {
      "cell_type": "code",
      "source": [],
      "metadata": {
        "id": "v4o64UcPnW5c"
      },
      "execution_count": null,
      "outputs": []
    }
  ]
}