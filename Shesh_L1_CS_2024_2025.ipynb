{
  "cells": [
    {
      "cell_type": "markdown",
      "metadata": {
        "id": "view-in-github",
        "colab_type": "text"
      },
      "source": [
        "<a href=\"https://colab.research.google.com/github/rbksh/11th-grade-CS/blob/main/Shesh_L1_CS_2024_2025.ipynb\" target=\"_parent\"><img src=\"https://colab.research.google.com/assets/colab-badge.svg\" alt=\"Open In Colab\"/></a>"
      ]
    },
    {
      "cell_type": "code",
      "source": [
        " # --------------------------------------------------------------#\n",
        "\t# List-Program No \t: L1-P6\n",
        "\t# Developed By\t \t: Shesh Shiromani\n",
        "\t# Date        \t\t: 19-April\n",
        "  # --------------------------------------------------------------#\n",
        "  # Write a Python program to calculate volume and area of a sphere. (Area= 4 π r2), (Volume= 4/3πr3)\n",
        "\n",
        "r= float(input(\"Radius of Sphere:    \"))\n",
        "v= 4*3.14*r*r\n",
        "\n",
        "print(\"Volume: \" , v , \"[mtr cube]\")\n",
        "\n",
        "s= 4*3.14*r*r*r/3\n",
        "\n",
        "print(\"Surface Area: \" ,s, \"[mtr sq]\")\n",
        "\n",
        "'''Radius of Sphere:    69420\n",
        "Volume:  60528353184.00001 [mtr cube]\n",
        "Surface Area:  1400626092677760.2 [mtr sq]'''"
      ],
      "metadata": {
        "colab": {
          "base_uri": "https://localhost:8080/"
        },
        "id": "XsPmOf8jtpf8",
        "outputId": "be555479-f987-4959-868a-435105747b00"
      },
      "execution_count": null,
      "outputs": [
        {
          "output_type": "stream",
          "name": "stdout",
          "text": [
            "Radius of Sphere:    69420\n",
            "Volume:  60528353184.00001 [mtr cube]\n",
            "Surface Area:  1400626092677760.2 [mtr sq]\n"
          ]
        }
      ]
    },
    {
      "cell_type": "code",
      "source": [
        " # --------------------------------------------------------------#\n",
        "\t# List-Program No \t: L1-P6\n",
        "\t# Developed By\t \t: Shesh Shiromani\n",
        "\t# Date        \t\t: 19-April-2024\n",
        "  # --------------------------------------------------------------#\n",
        "  #Write a program in to accept Qty of Fuel (in Litre) and Distance travelled (in KM) from the user, calculate and display the Average of the Vehicle (i.e. KM per Litre).\n",
        "Qty=float(input(\"Quantity: \"))\n",
        "Dist=float(input(\"Distance: \"))\n",
        "Avg=Dist/Qty\n",
        "print(\"Average: \",Avg)\n",
        "'''uantity: 6\n",
        "Distance: 7\n",
        "Average:  1.1666666666666667'''"
      ],
      "metadata": {
        "colab": {
          "base_uri": "https://localhost:8080/"
        },
        "id": "DeR6QxHRvr_y",
        "outputId": "1a916fd4-0813-4c96-a9c0-3ff7cd8ad9a7"
      },
      "execution_count": null,
      "outputs": [
        {
          "output_type": "stream",
          "name": "stdout",
          "text": [
            "Quantity: 6\n",
            "Distance: 7\n",
            "Average:  1.1666666666666667\n"
          ]
        }
      ]
    },
    {
      "cell_type": "code",
      "source": [
        " # --------------------------------------------------------------#\n",
        "\t# List-Program No \t: L1-P10\n",
        "\t# Developed By\t \t: Shesh Shiromani\n",
        "\t# Date        \t\t: 19-April-2024\n",
        "  # --------------------------------------------------------------#\n",
        "#  Write a program in to accept Marks of 5 subjects (each out of 100), calculate and display\n",
        "# (a) Total Marks obtained  (b) Average Marks\n",
        "Math=float(input(\"Maths Marks:   \"))\n",
        "Phy=float(input(\"Physics Marks: \"))\n",
        "Eng=float(input(\"English Marks: \"))\n",
        "Chem=float(input(\"Chemistry Marks: \"))\n",
        "CS=float(input(\"Computer Science Marks: \"))\n",
        "\n",
        "t= Math+Phy+Eng+Chem+CS\n",
        "\n",
        "print(\"Total Marks: \",t)\n",
        "\n",
        "Avg=t/5\n",
        "\n",
        "print(\"Average Marks: \",Avg)\n",
        "'''Maths Marks:   100\n",
        "Physics Marks: 100\n",
        "English Marks: 100\n",
        "Chemistry Marks: 100\n",
        "Computer Science Marks: 100\n",
        "Total Marks:  500.0\n",
        "Average Marks:  100.0'''"
      ],
      "metadata": {
        "colab": {
          "base_uri": "https://localhost:8080/"
        },
        "id": "N4kABzngyqaC",
        "outputId": "aea566b5-416a-47a0-b66f-01faf67846d2"
      },
      "execution_count": null,
      "outputs": [
        {
          "output_type": "stream",
          "name": "stdout",
          "text": [
            "Maths Marks:   100\n",
            "Physics Marks: 100\n",
            "English Marks: 100\n",
            "Chemistry Marks: 100\n",
            "Computer Science Marks: 100\n",
            "Total Marks:  500.0\n",
            "Average Marks:  100.0\n"
          ]
        }
      ]
    },
    {
      "cell_type": "code",
      "source": [
        " # --------------------------------------------------------------#\n",
        "\t# List-Program No \t: L1-P11\n",
        "\t# Developed By\t \t: Shesh Shiromani\n",
        "\t# Date        \t\t: 19-April-2024\n",
        "  # --------------------------------------------------------------#\n",
        "#  Write a program to allocate and display Block and Floor No on the basis of Customer Number. Assuming there are 10 Blocks (‘A’ to ‘J’) with 5 floors (0 to 4) each and allocated to customers sequentially as per their Customer Number. For example: Customer no 1 gets [Block A Floor 0], Customer no 3 gets [Block A Floor 2], Customer no 7 gets [Block B Floor 1]\n",
        "\n",
        "Customer = int(input(\"Customer number : \"))\n",
        "X = (Customer - 1 // 5)\n",
        "Y = (Customer // 5)\n",
        "Z = Y + 65\n",
        "print(\"\\n\\nYour Floor Will Be: \",X)\n",
        "print(\"Your Block Will Be: \",chr(Z))\n",
        "\n",
        "'''Customer number : 7\n",
        "\n",
        "\n",
        "Your Floor Will Be:  7\n",
        "Your Block Will Be:  B'''"
      ],
      "metadata": {
        "colab": {
          "base_uri": "https://localhost:8080/"
        },
        "id": "EKWASQr20eNR",
        "outputId": "62a5ba0e-3bde-4732-fedb-8981b125bd5c"
      },
      "execution_count": null,
      "outputs": [
        {
          "output_type": "stream",
          "name": "stdout",
          "text": [
            "Customer number : 7\n",
            "\n",
            "\n",
            "Your Floor Will Be:  7\n",
            "Your Block Will Be:  B\n"
          ]
        }
      ]
    },
    {
      "cell_type": "code",
      "source": [
        " # --------------------------------------------------------------#\n",
        "\t# List-Program No \t: L1-P12\n",
        "\t# Developed By\t \t: Shesh Shiromani\n",
        "\t# Date        \t\t: 19-April-2024\n",
        "  # --------------------------------------------------------------#\n",
        "#  Write a program to calculate total collection of a PARKING area on the basis of the number of vehicles under each category entered by the user. Per vehicle amounts for each type of vehicle is as follows:  Bus Rs. 100  SUV\tRs.40\tCAR\tRs.30\tTwo-Wheeler\tRs.10\n",
        "bus_rate = 100\n",
        "suv_rate = 40\n",
        "car_rate = 30\n",
        "two_wheeler_rate = 10\n",
        "num_buses = int(input(\"Number of Buses: \"))\n",
        "num_suvs = int(input(\"Number of SUVs: \"))\n",
        "num_cars = int(input(\"Number of Cars: \"))\n",
        "num_two_wheelers = int(input(\"Number of Two-Wheelers: \"))\n",
        "collection_buses = num_buses * bus_rate\n",
        "collection_suvs = num_suvs * suv_rate\n",
        "collection_cars = num_cars * car_rate\n",
        "collection_two_wheelers = num_two_wheelers * two_wheeler_rate\n",
        "total_collection = collection_buses + collection_suvs + collection_cars + collection_two_wheelers\n",
        "print(f\"Number of Buses        : {num_buses}\")\n",
        "print(f\"Number of SUVs         : {num_suvs}\")\n",
        "print(f\"Number of Cars         : {num_cars}\")\n",
        "print(f\"Number of Two-Wheelers : {num_two_wheelers}\")\n",
        "print(f\"Collection for Buses       : {collection_buses}\")\n",
        "print(f\"Collection for SUVs        : {collection_suvs}\")\n",
        "print(f\"Collection for Cars        : {collection_cars}\")\n",
        "print(f\"Collection for Two-Wheelers: {collection_two_wheelers}\")\n",
        "print(f\"Total Collection           : {total_collection}\")\n",
        "'''Number of Buses: 50\n",
        "Number of SUVs: 100\n",
        "Number of Cars: 200\n",
        "Number of Two-Wheelers: 45\n",
        "Number of Buses        : 50\n",
        "Number of SUVs         : 100\n",
        "Number of Cars         : 200\n",
        "Number of Two-Wheelers : 45\n",
        "Collection for Buses       : 5000\n",
        "Collection for SUVs        : 4000\n",
        "Collection for Cars        : 6000\n",
        "Collection for Two-Wheelers: 450\n",
        "Total Collection           : 15450'''\n"
      ],
      "metadata": {
        "colab": {
          "base_uri": "https://localhost:8080/"
        },
        "id": "sgM8KgNJ1GZL",
        "outputId": "e6bb894f-7c42-450a-e06d-2c13dd7e3cda"
      },
      "execution_count": null,
      "outputs": [
        {
          "output_type": "stream",
          "name": "stdout",
          "text": [
            "Number of Buses: 50\n",
            "Number of SUVs: 100\n",
            "Number of Cars: 200\n",
            "Number of Two-Wheelers: 45\n",
            "Number of Buses        : 50\n",
            "Number of SUVs         : 100\n",
            "Number of Cars         : 200\n",
            "Number of Two-Wheelers : 45\n",
            "Collection for Buses       : 5000\n",
            "Collection for SUVs        : 4000\n",
            "Collection for Cars        : 6000\n",
            "Collection for Two-Wheelers: 450\n",
            "Total Collection           : 15450\n"
          ]
        }
      ]
    },
    {
      "cell_type": "code",
      "source": [
        "a = int(input(\"enter first number: \"))\n",
        "b = int(input(\"enter second number: \"))\n"
      ],
      "metadata": {
        "id": "0B5GdIW8Nrk6"
      },
      "execution_count": null,
      "outputs": []
    },
    {
      "cell_type": "code",
      "source": [
        "  # --------------------------------------------------------------#\n",
        "\t# List-Program No \t: L1-P7\n",
        "\t# Developed By\t \t: Shesh Shiromani\n",
        "\t# Date        \t\t: 19-April-2024\n",
        "  # --------------------------------------------------------------#\n",
        "#Write a Python program to calculate volume (πr2h) and surface area (2πrh+2πr2 ) of a Cylindrical Oil Container.\n",
        "#Also\n",
        "#(i)\tCalculate the price of painting this Cylindrical Oil Container, if the price for painting is Rs. 530 per square meter.\n",
        "#(ii)\tMaximum cost of Petrol, that can be stored in the cylindrical container, if the price of petrol is Rs. 73 per litre . [Remember 1 mtr cube = 1000 litre]\n",
        "\n",
        "r = float(input(\"Radius of cylinder:      \"))\n",
        "h = float(input(\"Height of cylinder:      \"))\n",
        "v = 3.14*r*r*h\n",
        "\n",
        "print(\"Volume: \" , v , \"[mtr cube]\")\n",
        "\n",
        "s= 2*3.14*r*(h+r)\n",
        "p= 530*s\n",
        "l= 73*v\n",
        "\n",
        "print(\"Surface Area: \" , s ,     \"[mtr sq]\")\n",
        "print(\"Price of Painting \" , p , \"[mtr sq]\")\n",
        "print(\"Price of Petrol \" , l , \"[mtr cube]\")\n",
        "\n",
        "'''adius of cylinder:      6\n",
        "Height of cylinder:      9\n",
        "Volume:  1017.3599999999999 [mtr cube]\n",
        "Surface Area:  565.2 [mtr sq]\n",
        "Price of Painting  299556.0 [mtr sq]\n",
        "Price of Petrol  74267.28 [mtr cube]'''"
      ],
      "metadata": {
        "colab": {
          "base_uri": "https://localhost:8080/"
        },
        "id": "5QGv_kxFlGOJ",
        "outputId": "5e85db98-6d00-4e47-ed5a-87198371e0ca"
      },
      "execution_count": null,
      "outputs": [
        {
          "output_type": "stream",
          "name": "stdout",
          "text": [
            "Radius of cylinder:      6\n",
            "Height of cylinder:      9\n",
            "Volume:  1017.3599999999999 [mtr cube]\n",
            "Surface Area:  565.2 [mtr sq]\n",
            "Price of Painting  299556.0 [mtr sq]\n",
            "Price of Petrol  74267.28 [mtr cube]\n"
          ]
        }
      ]
    },
    {
      "cell_type": "code",
      "source": [
        "  # --------------------------------------------------------------#\n",
        "\t# List-Program No \t: L1-P6\n",
        "\t# Developed By\t \t: Shesh Shiromani\n",
        "\t# Date        \t\t: 19-April-2024\n",
        "  # --------------------------------------------------------------#\n",
        "'''Write a Python program to calculate the area of a parallelogram.\n",
        "Note : A parallelogram is a quadrilateral with opposite sides parallel (and therefore opposite angles equal). A quadrilateral with equal sides is called a rhombus, and a parallelogram whose angles are all right angles is called a rectangle.\n",
        "'''\n",
        "base = float(input(\"Enter the base of the parallelogram: \"))\n",
        "height = float(input(\"Enter the height of the parallelogram: \"))\n",
        "1\n",
        "area = base * height\n",
        "\n",
        "print(f\"The area of the parallelogram is: {area}\")\n",
        "'''Enter the base of the parallelogram: 25\n",
        "Enter the height of the parallelogram: 15\n",
        "The area of the parallelogram is: 375.0'''\n"
      ],
      "metadata": {
        "colab": {
          "base_uri": "https://localhost:8080/"
        },
        "id": "zpxbnXAVmVUH",
        "outputId": "c6e0e3d1-0456-4329-a988-3e93abea2d8c"
      },
      "execution_count": null,
      "outputs": [
        {
          "output_type": "stream",
          "name": "stdout",
          "text": [
            "Enter the base of the parallelogram: 25\n",
            "Enter the height of the parallelogram: 15\n",
            "The area of the parallelogram is: 375.0\n"
          ]
        }
      ]
    },
    {
      "cell_type": "code",
      "source": [
        "  # --------------------------------------------------------------#\n",
        "\t# List-Program No \t: L1-P5\n",
        "\t# Developed By\t \t: Shesh Shiromani\n",
        "\t# Date        \t\t: 19-April-2024\n",
        "  # --------------------------------------------------------------#\n",
        "\n",
        "\n",
        "'''Write a Python program to calculate the area of a trapezoid.\n",
        "Note : A trapezoid is a quadrilateral with two sides parallel. The trapezoid is equivalent to the British definition of the trapezium. An isosceles trapezoid is a trapezoid in which the base angles are equal.( Area= ½h(a+b), where h is the height and a ,b are length of parallel sides)\n",
        "'''\n",
        "b = float(input(\"Top Width:           \"))\n",
        "c = float(input(\"Bottom Width:        \"))\n",
        "x = a*(b+c)/2\n",
        "\n",
        "print(\"Area is: \" , x)\n",
        "'''Height of Trapezoid: 5\n",
        "Top Width:           2\n",
        "Bottom Width:        1\n",
        "Area is:  7.5'''\n"
      ],
      "metadata": {
        "colab": {
          "base_uri": "https://localhost:8080/"
        },
        "id": "cxCwHGY6lUn0",
        "outputId": "d72ba291-e159-428e-8254-a00130fdae65"
      },
      "execution_count": null,
      "outputs": [
        {
          "output_type": "stream",
          "name": "stdout",
          "text": [
            "Height of Trapezoid: 5\n",
            "Top Width:           2\n",
            "Bottom Width:        1\n",
            "Area is:  7.5\n"
          ]
        }
      ]
    },
    {
      "cell_type": "code",
      "source": [
        "  # --------------------------------------------------------------#\n",
        "\t# List-Program No \t: L1-P4\n",
        "\t# Developed By\t \t: Shesh Shiromani\n",
        "\t# Date        \t\t: 19-April-2024\n",
        "  # --------------------------------------------------------------#\n",
        "\n",
        "\n",
        "'''Write a Python program to convert radians to degrees.\n",
        "Sample Output:\n",
        "Input radians: 2\n",
        "In Degree    : 114.54545454545455\n",
        "'''\n",
        "pi = 3.141\n",
        "\n",
        "radians = float(input(\"Input radians: \"))\n",
        "\n",
        "degrees = radians * (180 / pi)\n",
        "\n",
        "print(f\"In Degrees: {degrees}\")\n",
        "'''Input radians: 3.141\n",
        "In Degrees: 180.0'''"
      ],
      "metadata": {
        "colab": {
          "base_uri": "https://localhost:8080/"
        },
        "id": "w7rJViC73oPi",
        "outputId": "63b094a3-1cb3-49c6-b3cd-c07447356e8a"
      },
      "execution_count": null,
      "outputs": [
        {
          "output_type": "stream",
          "name": "stdout",
          "text": [
            "Input radians: 3.141\n",
            "In Degrees: 180.0\n"
          ]
        }
      ]
    },
    {
      "cell_type": "code",
      "source": [
        "\n",
        " # --------------------------------------------------------------#\n",
        "\t# List-Program No \t: L1-P3\n",
        "\t# Developed By\t \t: Shesh Shiromani\n",
        "\t# Date        \t\t: 19-April-2024\n",
        "  # --------------------------------------------------------------#\n",
        "\n",
        "'''Write a Python program to convert degree to radian.\n",
        "Note : The radian is the standard unit of angular measure, used in many areas of mathematics. An angle's measurement in radians is numerically equal to the length of a corresponding arc of a unit circle; one radian is just under 57.3 degrees (when the arc length is equal to the radius).\n",
        "Sample output:\n",
        "Input degrees: 45\n",
        "In Radians: 0.7857142857142857'''\n",
        "\n",
        "pi = 3.141\n",
        "\n",
        "degrees = float(input(\"Input degrees: \"))\n",
        "\n",
        "radians = degrees * (pi / 180)\n",
        "print(f\"In Radians: {radians}\")\n",
        "\n",
        "'''Input degrees: 180\n",
        "In Radians: 3.141'''\n"
      ],
      "metadata": {
        "colab": {
          "base_uri": "https://localhost:8080/"
        },
        "id": "nxBTxcJO2y-c",
        "outputId": "78715df5-a2d2-4f13-94df-fd64c0a30ed1"
      },
      "execution_count": null,
      "outputs": [
        {
          "output_type": "stream",
          "name": "stdout",
          "text": [
            "Input degrees: 180\n",
            "In Radians: 3.141\n"
          ]
        }
      ]
    },
    {
      "cell_type": "code",
      "source": [
        " # --------------------------------------------------------------#\n",
        "\t# List-Program No \t: L1-P2\n",
        "\t# Developed By\t \t: Shesh Shiromani\n",
        "\t# Date        \t\t: 19-April-2024\n",
        "  # --------------------------------------------------------------#\n",
        "'''Write a program in python to accept Length (in inches of type float) and Breadth (in inches of type float) of a Rectangle.\n",
        "Find and display (a) Area of the rectangle and (b) Perimeter of the rectangle.'''\n",
        "\n",
        "length = float(input(\"Enter the length of the rectangle (in inches): \"))\n",
        "breadth = float(input(\"Enter the breadth of the rectangle (in inches): \"))\n",
        "\n",
        "area = length * breadth\n",
        "\n",
        "perimeter = 2 * (length + breadth)\n",
        "\n",
        "print(f\"Area of the rectangle: {area} square inches\")\n",
        "print(f\"Perimeter of the rectangle: {perimeter} inches\")\n",
        "\n",
        "'''Enter the length of the rectangle (in inches): 15\n",
        "Enter the breadth of the rectangle (in inches): 20\n",
        "Area of the rectangle: 300.0 square inches\n",
        "Perimeter of the rectangle: 70.0 inches\n",
        "'''\n"
      ],
      "metadata": {
        "colab": {
          "base_uri": "https://localhost:8080/",
          "height": 356
        },
        "id": "g-dL5rxd2E2x",
        "outputId": "4e283f8f-a9fe-40e2-edae-d47ebd6e7646"
      },
      "execution_count": null,
      "outputs": [
        {
          "output_type": "error",
          "ename": "KeyboardInterrupt",
          "evalue": "Interrupted by user",
          "traceback": [
            "\u001b[0;31m---------------------------------------------------------------------------\u001b[0m",
            "\u001b[0;31mKeyboardInterrupt\u001b[0m                         Traceback (most recent call last)",
            "\u001b[0;32m<ipython-input-9-2974669921a1>\u001b[0m in \u001b[0;36m<cell line: 9>\u001b[0;34m()\u001b[0m\n\u001b[1;32m      7\u001b[0m Find and display (a) Area of the rectangle and (b) Perimeter of the rectangle.'''\n\u001b[1;32m      8\u001b[0m \u001b[0;34m\u001b[0m\u001b[0m\n\u001b[0;32m----> 9\u001b[0;31m \u001b[0mlength\u001b[0m \u001b[0;34m=\u001b[0m \u001b[0mfloat\u001b[0m\u001b[0;34m(\u001b[0m\u001b[0minput\u001b[0m\u001b[0;34m(\u001b[0m\u001b[0;34m\"Enter the length of the rectangle (in inches): \"\u001b[0m\u001b[0;34m)\u001b[0m\u001b[0;34m)\u001b[0m\u001b[0;34m\u001b[0m\u001b[0;34m\u001b[0m\u001b[0m\n\u001b[0m\u001b[1;32m     10\u001b[0m \u001b[0mbreadth\u001b[0m \u001b[0;34m=\u001b[0m \u001b[0mfloat\u001b[0m\u001b[0;34m(\u001b[0m\u001b[0minput\u001b[0m\u001b[0;34m(\u001b[0m\u001b[0;34m\"Enter the breadth of the rectangle (in inches): \"\u001b[0m\u001b[0;34m)\u001b[0m\u001b[0;34m)\u001b[0m\u001b[0;34m\u001b[0m\u001b[0;34m\u001b[0m\u001b[0m\n\u001b[1;32m     11\u001b[0m \u001b[0;34m\u001b[0m\u001b[0m\n",
            "\u001b[0;32m/usr/local/lib/python3.10/dist-packages/ipykernel/kernelbase.py\u001b[0m in \u001b[0;36mraw_input\u001b[0;34m(self, prompt)\u001b[0m\n\u001b[1;32m    849\u001b[0m                 \u001b[0;34m\"raw_input was called, but this frontend does not support input requests.\"\u001b[0m\u001b[0;34m\u001b[0m\u001b[0;34m\u001b[0m\u001b[0m\n\u001b[1;32m    850\u001b[0m             )\n\u001b[0;32m--> 851\u001b[0;31m         return self._input_request(str(prompt),\n\u001b[0m\u001b[1;32m    852\u001b[0m             \u001b[0mself\u001b[0m\u001b[0;34m.\u001b[0m\u001b[0m_parent_ident\u001b[0m\u001b[0;34m,\u001b[0m\u001b[0;34m\u001b[0m\u001b[0;34m\u001b[0m\u001b[0m\n\u001b[1;32m    853\u001b[0m             \u001b[0mself\u001b[0m\u001b[0;34m.\u001b[0m\u001b[0m_parent_header\u001b[0m\u001b[0;34m,\u001b[0m\u001b[0;34m\u001b[0m\u001b[0;34m\u001b[0m\u001b[0m\n",
            "\u001b[0;32m/usr/local/lib/python3.10/dist-packages/ipykernel/kernelbase.py\u001b[0m in \u001b[0;36m_input_request\u001b[0;34m(self, prompt, ident, parent, password)\u001b[0m\n\u001b[1;32m    893\u001b[0m             \u001b[0;32mexcept\u001b[0m \u001b[0mKeyboardInterrupt\u001b[0m\u001b[0;34m:\u001b[0m\u001b[0;34m\u001b[0m\u001b[0;34m\u001b[0m\u001b[0m\n\u001b[1;32m    894\u001b[0m                 \u001b[0;31m# re-raise KeyboardInterrupt, to truncate traceback\u001b[0m\u001b[0;34m\u001b[0m\u001b[0;34m\u001b[0m\u001b[0m\n\u001b[0;32m--> 895\u001b[0;31m                 \u001b[0;32mraise\u001b[0m \u001b[0mKeyboardInterrupt\u001b[0m\u001b[0;34m(\u001b[0m\u001b[0;34m\"Interrupted by user\"\u001b[0m\u001b[0;34m)\u001b[0m \u001b[0;32mfrom\u001b[0m \u001b[0;32mNone\u001b[0m\u001b[0;34m\u001b[0m\u001b[0;34m\u001b[0m\u001b[0m\n\u001b[0m\u001b[1;32m    896\u001b[0m             \u001b[0;32mexcept\u001b[0m \u001b[0mException\u001b[0m \u001b[0;32mas\u001b[0m \u001b[0me\u001b[0m\u001b[0;34m:\u001b[0m\u001b[0;34m\u001b[0m\u001b[0;34m\u001b[0m\u001b[0m\n\u001b[1;32m    897\u001b[0m                 \u001b[0mself\u001b[0m\u001b[0;34m.\u001b[0m\u001b[0mlog\u001b[0m\u001b[0;34m.\u001b[0m\u001b[0mwarning\u001b[0m\u001b[0;34m(\u001b[0m\u001b[0;34m\"Invalid Message:\"\u001b[0m\u001b[0;34m,\u001b[0m \u001b[0mexc_info\u001b[0m\u001b[0;34m=\u001b[0m\u001b[0;32mTrue\u001b[0m\u001b[0;34m)\u001b[0m\u001b[0;34m\u001b[0m\u001b[0;34m\u001b[0m\u001b[0m\n",
            "\u001b[0;31mKeyboardInterrupt\u001b[0m: Interrupted by user"
          ]
        }
      ]
    },
    {
      "cell_type": "code",
      "execution_count": null,
      "metadata": {
        "colab": {
          "base_uri": "https://localhost:8080/"
        },
        "id": "V5SCcqLSoe0t",
        "outputId": "33ad36be-215b-41dc-c342-34c43eb3168d"
      },
      "outputs": [
        {
          "output_type": "stream",
          "name": "stdout",
          "text": [
            "Enter your first name: Shesh\n",
            "Enter your last name: Shiromani\n",
            "Good Day, Shesh Shiromani!\n"
          ]
        }
      ],
      "source": [
        "  # --------------------------------------------------------------#\n",
        "\t# List-Program No \t: L1-P1\n",
        "\t# Developed By\t \t: Shesh Shiromani\n",
        "\t# Date        \t\t: 19-April-2024\n",
        "  # --------------------------------------------------------------#\n",
        "'''Write a program in Python to accept First Name and Last Name from the user. Display \"Good Day\" wish combined with the First Name and Last Name.'''\n",
        "\n",
        "first_name = input(\"Enter your first name: \")\n",
        "last_name = input(\"Enter your last name: \")\n",
        "\n",
        "\n",
        "print(f\"Good Day, {first_name} {last_name}!\")\n"
      ]
    },
    {
      "cell_type": "code",
      "source": [
        "  # --------------------------------------------------------------#\n",
        "\t# List-Program No \t: L1-P13\n",
        "\t# Developed By\t \t: Shesh Shiromani\n",
        "\t# Date        \t\t: 19-April-2024\n",
        "  # --------------------------------------------------------------#\n",
        "\n",
        "BS = float(input(\"Enter basic salary: \"))\n",
        "DA = (30/100)*BS\n",
        "HRL = (1/4)*BS\n",
        "if BS < 50000:\n",
        "   Itax = (1/5)*BS\n",
        "elif BS >= 5000:\n",
        "    Itax = (1/10)*BS\n",
        "\n",
        "TS = BS + DA + HRL\n",
        "SALH = TS - Itax\n",
        "\n",
        "print(\"Basic Salary is: \",BS)\n",
        "print(\"Deaance Allownace is: \",DA)\n",
        "print(\"House rent allowance is: \",HRL)\n",
        "print(\"Income tax is: \",Itax)\n",
        "print(\"Total salary is: \",TS)\n",
        "print(\"Salary in hand is: \",SALH)\n",
        "'''Enter basic salary: 1000000\n",
        "Basic Salary is:  1000000.0\n",
        "Deaance Allownace is:  300000.0\n",
        "House rent allowance is:  250000.0\n",
        "Income tax is:  100000.0\n",
        "Total salary is:  1550000.0\n",
        "Salary in hand is:  1450000.0'''"
      ],
      "metadata": {
        "colab": {
          "base_uri": "https://localhost:8080/"
        },
        "id": "u1oS4ZqjWJSE",
        "outputId": "49f4d632-208f-4e9a-de12-64d9ba90a9ad"
      },
      "execution_count": null,
      "outputs": [
        {
          "output_type": "stream",
          "name": "stdout",
          "text": [
            "Enter basic salary: 1000000\n",
            "Basic Salary is:  1000000.0\n",
            "Deaance Allownace is:  300000.0\n",
            "House rent allowance is:  250000.0\n",
            "Income tax is:  100000.0\n",
            "Total salary is:  1550000.0\n",
            "Salary in hand is:  1450000.0\n"
          ]
        }
      ]
    },
    {
      "cell_type": "code",
      "source": [
        "  # --------------------------------------------------------------#\n",
        "\t# List-Program No \t: L1-P14\n",
        "\t# Developed By\t \t: Shesh Shiromani\n",
        "\t# Date        \t\t: 19-April-2024\n",
        "  # --------------------------------------------------------------#\n",
        "  '''Write a program to accept marks of English (ENG), marks of Maths (MAT), marks of Science (SCI) each out of 100, calculate and display the following:\n",
        "\t(a)\tTotal Marks (TOT) as ENG+MAT+SCI\n",
        "\t(b)\tPercentage of Marks (PER) as TOT/3\n",
        "\t(c)\tDisplay Grade as ‘A’ if PER>50 ‘B’ if PER>0 and ‘C’ if PER=0  '''\n",
        "\n",
        "Eng = float(input(\"Enter english marks: \"))\n",
        "Mat = float(input(\"Enter maths marks:   \"))\n",
        "Sci = float(input(\"Enter science marks: \"))\n",
        "TM = Eng + Mat + Sci\n",
        "print(\"Total marks are , \",TM)\n",
        "Per = TM/3\n",
        "print(\"% of marks is: \",Per)\n",
        "if Per>50:\n",
        "    print(\"Your grade is A\")\n",
        "elif Per>0:\n",
        "    print(\"Your grade is B\")\n",
        "elif Per==0:\n",
        "    print(\"Your grade is C\")\n",
        "'''Enter english marks: 92\n",
        "Enter maths marks:   97\n",
        "Enter science marks: 94\n",
        "Total marks are ,  283.0\n",
        "% of marks is:  94.33333333333333\n",
        "Your grade is A'''"
      ],
      "metadata": {
        "colab": {
          "base_uri": "https://localhost:8080/"
        },
        "id": "Y0EkipWVYNMP",
        "outputId": "3ce0ba81-7adc-47a1-b6f9-ef6e89bed0da"
      },
      "execution_count": null,
      "outputs": [
        {
          "output_type": "stream",
          "name": "stdout",
          "text": [
            "Enter english marks: 92\n",
            "Enter maths marks:   97\n",
            "Enter science marks: 94\n",
            "Total marks are ,  283.0\n",
            "% of marks is:  94.33333333333333\n",
            "Your grade is A\n"
          ]
        }
      ]
    },
    {
      "cell_type": "code",
      "source": [
        "  # --------------------------------------------------------------#\n",
        "\t# List-Program No \t: L1-P15\n",
        "\t# Developed By\t \t: Shesh Shiromani\n",
        "\t# Date        \t\t: 19-April-2024\n",
        "  # --------------------------------------------------------------#\n",
        "  '''Write a program to accept the age of the individual and display a message \"Allowed to get a license to Drive\" if Age entered by the user >=18 else display a message \"Wait for x years to get a Driving License\". Here, x to be replaced with 18-Age years.\n",
        "'''\n",
        "  Age = int(input(\"Enter you age: \"))\n",
        "  x = 18 - Age\n",
        "  if Age>=18:\n",
        "      print(\"Allowed to get a license to drive\")\n",
        "  else:\n",
        "      print(\"Wait for \",x,\"years\")\n",
        "'''Enter you age: 9\n",
        "Wait for  9 years'''"
      ],
      "metadata": {
        "colab": {
          "base_uri": "https://localhost:8080/"
        },
        "id": "KnH8Bqc_Z5qf",
        "outputId": "56c757f0-b4ea-4367-96ee-f5f358b9c79b"
      },
      "execution_count": null,
      "outputs": [
        {
          "output_type": "stream",
          "name": "stdout",
          "text": [
            "Enter you age: 9\n",
            "Wait for  9 years\n"
          ]
        }
      ]
    },
    {
      "cell_type": "code",
      "source": [
        "  # --------------------------------------------------------------#\n",
        "\t# List-Program No \t: L1-P17\n",
        "\t# Developed By\t \t: Shesh Shiromani\n",
        "\t# Date        \t\t: 19-April-2024\n",
        "  # --------------------------------------------------------------#\n",
        "  '''Write a program to accept marks of a student out of 100, find and display Grades ‘A’ to ‘F’ as per the following grade table using if else.\n",
        "Marks Range\t\tGrade\n",
        "100 -90\t\t\tA\n",
        "89.9-75\t\t\tB\n",
        "74.9-60\t\t\tC\n",
        "59.9-45\t\t\tD\n",
        "44.9-33\t\t\tE\n",
        "32.9-0\t\t\tF'''\n",
        "\n",
        "try:\n",
        "    marks = float(input(\"Enter the marks (0-100): \"))\n",
        "\n",
        "    if 90 <= marks <= 100:\n",
        "        grade = 'A'\n",
        "    elif 75 <= marks < 90:\n",
        "        grade = 'B'\n",
        "    elif 60 <= marks < 75:\n",
        "        grade = 'C'\n",
        "    elif 45 <= marks < 60:\n",
        "        grade = 'D'\n",
        "    elif 33 <= marks < 45:\n",
        "        grade = 'E'\n",
        "    elif 0 <= marks < 33:\n",
        "        grade = 'F'\n",
        "    else:\n",
        "        grade = 'Invalid marks'\n",
        "\n",
        "    print(f\"The grade for marks {marks} is: {grade}\")\n",
        "except ValueError:\n",
        "    print(\"Invalid input. Please enter a numeric value between 0 and 100.\")\n",
        "'''Enter the marks (0-100): 75\n",
        "The grade for marks 75.0 is: B'''"
      ],
      "metadata": {
        "colab": {
          "base_uri": "https://localhost:8080/"
        },
        "id": "1BVStS5NVpbr",
        "outputId": "f175d9b8-06bc-45ab-9310-447ad9798a02"
      },
      "execution_count": null,
      "outputs": [
        {
          "output_type": "stream",
          "name": "stdout",
          "text": [
            "Enter the marks (0-100): 75\n",
            "The grade for marks 75.0 is: B\n"
          ]
        }
      ]
    },
    {
      "cell_type": "markdown",
      "metadata": {
        "id": "44IYgn1hjJDL"
      },
      "source": []
    },
    {
      "cell_type": "code",
      "source": [
        "  # --------------------------------------------------------------#\n",
        "\t# List-Program No \t: L1-P19\n",
        "\t# Developed By\t \t: Shesh Shiromani\n",
        "\t# Date        \t\t: 19-April-2024\n",
        "  # --------------------------------------------------------------#\n",
        "\n",
        "'''Write a program to display the Floor for the various items in a SHOPPING MALL on the basis of Age and Gender entered by user as per the following table:\n",
        "\tAge\t\t\t\tGender\t\tFloor\n",
        "\t>=60\t\t\t\tM\t\t\t7\n",
        "\t>=20 and <60\t\t\tM\t\t\t6\n",
        "\t>=10 and <20\t\t\tM\t\t\t5\n",
        "\t<10\t\t\t\tM\t\t\t4\n",
        ">=58\t\t\t\tF\t\t\t3\n",
        "\t>=18 and <58\t\t\tF\t\t\t2\n",
        "\t>=10 and <18\t\t\tF\t\t\t1\n",
        "\t<10\t\t\t\tF\t\t\t0\n",
        "\n",
        "Sample Output 1:\n",
        "Age\t\t: 45\n",
        "Gender\t: F\n",
        "Floor\t\t: 2\n",
        "Sample Output 2:\n",
        "Age\t\t: 18\n",
        "Gender\t: M\n",
        "Floor\t\t: 5\n",
        "'''\n",
        "try:\n",
        "    age = int(input(\"Enter your age: \"))\n",
        "    gender = input(\"Enter your gender (M/F): \").strip().upper()\n",
        "\n",
        "    if gender == 'M':\n",
        "        if age >= 60:\n",
        "            floor = 7\n",
        "        elif 20 <= age < 60:\n",
        "            floor = 6\n",
        "        elif 10 <= age < 20:\n",
        "            floor = 5\n",
        "        elif age < 10:\n",
        "            floor = 4\n",
        "        else:\n",
        "            floor = \"Invalid age\"\n",
        "    elif gender == 'F':\n",
        "        if age >= 58:\n",
        "            floor = 3\n",
        "        elif 18 <= age < 58:\n",
        "            floor = 2\n",
        "        elif 10 <= age < 18:\n",
        "            floor = 1\n",
        "        elif age < 10:\n",
        "            floor = 0\n",
        "        else:\n",
        "            floor = \"Invalid age\"\n",
        "    else:\n",
        "        floor = \"Invalid gender\"\n",
        "\n",
        "    if isinstance(floor, int):\n",
        "        print(f\"Age      : {age}\")\n",
        "        print(f\"Gender   : {gender}\")\n",
        "        print(f\"Floor    : {floor}\")\n",
        "    else:\n",
        "        print(floor)\n",
        "except ValueError:\n",
        "    print(\"Invalid input. Please enter a numeric value for age.\")\n"
      ],
      "metadata": {
        "id": "Jb4mf4ucWkel"
      },
      "execution_count": null,
      "outputs": []
    },
    {
      "cell_type": "code",
      "source": [
        "  # --------------------------------------------------------------#\n",
        "\t# List-Program No \t: L1-P18\n",
        "\t# Developed By\t \t: Shesh Shiromani\n",
        "\t# Date        \t\t: 19-April-2024\n",
        "  # --------------------------------------------------------------#\n",
        "'''Write a program to make a calculator application with the following operations:\n",
        "(a)\tAccept values of two real numbers\n",
        "(b)\tAccept arithmetic operation to be performed out of ‘+’,‘-’,‘*’,‘/’,‘%’\n",
        "(c)\tPerform the desired arithmetic operation on two real number and display the result of operation as selected by the user'''\n",
        "\n",
        "try:\n",
        "\n",
        "    num1 = float(input(\"Enter the first number: \"))\n",
        "    num2 = float(input(\"Enter the second number: \"))\n",
        "\n",
        "    operation = input(\"Enter the operation (+, -, *, /, %): \").strip()\n",
        "\n",
        "    if operation == '+':\n",
        "        result = num1 + num2\n",
        "        print(f\"The result of {num1} + {num2} is: {result}\")\n",
        "    elif operation == '-':\n",
        "        result = num1 - num2\n",
        "        print(f\"The result of {num1} - {num2} is: {result}\")\n",
        "    elif operation == '*':\n",
        "        result = num1 * num2\n",
        "        print(f\"The result of {num1} * {num2} is: {result}\")\n",
        "    elif operation == '/':\n",
        "        if num2 != 0:\n",
        "            result = num1 / num2\n",
        "            print(f\"The result of {num1} / {num2} is: {result}\")\n",
        "        else:\n",
        "            print(\"Error: Division by zero is not allowed.\")\n",
        "    elif operation == '%':\n",
        "        if num2 != 0:\n",
        "            result = num1 % num2\n",
        "            print(f\"The result of {num1} % {num2} is: {result}\")\n",
        "        else:\n",
        "            print(\"Error: Division by zero is not allowed.\")\n",
        "    else:\n",
        "        print(\"Invalid operation. Please enter one of +, -, *, /, %.\")\n",
        "except ValueError:\n",
        "    print(\"Invalid input. Please enter numeric values for the numbers.\")\n",
        "'''Enter the first number: 37\n",
        "Enter the second number: 1729\n",
        "Enter the operation (+, -, *, /, %): %\n",
        "The result of 37.0 % 1729.0 is: 37.0'''"
      ],
      "metadata": {
        "colab": {
          "base_uri": "https://localhost:8080/"
        },
        "id": "N_z_uuuwWGiJ",
        "outputId": "196feb73-8474-42cd-dd89-c698d31f3f63"
      },
      "execution_count": null,
      "outputs": [
        {
          "output_type": "stream",
          "name": "stdout",
          "text": [
            "Enter the first number: 37\n",
            "Enter the second number: 1729\n",
            "Enter the operation (+, -, *, /, %): %\n",
            "The result of 37.0 % 1729.0 is: 37.0\n"
          ]
        }
      ]
    },
    {
      "cell_type": "code",
      "source": [
        "  # --------------------------------------------------------------#\n",
        "\t# List-Program No \t: L1-P16\n",
        "\t# Developed By\t \t: Shesh Shiromani\n",
        "\t# Date        \t\t: 19-April-2024\n",
        "  # --------------------------------------------------------------#\n",
        "'''Write a program to accept the grade of a student out of ‘A’ to ‘F’ from the user and display the range of marks on the screen as per the following table using if else.\n",
        "Grade\t\t\t\tMarks Range\n",
        "A\t\t\t\t100-90\n",
        "B\t\t\t\t89-75\n",
        "C\t\t\t\t74-60\n",
        "D\t\t\t\t59-45\n",
        "E\t\t\t\t44-33\n",
        "F\t\t\t\t32-0'''\n",
        "\n",
        "grade = input(\"Enter the grade (A to F): \").upper()\n",
        "\n",
        "if grade == 'A':\n",
        "    print(\"Marks Range: 100-90\")\n",
        "elif grade == 'B':\n",
        "    print(\"Marks Range: 89-75\")\n",
        "elif grade == 'C':\n",
        "    print(\"Marks Range: 74-60\")\n",
        "elif grade == 'D':\n",
        "    print(\"Marks Range: 59-45\")\n",
        "elif grade == 'E':\n",
        "    print(\"Marks Range: 44-33\")\n",
        "elif grade == 'F':\n",
        "    print(\"Marks Range: 32-0\")\n",
        "else:\n",
        "    print(\"Invalid grade entered.\")\n",
        "'''Enter the grade (A to F): B\n",
        "Marks Range: 89-75'''"
      ],
      "metadata": {
        "id": "expIf-sCcmhz",
        "colab": {
          "base_uri": "https://localhost:8080/"
        },
        "outputId": "7e0843f3-d778-4441-8e47-1a0c74e2def4"
      },
      "execution_count": null,
      "outputs": [
        {
          "output_type": "stream",
          "name": "stdout",
          "text": [
            "Enter the grade (A to F): B\n",
            "Marks Range: 89-75\n"
          ]
        }
      ]
    },
    {
      "cell_type": "code",
      "source": [
        "  # --------------------------------------------------------------#\n",
        "\t# List-Program No \t: L1-P20\n",
        "\t# Developed By\t \t: Shesh Shiromani\n",
        "\t# Date        \t\t: 19-April-2024\n",
        "  # --------------------------------------------------------------#\n",
        "\n",
        "'''Write a program to accept runs of three consecutive cricket matches, find and display the highest and lowest runs.\n",
        "Sample Output:\n",
        "Match 1 Runs: 320\n",
        "Match 2 Runs: 210\n",
        "Match 3 Runs: 275\n",
        "Highest Runs: 320 Lowest Runs : 210 '''\n",
        "\n",
        "match1_runs = int(input(\"Match 1 Runs: \"))\n",
        "match2_runs = int(input(\"Match 2 Runs: \"))\n",
        "match3_runs = int(input(\"Match 3 Runs: \"))\n",
        "\n",
        "if match1_runs >= match2_runs and match1_runs >= match3_runs:\n",
        "    highest = match1_runs\n",
        "elif match2_runs >= match1_runs and match2_runs >= match3_runs:\n",
        "    highest = match2_runs\n",
        "else:\n",
        "    highest = match3_runs\n",
        "\n",
        "if match1_runs <= match2_runs and match1_runs <= match3_runs:\n",
        "    lowest = match1_runs\n",
        "elif match2_runs <= match1_runs and match2_runs <= match3_runs:\n",
        "    lowest = match2_runs\n",
        "else:\n",
        "    lowest = match3_runs\n",
        "\n",
        "print(f\"Highest Runs: {highest}\")\n",
        "print(f\"Lowest Runs: {lowest}\")\n",
        "'''Match 1 Runs: 177\n",
        "Match 2 Runs: 250\n",
        "Match 3 Runs: 182\n",
        "Highest Runs: 250\n",
        "Lowest Runs: 177'''"
      ],
      "metadata": {
        "colab": {
          "base_uri": "https://localhost:8080/"
        },
        "id": "7cpqlMBuLfZv",
        "outputId": "6fea7f7b-7184-4f7f-cdfb-1555d315d576"
      },
      "execution_count": null,
      "outputs": [
        {
          "output_type": "stream",
          "name": "stdout",
          "text": [
            "Match 1 Runs: 177\n",
            "Match 2 Runs: 250\n",
            "Match 3 Runs: 182\n",
            "Highest Runs: 250\n",
            "Lowest Runs: 177\n"
          ]
        }
      ]
    },
    {
      "cell_type": "code",
      "source": [
        "  # --------------------------------------------------------------#\n",
        "\t# List-Program No \t: L1-P21\n",
        "\t# Developed By\t \t: Shesh Shiromani\n",
        "\t# Date        \t\t: 19-April-2024\n",
        "  # --------------------------------------------------------------#\n",
        "  '''Write a program to display the BLOCK of buildings in school allocated for a particular group of students as per their class and stream entered by the user.\n",
        "Class\t\t\tStream\t\tBlock\n",
        "11\t\t\t'S'\t\tF Block\n",
        "11\t\t\t'C'\t\tE Block\n",
        "11\t\t\t'H'\t\tD Block\n",
        "12\t\t\t'S'\t\tC Block\n",
        "12\t\t\t'C'\t\tB Block\n",
        "12\t\t\t'H'\t\tA Block\n",
        "'''\n",
        "\n",
        "student_class = int(input(\"Enter class (11 or 12): \"))\n",
        "student_stream = input(\"Enter stream ('S', 'C', or 'H'): \").upper()\n",
        "\n",
        "if student_class == 11:\n",
        "    if student_stream == 'S':\n",
        "        block = 'F Block'\n",
        "    elif student_stream == 'C':\n",
        "        block = 'E Block'\n",
        "    elif student_stream == 'H':\n",
        "        block = 'D Block'\n",
        "    else:\n",
        "        block = 'Invalid stream entered.'\n",
        "elif student_class == 12:\n",
        "    if student_stream == 'S':\n",
        "        block = 'C Block'\n",
        "    elif student_stream == 'C':\n",
        "        block = 'B Block'\n",
        "    elif student_stream == 'H':\n",
        "        block = 'A Block'\n",
        "    else:\n",
        "        block = 'Invalid stream entered.'\n",
        "else:\n",
        "    block = 'Invalid class entered.'\n",
        "\n",
        "print(block)\n",
        "'''Enter class (11 or 12): 11\n",
        "Enter stream ('S', 'C', or 'H'): s\n",
        "F Block'''"
      ],
      "metadata": {
        "colab": {
          "base_uri": "https://localhost:8080/"
        },
        "id": "TeDVSVEpxs1i",
        "outputId": "38ba1d5d-b18d-4c28-ceab-dea87b315ca2"
      },
      "execution_count": null,
      "outputs": [
        {
          "output_type": "stream",
          "name": "stdout",
          "text": [
            "Enter class (11 or 12): 11\n",
            "Enter stream ('S', 'C', or 'H'): s\n",
            "F Block\n"
          ]
        }
      ]
    },
    {
      "cell_type": "code",
      "source": [],
      "metadata": {
        "id": "VphCxzs5x51r"
      },
      "execution_count": null,
      "outputs": []
    }
  ],
  "metadata": {
    "colab": {
      "provenance": [],
      "gpuType": "T4",
      "authorship_tag": "ABX9TyNKj+CWd0bK7c8mpnixGXM5",
      "include_colab_link": true
    },
    "kernelspec": {
      "display_name": "Python 3",
      "name": "python3"
    },
    "language_info": {
      "name": "python"
    },
    "accelerator": "GPU"
  },
  "nbformat": 4,
  "nbformat_minor": 0
}