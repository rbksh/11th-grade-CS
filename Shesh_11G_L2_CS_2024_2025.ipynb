{
  "nbformat": 4,
  "nbformat_minor": 0,
  "metadata": {
    "colab": {
      "provenance": [],
      "include_colab_link": true
    },
    "kernelspec": {
      "name": "python3",
      "display_name": "Python 3"
    },
    "language_info": {
      "name": "python"
    }
  },
  "cells": [
    {
      "cell_type": "markdown",
      "metadata": {
        "id": "view-in-github",
        "colab_type": "text"
      },
      "source": [
        "<a href=\"https://colab.research.google.com/github/rbksh/11th-grade-CS/blob/main/Shesh_11G_L2_CS_2024_2025.ipynb\" target=\"_parent\"><img src=\"https://colab.research.google.com/assets/colab-badge.svg\" alt=\"Open In Colab\"/></a>"
      ]
    },
    {
      "cell_type": "code",
      "execution_count": null,
      "metadata": {
        "colab": {
          "base_uri": "https://localhost:8080/"
        },
        "id": "YJ56tGrPXToG",
        "outputId": "a2a901d0-cbda-4b29-ffd6-150f31e65ac0"
      },
      "outputs": [
        {
          "output_type": "stream",
          "name": "stdout",
          "text": [
            "Enter a number n: 5\n",
            "1\n",
            "2\n",
            "3\n",
            "4\n",
            "5\n"
          ]
        }
      ],
      "source": [
        "# --------------------------------------------------------------#\n",
        "\t# List-Program No \t: L2-P1-(a)\n",
        "\t# Developed By\t \t: Shesh Shiromani\n",
        "\t# Date        \t\t: 16-Jul-2024\n",
        "# --------------------------------------------------------------#\n",
        "n = int(input(\"Enter a number n: \"))\n",
        "\n",
        "s = 0\n",
        "for i in range(1,n+1,1):\n",
        "  print(i)\n"
      ]
    },
    {
      "cell_type": "code",
      "source": [
        "# --------------------------------------------------------------#\n",
        "\t# List-Program No \t: L2-P1-(b)\n",
        "\t# Developed By\t \t: Shesh Shiromani\n",
        "\t# Date        \t\t: 16-Jul-2024\n",
        "# --------------------------------------------------------------#\n",
        "n = int(input(\"Enter a number n: \"))\n",
        "\n",
        "s = 0\n",
        "for i in range(2,(2*n)+1,2):\n",
        "  s = i\n",
        "  print(s)\n"
      ],
      "metadata": {
        "colab": {
          "base_uri": "https://localhost:8080/"
        },
        "id": "cVTFaP1KYSZ8",
        "outputId": "806770fd-023c-43f7-cf4b-765beaa27759"
      },
      "execution_count": null,
      "outputs": [
        {
          "output_type": "stream",
          "name": "stdout",
          "text": [
            "Enter a number n: 6\n",
            "2\n",
            "4\n",
            "6\n",
            "8\n",
            "10\n",
            "12\n"
          ]
        }
      ]
    },
    {
      "cell_type": "code",
      "source": [
        "# --------------------------------------------------------------#\n",
        "\t# List-Program No \t: L2-P1-(c)\n",
        "\t# Developed By\t \t: Shesh Shiromani\n",
        "\t# Date        \t\t: 16-Jul-2024\n",
        "# --------------------------------------------------------------#\n",
        "n = int(input(\"Enter a number n: \"))\n",
        "\n",
        "s = 0\n",
        "for i in range(1,(4*n)+1,4):\n",
        "  s = i\n",
        "  print(s)\n"
      ],
      "metadata": {
        "colab": {
          "base_uri": "https://localhost:8080/"
        },
        "id": "oVY276phZJuU",
        "outputId": "c0458fa3-e234-49fc-ef5f-0a3a2e8c7410"
      },
      "execution_count": null,
      "outputs": [
        {
          "output_type": "stream",
          "name": "stdout",
          "text": [
            "Enter a number n: 6\n",
            "1\n",
            "5\n",
            "9\n",
            "13\n",
            "17\n",
            "21\n"
          ]
        }
      ]
    },
    {
      "cell_type": "code",
      "source": [
        "# --------------------------------------------------------------#\n",
        "\t# List-Program No \t: L2-P1-(d)\n",
        "\t# Developed By\t \t: Shesh Shiromani\n",
        "\t# Date        \t\t: 16-Jul-2024\n",
        "# --------------------------------------------------------------#\n",
        "n = int(input(\"Enter a number n: \"))\n",
        "x = int(input(\"Enter term x: \"))\n",
        "\n",
        "s = 0\n",
        "for i in range(1,n+1):\n",
        "  s = i\n",
        "  print(x**s)"
      ],
      "metadata": {
        "colab": {
          "base_uri": "https://localhost:8080/"
        },
        "id": "-7WLI9eYdiR1",
        "outputId": "9dde8ce4-1135-4eb0-de08-16d68b4e9003"
      },
      "execution_count": null,
      "outputs": [
        {
          "output_type": "stream",
          "name": "stdout",
          "text": [
            "Enter a number n: 3\n",
            "Enter term x: 2\n",
            "2\n",
            "4\n",
            "8\n"
          ]
        }
      ]
    },
    {
      "cell_type": "code",
      "source": [
        "# --------------------------------------------------------------#\n",
        "\t# List-Program No \t: L2-P1-(e)\n",
        "\t# Developed By\t \t: Shesh Shiromani\n",
        "\t# Date        \t\t: 16-Jul-2024\n",
        "# --------------------------------------------------------------#\n",
        "n = int(input(\"Enter a number n: \"))\n",
        "x = int(input(\"Enter term x: \"))\n",
        "\n",
        "s = 0\n",
        "p = 1\n",
        "for i in range(1,n+1):\n",
        "  s = i\n",
        "  p = p*i\n",
        "  print(x**s/p)"
      ],
      "metadata": {
        "colab": {
          "base_uri": "https://localhost:8080/"
        },
        "id": "6lGom1zdf-yR",
        "outputId": "1edee984-35b6-4746-e3bf-3d445759795e"
      },
      "execution_count": null,
      "outputs": [
        {
          "output_type": "stream",
          "name": "stdout",
          "text": [
            "Enter a number n: 3\n",
            "Enter term x: 2\n",
            "2.0\n",
            "2.0\n",
            "1.3333333333333333\n"
          ]
        }
      ]
    },
    {
      "cell_type": "code",
      "source": [
        "# --------------------------------------------------------------#\n",
        "\t# List-Program No \t: L2-P1-(f)\n",
        "\t# Developed By\t \t: Shesh Shiromani\n",
        "\t# Date        \t\t: 16-Jul-2024\n",
        "# --------------------------------------------------------------#\n",
        "x = int(input(\"Enter value of x: \"))\n",
        "n = int(input(\"Enter number of terms: \"))\n",
        "\n",
        "y = x\n",
        "sign = 1\n",
        "factorial = 1\n",
        "for i in range(2,n+1):\n",
        "  factorial *= i\n",
        "  y = sign * (x**i)/factorial\n",
        "  print(y)\n",
        "  sign *= -1"
      ],
      "metadata": {
        "id": "fyvF30Myi6qJ",
        "colab": {
          "base_uri": "https://localhost:8080/"
        },
        "outputId": "8e62e9fa-0d78-44bf-b2e9-905f2bb47c94"
      },
      "execution_count": null,
      "outputs": [
        {
          "output_type": "stream",
          "name": "stdout",
          "text": [
            "Enter value of x: 2\n",
            "Enter number of terms: 5\n",
            "2.0\n",
            "-1.3333333333333333\n",
            "0.6666666666666666\n",
            "-0.26666666666666666\n"
          ]
        }
      ]
    },
    {
      "cell_type": "code",
      "source": [
        "# --------------------------------------------------------------#\n",
        "\t# List-Program No \t: L2-P1-(g)\n",
        "\t# Developed By\t \t: Shesh Shiromani\n",
        "\t# Date        \t\t: 16-Jul-2024\n",
        "# --------------------------------------------------------------#\n",
        "n = int(input(\"Enter a number n: \"))\n",
        "\n",
        "s = 0\n",
        "t=0\n",
        "for i in range(1,n+1,1):\n",
        "  s = s+i\n",
        "  t = t+s\n",
        "  print(s)"
      ],
      "metadata": {
        "colab": {
          "base_uri": "https://localhost:8080/"
        },
        "id": "_dTHKMRAgv_3",
        "outputId": "949ea712-4f32-4e88-ebc6-577ebe6ce79d"
      },
      "execution_count": null,
      "outputs": [
        {
          "output_type": "stream",
          "name": "stdout",
          "text": [
            "Enter a number n: 5\n",
            "1\n",
            "3\n",
            "6\n",
            "10\n",
            "15\n"
          ]
        }
      ]
    },
    {
      "cell_type": "code",
      "source": [
        "# --------------------------------------------------------------#\n",
        "\t# List-Program No \t: L2-P1-(h)\n",
        "\t# Developed By\t \t: Shesh Shiromani\n",
        "\t# Date        \t\t: 16-Jul-2024\n",
        "# --------------------------------------------------------------#\n",
        "n = int(input(\"Enter a number n: \"))\n",
        "\n",
        "s = 0\n",
        "for i in range(1,n+1):\n",
        "  s += 2*i\n",
        "  print(s)"
      ],
      "metadata": {
        "id": "cwZL4UpPiVvd",
        "colab": {
          "base_uri": "https://localhost:8080/"
        },
        "outputId": "e45f7190-5225-4119-8680-225e765f99fd"
      },
      "execution_count": null,
      "outputs": [
        {
          "output_type": "stream",
          "name": "stdout",
          "text": [
            "Enter a number n: 5\n",
            "2\n",
            "6\n",
            "12\n",
            "20\n",
            "30\n"
          ]
        }
      ]
    },
    {
      "cell_type": "code",
      "source": [
        "# --------------------------------------------------------------#\n",
        "\t# List-Program No \t: L2-P2-(a)\n",
        "\t# Developed By\t \t: Shesh Shiromani\n",
        "\t# Date        \t\t: 16-Jul-2024\n",
        "# --------------------------------------------------------------#\n",
        "n = int(input(\"Enter a number n: \"))\n",
        "\n",
        "s = 0\n",
        "for i in range(1,n+1,1):\n",
        "  s = s+i\n",
        "print(s)"
      ],
      "metadata": {
        "colab": {
          "base_uri": "https://localhost:8080/"
        },
        "id": "N0Tmiy0LlzmQ",
        "outputId": "567653f3-10cc-4c65-bc77-8b0ac4b26b2d"
      },
      "execution_count": null,
      "outputs": [
        {
          "output_type": "stream",
          "name": "stdout",
          "text": [
            "Enter a number n: 5\n",
            "15\n"
          ]
        }
      ]
    },
    {
      "cell_type": "code",
      "source": [
        "# --------------------------------------------------------------#\n",
        "\t# List-Program No \t: L2-P2-(b)\n",
        "\t# Developed By\t \t: Shesh Shiromani\n",
        "\t# Date        \t\t: 16-Jul-2024\n",
        "# --------------------------------------------------------------#\n",
        "n = int(input(\"Enter a number n: \"))\n",
        "\n",
        "s = 0\n",
        "for i in range(2,(2*n)+1,2):\n",
        "  s = s+i\n",
        "print(s)\n"
      ],
      "metadata": {
        "colab": {
          "base_uri": "https://localhost:8080/"
        },
        "id": "BPAQSUCJoojr",
        "outputId": "c679625a-45f1-4679-b561-12bc789f8e29"
      },
      "execution_count": null,
      "outputs": [
        {
          "output_type": "stream",
          "name": "stdout",
          "text": [
            "Enter a number n: 6\n",
            "42\n"
          ]
        }
      ]
    },
    {
      "cell_type": "code",
      "source": [
        "# --------------------------------------------------------------#\n",
        "\t# List-Program No \t: L2-P2-(c)\n",
        "\t# Developed By\t \t: Shesh Shiromani\n",
        "\t# Date        \t\t: 16-Jul-2024\n",
        "# --------------------------------------------------------------#\n",
        "n = int(input(\"Enter a number n: \"))\n",
        "\n",
        "s = 0\n",
        "for i in range(1,(4*n)+1,4):\n",
        "  s = s+i\n",
        "print(s)"
      ],
      "metadata": {
        "colab": {
          "base_uri": "https://localhost:8080/"
        },
        "id": "JNWltvHhouqy",
        "outputId": "6a870d64-5f71-4aec-8012-ffaf53003526"
      },
      "execution_count": null,
      "outputs": [
        {
          "output_type": "stream",
          "name": "stdout",
          "text": [
            "Enter a number n: 6\n",
            "66\n"
          ]
        }
      ]
    },
    {
      "cell_type": "code",
      "source": [
        "# --------------------------------------------------------------#\n",
        "\t# List-Program No \t: L2-P2-(d)\n",
        "\t# Developed By\t \t: Shesh Shiromani\n",
        "\t# Date        \t\t: 16-Jul-2024\n",
        "# --------------------------------------------------------------#\n",
        "n = int(input(\"Enter a number n: \"))\n",
        "x = int(input(\"Enter term x: \"))\n",
        "\n",
        "s = 0\n",
        "for i in range(1,n+1):\n",
        "  s+=n**i\n",
        "print(s)"
      ],
      "metadata": {
        "colab": {
          "base_uri": "https://localhost:8080/"
        },
        "id": "lDC8KBt3pJYS",
        "outputId": "c6d26b3f-1b79-4e41-dff7-09dec5ae5f8b"
      },
      "execution_count": null,
      "outputs": [
        {
          "output_type": "stream",
          "name": "stdout",
          "text": [
            "Enter a number n: 2\n",
            "Enter term x: 3\n",
            "2\n",
            "6\n"
          ]
        }
      ]
    },
    {
      "cell_type": "code",
      "source": [
        "# --------------------------------------------------------------#\n",
        "\t# List-Program No \t: L2-P2-(e)\n",
        "\t# Developed By\t \t: Shesh Shiromani\n",
        "\t# Date        \t\t: 16-Jul-2024\n",
        "# --------------------------------------------------------------#\n",
        "s = 0\n",
        "x = float(input(\"Enter a number x: \"))\n",
        "n = int(input(\"Enter the number of terms n: \"))\n",
        "\n",
        "\n",
        "fact = 1\n",
        "term = x\n",
        "\n",
        "for i in range(1, n + 1):\n",
        "    if i > 1:\n",
        "        fact *= i\n",
        "    s += term / fact\n",
        "    term *= x\n",
        "\n",
        "print(s)\n"
      ],
      "metadata": {
        "colab": {
          "base_uri": "https://localhost:8080/"
        },
        "id": "VYGzFHMwSDvp",
        "outputId": "fa8e2b4f-e78d-45b2-9bcf-e5f828a0d7ca"
      },
      "execution_count": null,
      "outputs": [
        {
          "output_type": "stream",
          "name": "stdout",
          "text": [
            "Enter a number x: 2\n",
            "Enter the number of terms n: 4\n",
            "6.0\n"
          ]
        }
      ]
    },
    {
      "cell_type": "code",
      "source": [
        "# --------------------------------------------------------------#\n",
        "\t# List-Program No \t: L2-P2-(f)\n",
        "\t# Developed By\t \t: Shesh Shiromani\n",
        "\t# Date        \t\t: 16-Jul-2024\n",
        "# --------------------------------------------------------------#\n",
        "fact = 1\n",
        "s = 0\n",
        "x = int(input(\"Enter a number x: \"))\n",
        "n = int(input(\"Enter a number n: \"))\n",
        "\n",
        "for i in range(1,n+1):\n",
        "  fact*=i\n",
        "  s = s+((-1)**(i+1))*((x**i)/fact)\n",
        "print(round(s,3))"
      ],
      "metadata": {
        "colab": {
          "base_uri": "https://localhost:8080/"
        },
        "id": "-TTatOIgYaUw",
        "outputId": "b0d37b2f-4228-4b31-f5ad-41eeb32bb3ea"
      },
      "execution_count": null,
      "outputs": [
        {
          "output_type": "stream",
          "name": "stdout",
          "text": [
            "Enter a number x: 1\n",
            "Enter a number n: 3\n",
            "0.667\n"
          ]
        }
      ]
    },
    {
      "cell_type": "code",
      "source": [
        "# --------------------------------------------------------------#\n",
        "\t# List-Program No \t: L2-P2-(g)\n",
        "\t# Developed By\t \t: Shesh Shiromani\n",
        "\t# Date        \t\t: 16-Jul-2024\n",
        "# --------------------------------------------------------------#\n",
        "sum = 0\n",
        "n = int(input(\"Enter a number n: \"))\n",
        "for i in range(1,n+1):\n",
        "  s = 0\n",
        "  for j in range(1,i+1):\n",
        "    s += j\n",
        "  sum += s\n",
        "print(sum)"
      ],
      "metadata": {
        "colab": {
          "base_uri": "https://localhost:8080/"
        },
        "id": "bgFu8VDVbH1w",
        "outputId": "5a27d88a-408b-4416-aa22-c3e520cbce39"
      },
      "execution_count": null,
      "outputs": [
        {
          "output_type": "stream",
          "name": "stdout",
          "text": [
            "Enter a number n: 10\n",
            "220\n"
          ]
        }
      ]
    },
    {
      "cell_type": "code",
      "source": [
        "# --------------------------------------------------------------#\n",
        "\t# List-Program No \t: L2-P2-(h)\n",
        "\t# Developed By\t \t: Shesh Shiromani\n",
        "\t# Date        \t\t: 16-Jul-2024\n",
        "# --------------------------------------------------------------#\n",
        "n = int(input(\"Enter number of terms: \"))\n",
        "sum = 0\n",
        "for i in range(0,n+1):\n",
        "  k = 2\n",
        "  for j in range(1,i+1):\n",
        "    sum+=k\n",
        "    k=k+2\n",
        "print(sum)"
      ],
      "metadata": {
        "colab": {
          "base_uri": "https://localhost:8080/"
        },
        "id": "p6Pif0Rdevs8",
        "outputId": "f60e1317-91b1-46f7-ce20-f5c57628ee49"
      },
      "execution_count": null,
      "outputs": [
        {
          "output_type": "stream",
          "name": "stdout",
          "text": [
            "Enter number of terms: 5\n",
            "70\n"
          ]
        }
      ]
    },
    {
      "cell_type": "code",
      "source": [
        "# --------------------------------------------------------------#\n",
        "\t# List-Program No \t: L2-P3\n",
        "\t# Developed By\t \t: Shesh Shiromani\n",
        "\t# Date        \t\t: 16-Jul-2024\n",
        "# --------------------------------------------------------------#\n",
        "n = int(input(\"Enter a number n: \"))\n",
        "\n",
        "if n>1:\n",
        "  for i in range(2,n):\n",
        "    if n%i == 0:\n",
        "      print(\"Number is not prime\")\n",
        "      break\n",
        "  else:\n",
        "    print(\"Number is prime\")\n"
      ],
      "metadata": {
        "colab": {
          "base_uri": "https://localhost:8080/"
        },
        "id": "S8CqaeirMz2B",
        "outputId": "5f6aaf34-ab79-4072-eecc-67e01b89f339"
      },
      "execution_count": null,
      "outputs": [
        {
          "output_type": "stream",
          "name": "stdout",
          "text": [
            "Enter a number n: 37\n",
            "Number is prime\n"
          ]
        }
      ]
    },
    {
      "cell_type": "code",
      "source": [
        "# --------------------------------------------------------------#\n",
        "\t# List-Program No \t: L2-P4\n",
        "\t# Developed By\t \t: Shesh Shiromani\n",
        "\t# Date        \t\t: 16-Jul-2024\n",
        "# --------------------------------------------------------------#\n",
        "n = int(input(\"Enter a number n: \"))\n",
        "\n",
        "if n>1:\n",
        "  for i in range(2,n):\n",
        "    if n%i == 0:\n",
        "      print(\"Number is composite\")\n",
        "      break\n",
        "  else:\n",
        "      print(\"Number is not composite\")\n"
      ],
      "metadata": {
        "colab": {
          "base_uri": "https://localhost:8080/"
        },
        "id": "8cAZjWpkNJpu",
        "outputId": "e37ea69e-0998-4009-ca37-18fc96e57f3d"
      },
      "execution_count": null,
      "outputs": [
        {
          "output_type": "stream",
          "name": "stdout",
          "text": [
            "Enter a number n: 55\n",
            "Number is composite\n"
          ]
        }
      ]
    },
    {
      "cell_type": "code",
      "source": [
        "# --------------------------------------------------------------#\n",
        "\t# List-Program No \t: L2-P5\n",
        "\t# Developed By\t \t: Shesh Shiromani\n",
        "\t# Date        \t\t: 16-Jul-2024\n",
        "# --------------------------------------------------------------#\n",
        "n = int(input(\"Enter the number of prime numbers to print: \"))\n",
        "\n",
        "count = 0\n",
        "first = 2\n",
        "\n",
        "while count < n:\n",
        "    is_prime = True\n",
        "\n",
        "    for i in range(2, first):\n",
        "        if first % i == 0:\n",
        "            is_prime = False\n",
        "            break\n",
        "\n",
        "    if is_prime:\n",
        "        print(first, end=' ')\n",
        "        count += 1\n",
        "    first += 1\n",
        "\n"
      ],
      "metadata": {
        "colab": {
          "base_uri": "https://localhost:8080/"
        },
        "id": "oORRgi02AcJ1",
        "outputId": "cb5308be-62fb-4a51-b250-3d2541da0c50"
      },
      "execution_count": null,
      "outputs": [
        {
          "output_type": "stream",
          "name": "stdout",
          "text": [
            "Enter the number of prime numbers to print: 10\n",
            "2 3 5 7 11 13 17 19 23 29 "
          ]
        }
      ]
    },
    {
      "cell_type": "code",
      "source": [
        "# --------------------------------------------------------------#\n",
        "\t# List-Program No \t: L2-P6\n",
        "\t# Developed By\t \t: Shesh Shiromani\n",
        "\t# Date        \t\t: 16-Jul-2024\n",
        "# --------------------------------------------------------------#\n",
        "x = int(input(\"Enter the number: \"))\n",
        "for i in range(1, x+1):\n",
        "    c = 0\n",
        "    for j in range(1, i+1):\n",
        "        a = i % j\n",
        "        if a == 0:\n",
        "            c = c + 1\n",
        "\n",
        "    if c == 2:\n",
        "        print(i)\n",
        "    else:\n",
        "        i = i - 1\n",
        "\n",
        "    i = i + 1"
      ],
      "metadata": {
        "colab": {
          "base_uri": "https://localhost:8080/"
        },
        "id": "SS4_EOlu40vK",
        "outputId": "5c55550b-3a05-4c13-d740-33acaaba70f4"
      },
      "execution_count": null,
      "outputs": [
        {
          "output_type": "stream",
          "name": "stdout",
          "text": [
            "Enter the number: 7\n",
            "2\n",
            "3\n",
            "5\n",
            "7\n"
          ]
        }
      ]
    },
    {
      "cell_type": "code",
      "source": [
        "# --------------------------------------------------------------#\n",
        "\t# List-Program No \t: L2-P7\n",
        "\t# Developed By\t \t: Shesh Shiromani\n",
        "\t# Date        \t\t: 16-Jul-2024\n",
        "# --------------------------------------------------------------#\n",
        "n = int(input(\"Enter a number n: \"))\n",
        "s=0\n",
        "temp = n\n",
        "n_str = str(n)\n",
        "y = len(n_str)\n",
        "z = list(n_str)\n",
        "for i in range(y):\n",
        "  x = (int(z[i])**int(y))\n",
        "  s+=x\n",
        "if temp == s:\n",
        "  print(\"It is an armstrong number\")\n",
        "else:\n",
        "  print(\"It is not an armstrong number\")"
      ],
      "metadata": {
        "id": "ZmKiuo3iBQ1F",
        "colab": {
          "base_uri": "https://localhost:8080/"
        },
        "outputId": "9f42bd9d-b3ee-4a2a-9c58-c81806b32f47"
      },
      "execution_count": null,
      "outputs": [
        {
          "output_type": "stream",
          "name": "stdout",
          "text": [
            "Enter a number n: 153\n",
            "It is an armstrong number\n"
          ]
        }
      ]
    },
    {
      "cell_type": "code",
      "source": [
        "# --------------------------------------------------------------#\n",
        "\t# List-Program No \t: L2-P8\n",
        "\t# Developed By\t \t: Shesh Shiromani\n",
        "\t# Date        \t\t: 16-Jul-2024\n",
        "# --------------------------------------------------------------#\n",
        "N = int(input(\"Enter the value of N: \"))\n",
        "\n",
        "for num in range(N + 1):\n",
        "    if num == sum(int(digit) ** len(str(num)) for digit in str(num)):\n",
        "        print(num)\n"
      ],
      "metadata": {
        "colab": {
          "base_uri": "https://localhost:8080/"
        },
        "id": "oYol1pzhEldQ",
        "outputId": "435f7e53-80cb-4b08-fb35-81fed96a1e6b"
      },
      "execution_count": null,
      "outputs": [
        {
          "output_type": "stream",
          "name": "stdout",
          "text": [
            "Enter the value of N: 400\n",
            "0\n",
            "1\n",
            "2\n",
            "3\n",
            "4\n",
            "5\n",
            "6\n",
            "7\n",
            "8\n",
            "9\n",
            "153\n",
            "370\n",
            "371\n"
          ]
        }
      ]
    },
    {
      "cell_type": "code",
      "source": [
        "# --------------------------------------------------------------#\n",
        "\t# List-Program No \t: L2-P9\n",
        "\t# Developed By\t \t: Shesh Shiromani\n",
        "\t# Date        \t\t: 16-Jul-2024\n",
        "# --------------------------------------------------------------#\n",
        "n = int(input(\"Enter a number n: \"))\n",
        "rev = 0\n",
        "while n>0:\n",
        "  rem = n%10\n",
        "  rev = rev*10 + rem\n",
        "  n//=10\n",
        "string = str(rev)\n",
        "for i in string:\n",
        "  print(i,end='#')"
      ],
      "metadata": {
        "colab": {
          "base_uri": "https://localhost:8080/"
        },
        "id": "qfDpIl9eFXBe",
        "outputId": "82537241-a052-4cf9-a9ff-d2724a40b3c1"
      },
      "execution_count": null,
      "outputs": [
        {
          "output_type": "stream",
          "name": "stdout",
          "text": [
            "Enter a number n: 345\n",
            "5#4#3#"
          ]
        }
      ]
    },
    {
      "cell_type": "code",
      "source": [
        "# --------------------------------------------------------------#\n",
        "\t# List-Program No \t: L2-P10\n",
        "\t# Developed By\t \t: Shesh Shiromani\n",
        "\t# Date        \t\t: 16-Jul-2024\n",
        "# --------------------------------------------------------------#\n",
        "n = int(input(\"Enter a number n: \"))\n",
        "while n>0:\n",
        "  print(n%10, end = '')\n",
        "  n//=10"
      ],
      "metadata": {
        "id": "_K80nu_XUvo0",
        "colab": {
          "base_uri": "https://localhost:8080/"
        },
        "outputId": "1cf7d0d7-abe2-409b-c794-d5a8966aff40"
      },
      "execution_count": null,
      "outputs": [
        {
          "output_type": "stream",
          "name": "stdout",
          "text": [
            "Enter a number n: 34\n",
            "43"
          ]
        }
      ]
    },
    {
      "cell_type": "code",
      "source": [
        "# --------------------------------------------------------------#\n",
        "\t# List-Program No \t: L2-P11\n",
        "\t# Developed By\t \t: Shesh Shiromani\n",
        "\t# Date        \t\t: 16-Jul-2024\n",
        "# --------------------------------------------------------------#\n",
        "n=int(input(\"Enter a number: \"))\n",
        "temp=n\n",
        "rev=0\n",
        "while n>0:\n",
        "    rem=n%10\n",
        "    rev=rev*10+rem\n",
        "    n=n//10\n",
        "if temp==rev:\n",
        "    print(\"Number is a palindrome\")\n",
        "else:\n",
        "    print(\"Number is not a palindrome\")"
      ],
      "metadata": {
        "id": "PN4_TxhNiueZ",
        "colab": {
          "base_uri": "https://localhost:8080/"
        },
        "outputId": "85fcea09-f309-4a33-8aaa-8d3835480605"
      },
      "execution_count": null,
      "outputs": [
        {
          "output_type": "stream",
          "name": "stdout",
          "text": [
            "Enter a number: 121\n",
            "Number is a palindrome\n"
          ]
        }
      ]
    },
    {
      "cell_type": "code",
      "source": [
        "# --------------------------------------------------------------#\n",
        "\t# List-Program No \t: L2-P12\n",
        "\t# Developed By\t \t: Shesh Shiromani\n",
        "\t# Date        \t\t: 16-Jul-2024\n",
        "# --------------------------------------------------------------#\n",
        "n = int(input(\"Enter a number: \"))\n",
        "s = 0\n",
        "while n>0:\n",
        "  x = n%10\n",
        "  if x%2 == 1:\n",
        "    s+=x\n",
        "  n//=10\n",
        "print(s)"
      ],
      "metadata": {
        "id": "Vi57B0UqgdNJ",
        "colab": {
          "base_uri": "https://localhost:8080/"
        },
        "outputId": "625d9200-c3c1-4583-ea88-4649855c1a6f"
      },
      "execution_count": null,
      "outputs": [
        {
          "output_type": "stream",
          "name": "stdout",
          "text": [
            "Enter a number: 1834\n",
            "4\n"
          ]
        }
      ]
    },
    {
      "cell_type": "code",
      "source": [
        "# --------------------------------------------------------------#\n",
        "\t# List-Program No \t: L2-P13\n",
        "\t# Developed By\t \t: Shesh Shiromani\n",
        "\t# Date        \t\t: 16-Jul-2024\n",
        "# --------------------------------------------------------------#\n",
        "n = int(input(\"Enter a number n: \"))\n",
        "for i in range(1,n+1):\n",
        "  if n%i == 0:\n",
        "    print(i, end = ',')"
      ],
      "metadata": {
        "colab": {
          "base_uri": "https://localhost:8080/"
        },
        "id": "Ggujkemango-",
        "outputId": "9f8520a4-feed-4ad8-d721-a89b45649321"
      },
      "execution_count": null,
      "outputs": [
        {
          "output_type": "stream",
          "name": "stdout",
          "text": [
            "Enter a number n: 18\n",
            "1,2,3,6,9,18,"
          ]
        }
      ]
    },
    {
      "cell_type": "code",
      "source": [
        "# --------------------------------------------------------------#\n",
        "\t# List-Program No \t: L2-P14\n",
        "\t# Developed By\t \t: Shesh Shiromani\n",
        "\t# Date        \t\t: 16-Jul-2024\n",
        "# --------------------------------------------------------------#\n",
        "a = int(input(\"Enter a number: \"))\n",
        "b = int(input(\"Enter another number: \"))\n",
        "hcf = 1\n",
        "min = min(a,b)\n",
        "\n",
        "for i in range(1,min+1):\n",
        "  if a%i == 0 and b%i == 0:\n",
        "    hcf = i\n",
        "print(\"HCF of\", a, \"and\", b, \"is\", hcf)"
      ],
      "metadata": {
        "id": "qvzHk6siqXxD",
        "colab": {
          "base_uri": "https://localhost:8080/"
        },
        "outputId": "fdbb236f-d4c5-4d1b-ff5f-341d73ccaed8"
      },
      "execution_count": null,
      "outputs": [
        {
          "output_type": "stream",
          "name": "stdout",
          "text": [
            "Enter a number: 12\n",
            "Enter another number: 18\n",
            "HCF of 12 and 18 is 6\n"
          ]
        }
      ]
    },
    {
      "cell_type": "code",
      "source": [
        "# --------------------------------------------------------------#\n",
        "\t# List-Program No \t: L2-P15\n",
        "\t# Developed By\t \t: Shesh Shiromani\n",
        "\t# Date        \t\t: 16-Jul-2024\n",
        "# --------------------------------------------------------------#\n",
        "a = int(input(\"Enter a number: \"))\n",
        "b = int(input(\"Enter another number: \"))\n",
        "max = max(a,b)\n",
        "while True:\n",
        "\n",
        "  if max%a == 0 and max%b == 0:\n",
        "    lcm = max\n",
        "    break\n",
        "  max+=1\n",
        "print(\"LCM of\", a, \"and\", b, \"is\", lcm)"
      ],
      "metadata": {
        "colab": {
          "base_uri": "https://localhost:8080/"
        },
        "id": "r7ZY1I1arJwo",
        "outputId": "95074f89-74e7-4bb2-840e-dd140c00cbdd"
      },
      "execution_count": null,
      "outputs": [
        {
          "output_type": "stream",
          "name": "stdout",
          "text": [
            "Enter a number: 12\n",
            "Enter another number: 18\n",
            "LCM of 12 and 18 is 36\n"
          ]
        }
      ]
    },
    {
      "cell_type": "code",
      "source": [
        "# --------------------------------------------------------------#\n",
        "\t# List-Program No \t: L2-P16\n",
        "\t# Developed By\t \t: Shesh Shiromani\n",
        "\t# Date        \t\t: 16-Jul-2024\n",
        "# --------------------------------------------------------------#\n",
        "while True:\n",
        "  a = float(input(\"Enter first number: \"))\n",
        "  b = float(input(\"Enter second number: \"))\n",
        "  operation = input(\"Enter operation: (+,-,*,/): \")\n",
        "\n",
        "  if operation == \"+\":\n",
        "    print(\"Sum of the numbers is\", a+b)\n",
        "  elif operation == \"-\":\n",
        "    print(\"Difference of the numbers is\", a-b)\n",
        "  elif operation == \"*\":\n",
        "    print(\"Product of the numbers is\", a*b)\n",
        "  elif operation == \"/\":\n",
        "    print(\"Quotient of numbers is\", a/b)\n",
        "  y = input(\"More operations?(Y/N): \")\n",
        "  if y == \"N\":\n",
        "    print(\"Thank you!\")\n",
        "    break"
      ],
      "metadata": {
        "colab": {
          "base_uri": "https://localhost:8080/"
        },
        "id": "-Hui3EncYyJY",
        "outputId": "52cb05f1-7733-447c-b632-baccaa493fa6"
      },
      "execution_count": null,
      "outputs": [
        {
          "output_type": "stream",
          "name": "stdout",
          "text": [
            "Enter first number: 12\n",
            "Enter second number: 12\n",
            "Enter operation: (+,-,*,/): *\n",
            "Product of the numbers is 144.0\n",
            "More operations?(Y/N): Y\n",
            "Enter first number: 20\n",
            "Enter second number: 10\n",
            "Enter operation: (+,-,*,/): /\n",
            "Quotient of numbers is 2.0\n",
            "More operations?(Y/N): N\n",
            "Thank you.\n"
          ]
        }
      ]
    },
    {
      "cell_type": "code",
      "source": [
        "# --------------------------------------------------------------#\n",
        "\t# List-Program No \t: L2-P17\n",
        "\t# Developed By\t \t: Shesh Shiromani\n",
        "\t# Date        \t\t: 16-Jul-2024\n",
        "# --------------------------------------------------------------#\n",
        "\n",
        "while True:\n",
        "    shape = input(\"Object Shape [S:Square R:Rectangle C:Circle Q:Quit]: \").strip().upper()\n",
        "\n",
        "    if shape == 'S':\n",
        "        side = float(input(\"Enter Side: \"))\n",
        "        area = side * side\n",
        "        print(\"Area of square is\", area)\n",
        "\n",
        "    elif shape == 'R':\n",
        "        length = float(input(\"Enter Length: \"))\n",
        "        breadth = float(input(\"Enter Breadth: \"))\n",
        "        area = length * breadth\n",
        "        print(\"Area of Rectangle\", area)\n",
        "\n",
        "    elif shape == 'C':\n",
        "        radius = float(input(\"Enter Radius: \"))\n",
        "        area = 3.14 * radius * radius\n",
        "        print(\"Area of Circle\", area)\n",
        "\n",
        "    elif shape == 'Q':\n",
        "        print(\"Thanks\")\n",
        "        break\n",
        "\n",
        "    else:\n",
        "        print(\"Invalid choice. Please select again.\")\n"
      ],
      "metadata": {
        "colab": {
          "base_uri": "https://localhost:8080/"
        },
        "id": "D5jtlu__WEtK",
        "outputId": "a85e8461-ef39-4022-f0da-947cf18bbcef"
      },
      "execution_count": null,
      "outputs": [
        {
          "output_type": "stream",
          "name": "stdout",
          "text": [
            "Object Shape [S:Square R:Rectangle C:Circle Q:Quit]: R\n",
            "Enter Length: 20\n",
            "Enter Breadth: 10\n",
            "Area of Rectangle 200.0\n",
            "Object Shape [S:Square R:Rectangle C:Circle Q:Quit]: S\n",
            "Enter Side: 12\n",
            "Area of square is 144.0\n",
            "Object Shape [S:Square R:Rectangle C:Circle Q:Quit]: c\n",
            "Enter Radius: 5\n",
            "Area of Circle 78.5\n",
            "Object Shape [S:Square R:Rectangle C:Circle Q:Quit]: q\n",
            "Thanks\n"
          ]
        }
      ]
    },
    {
      "cell_type": "code",
      "source": [],
      "metadata": {
        "id": "G2TcM-DpXLz-"
      },
      "execution_count": null,
      "outputs": []
    }
  ]
}