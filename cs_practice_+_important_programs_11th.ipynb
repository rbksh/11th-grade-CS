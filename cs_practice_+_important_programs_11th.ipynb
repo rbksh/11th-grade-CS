{
  "cells": [
    {
      "cell_type": "markdown",
      "metadata": {
        "id": "U3nY6GAmqAO-"
      },
      "source": [
        "**PPT Questions**"
      ]
    },
    {
      "cell_type": "code",
      "execution_count": null,
      "metadata": {
        "colab": {
          "base_uri": "https://localhost:8080/"
        },
        "id": "uf8cSyjS-xZP",
        "outputId": "8844c744-b7c4-426d-adc4-624ed41ff9e6"
      },
      "outputs": [
        {
          "name": "stdout",
          "output_type": "stream",
          "text": [
            "1\n",
            "2\n",
            "3\n",
            "4\n",
            "5\n"
          ]
        }
      ],
      "source": [
        "for i in range(1,6):\n",
        "  print(i)"
      ]
    },
    {
      "cell_type": "code",
      "execution_count": null,
      "metadata": {
        "colab": {
          "base_uri": "https://localhost:8080/"
        },
        "id": "yqD0Jt0323Bv",
        "outputId": "53d81589-a7a7-46b6-9eb7-7b14342aa871"
      },
      "outputs": [
        {
          "name": "stdout",
          "output_type": "stream",
          "text": [
            "2\n",
            "4\n",
            "6\n",
            "8\n",
            "10\n"
          ]
        }
      ],
      "source": [
        "for i in range(2,11,2):\n",
        "  print(i)"
      ]
    },
    {
      "cell_type": "code",
      "execution_count": null,
      "metadata": {
        "colab": {
          "base_uri": "https://localhost:8080/"
        },
        "id": "2aA-Oi6MNaPr",
        "outputId": "b5e7b9f0-1f70-4cef-d0eb-2d40c5dea670"
      },
      "outputs": [
        {
          "name": "stdout",
          "output_type": "stream",
          "text": [
            "0\n",
            "1\n",
            "2\n",
            "3\n",
            "4\n",
            "5\n"
          ]
        }
      ],
      "source": [
        "for i in range(6):\n",
        "  print(i)"
      ]
    },
    {
      "cell_type": "code",
      "execution_count": null,
      "metadata": {
        "colab": {
          "base_uri": "https://localhost:8080/"
        },
        "id": "xD4gqsdXNl6D",
        "outputId": "2c07898d-9fa8-40b7-bf2c-2d020007d808"
      },
      "outputs": [
        {
          "name": "stdout",
          "output_type": "stream",
          "text": [
            "5\n",
            "4\n",
            "3\n",
            "2\n",
            "1\n"
          ]
        }
      ],
      "source": [
        "for i in range(5,0,-1):\n",
        "  print(i)"
      ]
    },
    {
      "cell_type": "code",
      "execution_count": null,
      "metadata": {
        "colab": {
          "base_uri": "https://localhost:8080/"
        },
        "id": "0R6MJYxXN2iT",
        "outputId": "ec13d291-7fbe-4bf4-c38a-4c5776b7721e"
      },
      "outputs": [
        {
          "name": "stdout",
          "output_type": "stream",
          "text": [
            "enter a number n: 10\n",
            "3,6,9,12,15,18,21,24,27,30,"
          ]
        }
      ],
      "source": [
        "n = int(input(\"enter a number n: \"))\n",
        "for i in range(3,3*n+1,3):\n",
        "  print(i,end=\",\")"
      ]
    },
    {
      "cell_type": "code",
      "execution_count": null,
      "metadata": {
        "colab": {
          "base_uri": "https://localhost:8080/"
        },
        "id": "-8VKUiLvOU0-",
        "outputId": "093b3ece-44f8-40ef-e623-0309c0b3fc47"
      },
      "outputs": [
        {
          "name": "stdout",
          "output_type": "stream",
          "text": [
            "enter a number n: 10\n",
            "3+6+9+12+15+18+21+24+27+30 = 165\n"
          ]
        }
      ],
      "source": [
        "n = int(input(\"enter a number n: \"))\n",
        "s=0\n",
        "for i in range(1,n):\n",
        "  s+=3*i\n",
        "  print(3*i,end=\"+\")\n",
        "\n",
        "s+=3*n\n",
        "print(3*n,\"=\",s)"
      ]
    },
    {
      "cell_type": "code",
      "execution_count": null,
      "metadata": {
        "colab": {
          "base_uri": "https://localhost:8080/"
        },
        "id": "ibrrLFc9PQky",
        "outputId": "afb9e295-e0f1-4d59-abb2-777f338c2b48"
      },
      "outputs": [
        {
          "name": "stdout",
          "output_type": "stream",
          "text": [
            "Enter Base:10\n",
            "Enter Power:10\n",
            "10 ^ 10 = 10000000000\n"
          ]
        }
      ],
      "source": [
        "Base=int(input(\"Enter Base:\"))\n",
        "Power=int(input(\"Enter Power:\"))\n",
        "Result=1\n",
        "for I in range(1,Power+1):\n",
        "  Result = Base**Power\n",
        "print(Base,\"^\",Power,\"=\",Result)"
      ]
    },
    {
      "cell_type": "code",
      "execution_count": null,
      "metadata": {
        "colab": {
          "base_uri": "https://localhost:8080/"
        },
        "id": "ruitWOh4T5vm",
        "outputId": "5ec268d3-4025-4b08-d6ee-24b022ff92cf"
      },
      "outputs": [
        {
          "name": "stdout",
          "output_type": "stream",
          "text": [
            "Enter N: 5\n",
            "5 != 120\n"
          ]
        }
      ],
      "source": [
        "N=int(input(\"Enter N: \"))\n",
        "Fact=1\n",
        "for I in range(2,N+1):\n",
        "  Fact*=I\n",
        "print(N,\"!=\",Fact)"
      ]
    },
    {
      "cell_type": "code",
      "execution_count": null,
      "metadata": {
        "colab": {
          "base_uri": "https://localhost:8080/"
        },
        "id": "JwT_FnI1UyLo",
        "outputId": "db9b015d-7366-4066-8afd-da2bdff4d541"
      },
      "outputs": [
        {
          "name": "stdout",
          "output_type": "stream",
          "text": [
            "Enter N:5\n",
            "1,5,"
          ]
        }
      ],
      "source": [
        "N=int(input(\"Enter N:\"))\n",
        "for I in range(1,N+1):\n",
        "  if N%I==0:\n",
        "    print(I,end=\",\")"
      ]
    },
    {
      "cell_type": "code",
      "execution_count": null,
      "metadata": {
        "colab": {
          "base_uri": "https://localhost:8080/"
        },
        "id": "uq-ai_e1WdAN",
        "outputId": "b7b48d77-3aeb-4486-8ad2-a0a4511ffbf5"
      },
      "outputs": [
        {
          "name": "stdout",
          "output_type": "stream",
          "text": [
            "enter a number a: 12\n",
            "enter a number b: 18\n",
            "1,2,3,6,"
          ]
        }
      ],
      "source": [
        "a = int(input(\"enter a number a: \"))\n",
        "b = int(input(\"enter a number b: \"))\n",
        "if a<b:\n",
        "  min = a\n",
        "else:\n",
        "  min = b\n",
        "for i in range(1,min+1):\n",
        "  if a%i==0 and b%i==0:\n",
        "    print(i,end=\",\")"
      ]
    },
    {
      "cell_type": "code",
      "execution_count": null,
      "metadata": {
        "colab": {
          "base_uri": "https://localhost:8080/"
        },
        "id": "LlIDsEFDXFud",
        "outputId": "b5713bdc-2320-4353-fe25-2abfdc2a8f7a"
      },
      "outputs": [
        {
          "name": "stdout",
          "output_type": "stream",
          "text": [
            "A:2\n",
            "B:4\n",
            "HCF of 2 and 4 is 2\n",
            "LCM of 2 and 4 is 4\n"
          ]
        }
      ],
      "source": [
        "A=int(input(\"A:\"))\n",
        "B=int(input(\"B:\"))\n",
        "HCF=1\n",
        "if A<B:\n",
        "  MIN=A\n",
        "else:\n",
        "  MIN=B\n",
        "for I in range(1,MIN+1):\n",
        "  if A%I==0 and B%I==0:\n",
        "    HCF=I\n",
        "print(\"HCF of\",A,\"and\",B,\"is\",HCF)\n",
        "print(\"LCM of\",A,\"and\",B,\"is\",A*B//HCF)\n"
      ]
    },
    {
      "cell_type": "code",
      "execution_count": null,
      "metadata": {
        "colab": {
          "base_uri": "https://localhost:8080/"
        },
        "id": "mfpfr8GXX6xa",
        "outputId": "ef759e9a-7dd6-4d0b-fce9-79c6f539536f"
      },
      "outputs": [
        {
          "name": "stdout",
          "output_type": "stream",
          "text": [
            "Enter N:10\n",
            "0,1,1,2,3,5,8,13,21,34,"
          ]
        }
      ],
      "source": [
        "N=int(input(\"Enter N:\"))\n",
        "A=0;B=1\n",
        "for I in range(1,N+1):\n",
        "  print(A,end=\",\")\n",
        "  A,B=B,A+B\n"
      ]
    },
    {
      "cell_type": "code",
      "execution_count": null,
      "metadata": {
        "colab": {
          "base_uri": "https://localhost:8080/"
        },
        "id": "L4ea9_EvctFj",
        "outputId": "444216e0-3b74-4f1f-a663-2f8197daefdd"
      },
      "outputs": [
        {
          "name": "stdout",
          "output_type": "stream",
          "text": [
            "10,11,12,13,"
          ]
        }
      ],
      "source": [
        "for I in range(10,21):\n",
        "  if I%7!=0:\n",
        "    print(I,end=\",\")\n",
        "  else:\n",
        "    break\n",
        "else:\n",
        "  print(\"All Done!\")"
      ]
    },
    {
      "cell_type": "code",
      "execution_count": null,
      "metadata": {
        "colab": {
          "base_uri": "https://localhost:8080/"
        },
        "id": "JSL7CWJJdi14",
        "outputId": "12aac1f7-d09e-41d3-fd39-b2add1ca2a02"
      },
      "outputs": [
        {
          "name": "stdout",
          "output_type": "stream",
          "text": [
            "2\n",
            "4\n",
            "6\n",
            "8\n",
            "done\n"
          ]
        }
      ],
      "source": [
        "for i in range(2,10,2):\n",
        "  if i%10!=0:\n",
        "    print(i)\n",
        "  else:\n",
        "    break\n",
        "else:\n",
        "  print(\"done\")"
      ]
    },
    {
      "cell_type": "code",
      "execution_count": null,
      "metadata": {
        "colab": {
          "base_uri": "https://localhost:8080/"
        },
        "id": "py6tJhLziH4j",
        "outputId": "dcd770c8-a055-4747-bc5c-da92b381baee"
      },
      "outputs": [
        {
          "name": "stdout",
          "output_type": "stream",
          "text": [
            "enter a number: 1\n",
            "neither prime nor composte\n"
          ]
        }
      ],
      "source": [
        "n = int(input(\"enter a number: \"))\n",
        "if n>1:\n",
        "  for i in range(2,n):\n",
        "    if n%i==0:\n",
        "      print(\"number is composite\")\n",
        "      break\n",
        "    else:\n",
        "      print(\"number is prime\")\n",
        "else:\n",
        "  print(\"neither prime nor composte\")"
      ]
    },
    {
      "cell_type": "code",
      "execution_count": null,
      "metadata": {
        "colab": {
          "base_uri": "https://localhost:8080/"
        },
        "id": "2o4UDH-nmmaY",
        "outputId": "e2c78d89-b4cd-4b6f-de40-eddac3e57704"
      },
      "outputs": [
        {
          "name": "stdout",
          "output_type": "stream",
          "text": [
            "enter a natural number3\n",
            "1+4+7+= 12\n"
          ]
        }
      ],
      "source": [
        "n = int(input(\"enter a natural number\"))\n",
        "s=0\n",
        "for i in range(1,3*n+1,3):\n",
        "  print(i,end=\"+\")\n",
        "  s=s+i\n",
        "print(\"=\",s)"
      ]
    },
    {
      "cell_type": "code",
      "execution_count": null,
      "metadata": {
        "colab": {
          "base_uri": "https://localhost:8080/"
        },
        "id": "hhvgk7FVk9In",
        "outputId": "1f42cdc2-7564-4122-d986-bc0064365f99"
      },
      "outputs": [
        {
          "name": "stdout",
          "output_type": "stream",
          "text": [
            "enter a natural number4\n",
            "1+2+3+4+= 10\n"
          ]
        }
      ],
      "source": [
        "n = int(input(\"enter a natural number\"))\n",
        "s=0\n",
        "for i in range(1,n+1):\n",
        "  print(i,end=\"+\")\n",
        "  s=s+i\n",
        "print(\"=\",s)"
      ]
    },
    {
      "cell_type": "code",
      "execution_count": null,
      "metadata": {
        "colab": {
          "base_uri": "https://localhost:8080/"
        },
        "id": "6t4Tjjwan4mQ",
        "outputId": "475e6da2-7d16-4432-a7bd-7347651d2dc5"
      },
      "outputs": [
        {
          "name": "stdout",
          "output_type": "stream",
          "text": [
            "enter a natural number4\n",
            "enter x: 3\n",
            "3.0+9.0+27.0+81.0+= 120.0\n"
          ]
        }
      ],
      "source": [
        "n = int(input(\"enter a natural number\"))\n",
        "x = float(input(\"enter x: \"))\n",
        "s=0\n",
        "for i in range(1,n+1):\n",
        "  print(x**i,end=\"+\")\n",
        "  s=s+x**i\n",
        "print(\"=\",s)\n"
      ]
    },
    {
      "cell_type": "code",
      "execution_count": null,
      "metadata": {
        "colab": {
          "base_uri": "https://localhost:8080/"
        },
        "id": "UR058d9ioLds",
        "outputId": "d59b596c-c5d4-4cae-ed3f-3c24351b547b"
      },
      "outputs": [
        {
          "name": "stdout",
          "output_type": "stream",
          "text": [
            "enter a natural number n: 5\n",
            "enter x: 10\n",
            "10.0+100.0+1000.0+10000.0+100000.0+= 111110.0\n"
          ]
        }
      ],
      "source": [
        "n=int(input(\"enter a natural number n: \"))\n",
        "x=float(input(\"enter x: \"))\n",
        "s=0\n",
        "for i in range(1,n+1):\n",
        "  print(x**i,end=\"+\")\n",
        "  s=s+x**i\n",
        "print(\"=\", s)"
      ]
    },
    {
      "cell_type": "code",
      "execution_count": null,
      "metadata": {
        "id": "7njBbcGypDh5"
      },
      "outputs": [],
      "source": []
    },
    {
      "cell_type": "markdown",
      "metadata": {
        "id": "KoTjwc_Ip1EA"
      },
      "source": [
        "**Assignment Booklet Questions(without while loop)**"
      ]
    },
    {
      "cell_type": "code",
      "execution_count": null,
      "metadata": {
        "colab": {
          "base_uri": "https://localhost:8080/"
        },
        "id": "HJ5SyhSLp9IO",
        "outputId": "466ab6cf-4b68-40bc-8102-a080cd532d06"
      },
      "outputs": [
        {
          "name": "stdout",
          "output_type": "stream",
          "text": [
            "enter a natural number n: 5\n",
            "2\n",
            "6\n",
            "24\n",
            "120\n",
            "5 120\n"
          ]
        }
      ],
      "source": [
        "n = int(input(\"enter a natural number n: \"))\n",
        "f=1\n",
        "for i in range(2,n+1):\n",
        "  print(f*i)\n",
        "  f=f*i\n",
        "print(n,f)"
      ]
    },
    {
      "cell_type": "code",
      "execution_count": null,
      "metadata": {
        "colab": {
          "base_uri": "https://localhost:8080/"
        },
        "id": "bB9lF_2Gqhhn",
        "outputId": "f844340e-6b9b-4b25-dd37-48403a600d87"
      },
      "outputs": [
        {
          "name": "stdout",
          "output_type": "stream",
          "text": [
            "enter a 3\n",
            "enter b 2\n",
            "8\n"
          ]
        }
      ],
      "source": [
        "a = int(input(\"enter a \"))\n",
        "b = int(input(\"enter b \"))\n",
        "r = 1\n",
        "for i in range(1,b+1):\n",
        "  r=b**a\n",
        "print(r)"
      ]
    },
    {
      "cell_type": "code",
      "execution_count": null,
      "metadata": {
        "colab": {
          "base_uri": "https://localhost:8080/"
        },
        "id": "nOLgeP3ls7Gx",
        "outputId": "f7aeb963-4caf-4f85-a85e-84a433ee03e7"
      },
      "outputs": [
        {
          "name": "stdout",
          "output_type": "stream",
          "text": [
            "enter an integer: 10\n",
            "1\n",
            "2\n",
            "5\n",
            "10\n"
          ]
        }
      ],
      "source": [
        "a = int(input(\"enter an integer: \"))\n",
        "for i in range(1,a+1):\n",
        "  if a%i==0:\n",
        "    print(i)"
      ]
    },
    {
      "cell_type": "code",
      "execution_count": null,
      "metadata": {
        "colab": {
          "base_uri": "https://localhost:8080/"
        },
        "id": "fS89Oov9tJ4f",
        "outputId": "22061d25-2bf7-4dd5-fd7e-36fc80be73fb"
      },
      "outputs": [
        {
          "name": "stdout",
          "output_type": "stream",
          "text": [
            "enter a number: 2\n",
            "enter a number: 4\n",
            "2\n",
            "4\n"
          ]
        }
      ],
      "source": [
        "a=int(input(\"enter a number: \"))\n",
        "b=int(input(\"enter a number: \"))\n",
        "hcf=1\n",
        "if a<b:\n",
        "  min=a\n",
        "else:\n",
        "  min=b\n",
        "for i in range(1,min+1):\n",
        "  if a%i==0 and b%i==0:\n",
        "    hcf=i\n",
        "print(hcf)\n",
        "lcm=(a*b)//hcf\n",
        "print(lcm)"
      ]
    },
    {
      "cell_type": "code",
      "execution_count": null,
      "metadata": {
        "colab": {
          "base_uri": "https://localhost:8080/"
        },
        "id": "DFVRsULrt-c8",
        "outputId": "aa8a1048-d6a6-4c5b-8187-070f647c41f8"
      },
      "outputs": [
        {
          "name": "stdout",
          "output_type": "stream",
          "text": [
            "enter a number10\n",
            "3+5+7+9+11+13+15+17+19+21+= 120\n"
          ]
        }
      ],
      "source": [
        "n=int(input(\"enter a number\"))\n",
        "s=0\n",
        "for i in range(1,n+1):\n",
        "  print(2*i+1,end=\"+\")\n",
        "  s=s+2*i+1\n",
        "print(\"=\",s)"
      ]
    },
    {
      "cell_type": "code",
      "execution_count": null,
      "metadata": {
        "colab": {
          "base_uri": "https://localhost:8080/"
        },
        "id": "s_afPYJbwxxu",
        "outputId": "c07e2e11-2b2d-495c-a2de-d2134207b2ae"
      },
      "outputs": [
        {
          "name": "stdout",
          "output_type": "stream",
          "text": [
            "enter n: 10\n",
            "1+3+5+7+9+= 81\n"
          ]
        }
      ],
      "source": [
        "#sum of all odd numbers between 1 to n\n",
        "n=int(input(\"enter n: \"))\n",
        "for i in range(1,n+1,2):\n",
        "  print(i,end=\"+\")\n",
        "  s=s+i\n",
        "print(\"=\",s)"
      ]
    },
    {
      "cell_type": "code",
      "execution_count": null,
      "metadata": {
        "colab": {
          "base_uri": "https://localhost:8080/"
        },
        "id": "7FPNyOecy-u3",
        "outputId": "3781c4d3-ea9e-4f58-a0cc-49b17e3d3547"
      },
      "outputs": [
        {
          "name": "stdout",
          "output_type": "stream",
          "text": [
            "enter a number10\n",
            "10 * 1 = 10\n",
            "10 * 2 = 20\n",
            "10 * 3 = 30\n",
            "10 * 4 = 40\n",
            "10 * 5 = 50\n",
            "10 * 6 = 60\n",
            "10 * 7 = 70\n",
            "10 * 8 = 80\n",
            "10 * 9 = 90\n",
            "10 * 10 = 100\n"
          ]
        }
      ],
      "source": [
        "n=int(input(\"enter a number\"))\n",
        "for i in range(1,11):\n",
        "  print(n,\"*\",i,\"=\",n*i)"
      ]
    },
    {
      "cell_type": "code",
      "execution_count": null,
      "metadata": {
        "colab": {
          "base_uri": "https://localhost:8080/"
        },
        "id": "jXG8AN-t0K0h",
        "outputId": "1dca14a9-8b04-4e02-fba8-bdb4ed3b09c2"
      },
      "outputs": [
        {
          "name": "stdout",
          "output_type": "stream",
          "text": [
            "enter n: 10\n",
            "1\n",
            "2\n",
            "5\n",
            "10\n"
          ]
        }
      ],
      "source": [
        "#display all numbers except prime\n",
        "n=int(input(\"enter n: \"))\n",
        "for i in range(1,n+1):\n",
        "  if n%i==0:\n",
        "    print(i)"
      ]
    },
    {
      "cell_type": "code",
      "execution_count": null,
      "metadata": {
        "colab": {
          "base_uri": "https://localhost:8080/"
        },
        "id": "cYuHm-je1Lj-",
        "outputId": "21c6f131-4285-4c25-8a13-32e64835c4c3"
      },
      "outputs": [
        {
          "name": "stdout",
          "output_type": "stream",
          "text": [
            "Enter N:10\n",
            "0,1,1,2,3,5,8,13,21,34,"
          ]
        }
      ],
      "source": [
        "N=int(input(\"Enter N:\"))\n",
        "A=0;B=1\n",
        "for I in range(1,N+1):\n",
        "  print(A,end=\",\"\n",
        "  A,B=B,A+B\n"
      ]
    },
    {
      "cell_type": "code",
      "execution_count": null,
      "metadata": {
        "colab": {
          "base_uri": "https://localhost:8080/"
        },
        "id": "rzT7AYnX1qFW",
        "outputId": "42639dc6-86e8-4882-81da-f4a632f85a77"
      },
      "outputs": [
        {
          "name": "stdout",
          "output_type": "stream",
          "text": [
            "enter a number: 5\n",
            "5 120\n"
          ]
        }
      ],
      "source": [
        "n=int(input(\"enter a number: \"))\n",
        "f=1\n",
        "for i in range(2,n+1):\n",
        "  f*=i\n",
        "print(n,f)"
      ]
    },
    {
      "cell_type": "code",
      "execution_count": null,
      "metadata": {
        "colab": {
          "base_uri": "https://localhost:8080/"
        },
        "id": "jbsLuV4w4G1s",
        "outputId": "baecf321-147e-4832-a0b1-9f4e56d8c9fe"
      },
      "outputs": [
        {
          "name": "stdout",
          "output_type": "stream",
          "text": [
            "enter n: 10\n",
            "1\n",
            "3\n",
            "5\n",
            "7\n",
            "9\n"
          ]
        }
      ],
      "source": [
        "n=int(input(\"enter n: \"))\n",
        "for i in range(1,n+1,2):\n",
        "  print(i)"
      ]
    },
    {
      "cell_type": "code",
      "execution_count": null,
      "metadata": {
        "colab": {
          "base_uri": "https://localhost:8080/"
        },
        "id": "Ppumv0Oi6nNw",
        "outputId": "28500b52-bf46-497b-901d-f34cf1cd680d"
      },
      "outputs": [
        {
          "name": "stdout",
          "output_type": "stream",
          "text": [
            "5\n",
            "4\n",
            "3\n",
            "2\n",
            "1\n"
          ]
        }
      ],
      "source": [
        "for i in range(5,0,-1):\n",
        "  print(i)"
      ]
    },
    {
      "cell_type": "code",
      "execution_count": null,
      "metadata": {
        "colab": {
          "base_uri": "https://localhost:8080/"
        },
        "id": "UJuDNEPgDyQu",
        "outputId": "93f2d699-92dd-467e-d058-75761459a002"
      },
      "outputs": [
        {
          "name": "stdout",
          "output_type": "stream",
          "text": [
            "enter a number n: 5\n",
            "3\n",
            "6\n",
            "9\n",
            "12\n",
            "15\n"
          ]
        }
      ],
      "source": [
        "n=int(input(\"enter a number n: \"))\n",
        "for i in range(3,3*n+1,3):\n",
        "  print(i)"
      ]
    },
    {
      "cell_type": "code",
      "execution_count": null,
      "metadata": {
        "colab": {
          "base_uri": "https://localhost:8080/"
        },
        "id": "gXM1LawjEsu0",
        "outputId": "2c640dc0-14e6-4853-90f1-de7494699464"
      },
      "outputs": [
        {
          "name": "stdout",
          "output_type": "stream",
          "text": [
            "enter n: 2\n",
            "3+6+= 9\n"
          ]
        }
      ],
      "source": [
        "n=int(input(\"enter n: \"))\n",
        "s=0\n",
        "for i in range(3,3*n+1,3):\n",
        "  print(i,end=\"+\")\n",
        "  s=s+i\n",
        "\n",
        "print(\"=\",s)"
      ]
    },
    {
      "cell_type": "code",
      "execution_count": null,
      "metadata": {
        "colab": {
          "base_uri": "https://localhost:8080/"
        },
        "id": "SlPuJ7O_FdEt",
        "outputId": "e6f2be9d-d39e-4931-f6ce-85d387bbb210"
      },
      "outputs": [
        {
          "name": "stdout",
          "output_type": "stream",
          "text": [
            "enter base: 10\n",
            "enter power: 0\n",
            "1\n"
          ]
        }
      ],
      "source": [
        "base = int(input(\"enter base: \"))\n",
        "power = int(input(\"enter power: \"))\n",
        "result = 1\n",
        "for i in range(1,power+1):\n",
        "  result=base**power\n",
        "\n",
        "print(result)"
      ]
    },
    {
      "cell_type": "code",
      "execution_count": null,
      "metadata": {
        "colab": {
          "base_uri": "https://localhost:8080/"
        },
        "id": "2zyF03L8GIvX",
        "outputId": "0b96b326-1115-4a60-85e7-e9cd41d51b83"
      },
      "outputs": [
        {
          "name": "stdout",
          "output_type": "stream",
          "text": [
            "enter a number: 5\n",
            "120\n"
          ]
        }
      ],
      "source": [
        "n = int(input(\"enter a number: \"))\n",
        "factorial = 1\n",
        "for i in range(2,n+1):\n",
        "  factorial = factorial*i\n",
        "\n",
        "print(factorial)"
      ]
    },
    {
      "cell_type": "code",
      "execution_count": null,
      "metadata": {
        "colab": {
          "base_uri": "https://localhost:8080/"
        },
        "id": "GTySGOwMGgkb",
        "outputId": "c8b8b062-a62d-4232-bfa5-5095ae7df300"
      },
      "outputs": [
        {
          "name": "stdout",
          "output_type": "stream",
          "text": [
            "enter an integer: 10\n",
            "1,2,5,10,"
          ]
        }
      ],
      "source": [
        "n = int(input(\"enter an integer: \"))\n",
        "for i in range(1,n+1):\n",
        "  if n%i==0:\n",
        "    print(i,end=\",\")"
      ]
    },
    {
      "cell_type": "code",
      "execution_count": null,
      "metadata": {
        "id": "B5sQOpCkG-Wy"
      },
      "outputs": [],
      "source": [
        "a = int(input(\"enter an integer : \"))\n",
        "b = int(input(\"enter an integer:  \"))\n",
        "if a<b:\n",
        "  min = a\n",
        "else:\n",
        "  min=b\n",
        "for i in range(1,min+1):\n",
        "  if a%i==0 and b%i==0:\n",
        "    print(i)\n"
      ]
    },
    {
      "cell_type": "code",
      "execution_count": null,
      "metadata": {
        "colab": {
          "base_uri": "https://localhost:8080/"
        },
        "id": "fIXNdcBwL-q9",
        "outputId": "122c6605-d2c6-4ae9-c981-23f0b5826b1f"
      },
      "outputs": [
        {
          "name": "stdout",
          "output_type": "stream",
          "text": [
            "enter an integer : 2\n",
            "enter an integer:  3\n",
            "1\n"
          ]
        }
      ],
      "source": [
        "a = int(input(\"enter an integer : \"))\n",
        "b = int(input(\"enter an integer:  \"))\n",
        "hcf = 1\n",
        "if a<b:\n",
        "  min = a\n",
        "else:\n",
        "  min=b\n",
        "for i in range(1,min+1):\n",
        "  if a%i==0 and b%i==0:\n",
        "    hcf=i\n",
        "    print(i)\n"
      ]
    },
    {
      "cell_type": "code",
      "execution_count": null,
      "metadata": {
        "colab": {
          "base_uri": "https://localhost:8080/",
          "height": 141
        },
        "id": "G24KODAdMHr9",
        "outputId": "e046b155-4e92-4160-efe5-287fb51a078b"
      },
      "outputs": [
        {
          "ename": "TypeError",
          "evalue": "'int' object is not callable",
          "output_type": "error",
          "traceback": [
            "\u001b[0;31m---------------------------------------------------------------------------\u001b[0m",
            "\u001b[0;31mTypeError\u001b[0m                                 Traceback (most recent call last)",
            "\u001b[0;32m<ipython-input-185-ec6d01aa51a7>\u001b[0m in \u001b[0;36m<cell line: 1>\u001b[0;34m()\u001b[0m\n\u001b[0;32m----> 1\u001b[0;31m \u001b[0mprint\u001b[0m\u001b[0;34m(\u001b[0m\u001b[0;34m\"Small:\"\u001b[0m\u001b[0;34m,\u001b[0m\u001b[0mmin\u001b[0m\u001b[0;34m(\u001b[0m\u001b[0;36m12\u001b[0m\u001b[0;34m,\u001b[0m\u001b[0;36m5\u001b[0m\u001b[0;34m,\u001b[0m\u001b[0;36m67\u001b[0m\u001b[0;34m,\u001b[0m\u001b[0;36m3\u001b[0m\u001b[0;34m)\u001b[0m\u001b[0;34m)\u001b[0m\u001b[0;34m\u001b[0m\u001b[0;34m\u001b[0m\u001b[0m\n\u001b[0m",
            "\u001b[0;31mTypeError\u001b[0m: 'int' object is not callable"
          ]
        }
      ],
      "source": [
        "print(\"Small:\",min(12,5,67,3))\n"
      ]
    },
    {
      "cell_type": "code",
      "execution_count": null,
      "metadata": {
        "colab": {
          "base_uri": "https://localhost:8080/"
        },
        "id": "-gcnc3FEMhaI",
        "outputId": "b25840ca-03d5-4851-fb9d-63b0d34de406"
      },
      "outputs": [
        {
          "name": "stdout",
          "output_type": "stream",
          "text": [
            "enter a number: 6\n",
            "0,1,1,2,3,5,"
          ]
        }
      ],
      "source": [
        "n =int(input(\"enter a number: \"))\n",
        "a=0;b=1\n",
        "for i in range(1,n+1):\n",
        "  print(a,end=\",\")\n",
        "  t=a+b\n",
        "  a=b\n",
        "  b=t"
      ]
    },
    {
      "cell_type": "code",
      "execution_count": null,
      "metadata": {
        "colab": {
          "base_uri": "https://localhost:8080/"
        },
        "id": "ZAjdcDLSNaMQ",
        "outputId": "b23f6b1c-057a-47e2-9fc3-b65a6d23d73b"
      },
      "outputs": [
        {
          "name": "stdout",
          "output_type": "stream",
          "text": [
            "10,11,12,13,"
          ]
        }
      ],
      "source": [
        "for i in range(10,21):\n",
        "  if i%7!=0:\n",
        "    print(i,end=\",\")\n",
        "  else:\n",
        "    break\n",
        "else:\n",
        "  print(\"all is done\")"
      ]
    },
    {
      "cell_type": "code",
      "execution_count": null,
      "metadata": {
        "colab": {
          "base_uri": "https://localhost:8080/"
        },
        "id": "QTPyCYMfOB53",
        "outputId": "057019ba-69fa-4381-8f5c-720ce2aeb9f3"
      },
      "outputs": [
        {
          "name": "stdout",
          "output_type": "stream",
          "text": [
            "20,21,22,23,"
          ]
        }
      ],
      "source": [
        "for i in range(20,31):\n",
        "  if i%8!=0:\n",
        "    print(i,end=\",\")\n",
        "  else:\n",
        "    break\n",
        "else:\n",
        "  print(\"program finished\")"
      ]
    },
    {
      "cell_type": "code",
      "execution_count": null,
      "metadata": {
        "colab": {
          "base_uri": "https://localhost:8080/"
        },
        "id": "KwvGVq5pOR8n",
        "outputId": "7e5a9c6c-d3bc-4177-a200-3027a21f1690"
      },
      "outputs": [
        {
          "name": "stdout",
          "output_type": "stream",
          "text": [
            "2,4,6,8,done\n"
          ]
        }
      ],
      "source": [
        "for i in range(2,10,2):\n",
        "  if i%10!=0:\n",
        "    print(i,end=\",\")\n",
        "  else:\n",
        "    break\n",
        "else:\n",
        "  print(\"done\")"
      ]
    },
    {
      "cell_type": "code",
      "execution_count": null,
      "metadata": {
        "colab": {
          "base_uri": "https://localhost:8080/"
        },
        "id": "TpFvsC2lTAP3",
        "outputId": "4d2475e8-b743-4357-ea97-2e71f812ab44"
      },
      "outputs": [
        {
          "name": "stdout",
          "output_type": "stream",
          "text": [
            "enter a number: 1\n",
            "neither\n"
          ]
        }
      ],
      "source": [
        "n =int(input(\"enter a number: \"))\n",
        "if n>1:\n",
        "  for i in range(2,n):\n",
        "    if n%i==0:\n",
        "      print(\"not prime\")\n",
        "      break\n",
        "  else:\n",
        "    print(\"prime\")\n",
        "else:\n",
        "  print(\"neither\")"
      ]
    },
    {
      "cell_type": "code",
      "execution_count": null,
      "metadata": {
        "colab": {
          "base_uri": "https://localhost:8080/"
        },
        "id": "AkWILbh6T1DN",
        "outputId": "401738d7-6c01-4eef-bf9b-2763acef5c74"
      },
      "outputs": [
        {
          "name": "stdout",
          "output_type": "stream",
          "text": [
            "enter a number10\n",
            "1+2+3+4+5+6+7+8+9+10+= 55\n"
          ]
        }
      ],
      "source": [
        "n = int(input(\"enter a number\"))\n",
        "s=0\n",
        "for i in range(1,n+1):\n",
        "  print(i,end=\"+\")\n",
        "  s=s+i\n",
        "print(\"=\",s)"
      ]
    },
    {
      "cell_type": "code",
      "execution_count": null,
      "metadata": {
        "colab": {
          "base_uri": "https://localhost:8080/"
        },
        "id": "v_PBBEqmUTzd",
        "outputId": "3913f00f-3fdd-4605-9cdf-481a25a47994"
      },
      "outputs": [
        {
          "name": "stdout",
          "output_type": "stream",
          "text": [
            "enter n: 10\n",
            "2+4+6+8+10+12+14+16+18+20+= 110\n"
          ]
        }
      ],
      "source": [
        "n=int(input(\"enter n: \"))\n",
        "s=0\n",
        "for i in range(2,2*n+1,2):\n",
        "  print(i,end=\"+\")\n",
        "  s=s+i\n",
        "\n",
        "print(\"=\",s)"
      ]
    },
    {
      "cell_type": "code",
      "execution_count": null,
      "metadata": {
        "colab": {
          "base_uri": "https://localhost:8080/"
        },
        "id": "QLu4lmfqVTQO",
        "outputId": "f41d9c97-862d-4cee-aa51-43e504710ce8"
      },
      "outputs": [
        {
          "name": "stdout",
          "output_type": "stream",
          "text": [
            "enter n: 5\n",
            "1+4+7+10+13+= 35\n"
          ]
        }
      ],
      "source": [
        "n=int(input(\"enter n: \"))\n",
        "s=0\n",
        "for i in range(1,3*n+1,3):\n",
        "  print(i,end=\"+\")\n",
        "  s=s+i\n",
        "\n",
        "print(\"=\",s)"
      ]
    },
    {
      "cell_type": "code",
      "execution_count": null,
      "metadata": {
        "colab": {
          "base_uri": "https://localhost:8080/"
        },
        "id": "wS2XgB1XVigF",
        "outputId": "562fe4c3-d3d8-457f-eec0-5e982cddc9e2"
      },
      "outputs": [
        {
          "name": "stdout",
          "output_type": "stream",
          "text": [
            "enter n: 10\n",
            "enter x: 2\n",
            "2.0+4.0+8.0+16.0+32.0+64.0+128.0+256.0+512.0+1024.0+2081.0\n"
          ]
        }
      ],
      "source": [
        "n=int(input(\"enter n: \"))\n",
        "x=float(input(\"enter x: \"))\n",
        "for i in range(1,n+1):\n",
        "  print(x**i,end=\"+\")\n",
        "  s=s+x**i\n",
        "\n",
        "print(s)"
      ]
    },
    {
      "cell_type": "code",
      "execution_count": null,
      "metadata": {
        "colab": {
          "base_uri": "https://localhost:8080/"
        },
        "id": "l71xY_AhWC6X",
        "outputId": "5bf50676-17ba-409c-f763-e0fbbf8a605d"
      },
      "outputs": [
        {
          "name": "stdout",
          "output_type": "stream",
          "text": [
            "T = 1 F = 0 * T = 0 F = 1 * "
          ]
        }
      ],
      "source": [
        "T,F = 1,0\n",
        "for C in range(2):\n",
        "    print(\"T =\",T,\"F =\",F,end=\" * \")\n",
        "    T,F=F,T"
      ]
    },
    {
      "cell_type": "code",
      "execution_count": null,
      "metadata": {
        "colab": {
          "base_uri": "https://localhost:8080/"
        },
        "id": "udLp9GTFWl1n",
        "outputId": "67aff3f6-aa43-4e9d-cfa4-07b181856d37"
      },
      "outputs": [
        {
          "name": "stdout",
          "output_type": "stream",
          "text": [
            "True#"
          ]
        }
      ],
      "source": [
        "if \"Hello\">\"HELLO\":\n",
        "  print('True',end=\"#\")\n",
        "else:\n",
        "  print('False')"
      ]
    },
    {
      "cell_type": "code",
      "execution_count": null,
      "metadata": {
        "colab": {
          "base_uri": "https://localhost:8080/",
          "height": 141
        },
        "id": "TcIQDV5LXJa7",
        "outputId": "039b6b92-596b-4556-97a9-24684ac108f8"
      },
      "outputs": [
        {
          "ename": "NameError",
          "evalue": "name 'N1' is not defined",
          "output_type": "error",
          "traceback": [
            "\u001b[0;31m---------------------------------------------------------------------------\u001b[0m",
            "\u001b[0;31mNameError\u001b[0m                                 Traceback (most recent call last)",
            "\u001b[0;32m<ipython-input-204-80657a5c1a26>\u001b[0m in \u001b[0;36m<cell line: 1>\u001b[0;34m()\u001b[0m\n\u001b[0;32m----> 1\u001b[0;31m \u001b[0mMAX\u001b[0m \u001b[0;34m=\u001b[0m \u001b[0mmax\u001b[0m\u001b[0;34m(\u001b[0m\u001b[0mN1\u001b[0m\u001b[0;34m,\u001b[0m\u001b[0mN2\u001b[0m\u001b[0;34m,\u001b[0m\u001b[0mN3\u001b[0m\u001b[0;34m)\u001b[0m\u001b[0;34m\u001b[0m\u001b[0;34m\u001b[0m\u001b[0m\n\u001b[0m",
            "\u001b[0;31mNameError\u001b[0m: name 'N1' is not defined"
          ]
        }
      ],
      "source": []
    },
    {
      "cell_type": "code",
      "execution_count": null,
      "metadata": {
        "colab": {
          "base_uri": "https://localhost:8080/"
        },
        "id": "wKFZosgAZ1YS",
        "outputId": "8e5b714a-9dfb-46bb-f09f-32a77014f222"
      },
      "outputs": [
        {
          "name": "stdout",
          "output_type": "stream",
          "text": [
            "1&5\n",
            "3&15\n",
            "5&25\n",
            "Adds to 9\n"
          ]
        }
      ],
      "source": [
        "S=0\n",
        "for C in range(1,6,2):\n",
        "  print(C,C*5,sep=\"&\")\n",
        "  S+=C\n",
        "print(\"Adds to\",S)"
      ]
    },
    {
      "cell_type": "code",
      "execution_count": null,
      "metadata": {
        "colab": {
          "base_uri": "https://localhost:8080/"
        },
        "id": "DjD9zRxNac74",
        "outputId": "858884ca-d940-4d11-b976-cb1d9a334cde"
      },
      "outputs": [
        {
          "name": "stdout",
          "output_type": "stream",
          "text": [
            "2+4+6+8+10+= 30\n"
          ]
        }
      ],
      "source": [
        "s=0\n",
        "for i in range(2,11,2):\n",
        "  print(i,end=\"+\")\n",
        "  s=s+i\n",
        "print(\"=\",s)"
      ]
    },
    {
      "cell_type": "code",
      "execution_count": null,
      "metadata": {
        "colab": {
          "base_uri": "https://localhost:8080/"
        },
        "id": "9N2Ya8xja6H6",
        "outputId": "6042552f-3b80-421f-951f-c1afa8b64f98"
      },
      "outputs": [
        {
          "name": "stdout",
          "output_type": "stream",
          "text": [
            "enter a number: 3\n",
            "number is not composite\n"
          ]
        }
      ],
      "source": [
        "n=int(input(\"enter a number: \"))\n",
        "if n>1:\n",
        "  for i in range(2,n):\n",
        "    if n%i==0:\n",
        "      print(\"number is  composite\")\n",
        "    elif n%i!=0:\n",
        "      print(\"number is not composite\")\n"
      ]
    },
    {
      "cell_type": "code",
      "execution_count": null,
      "metadata": {
        "colab": {
          "base_uri": "https://localhost:8080/"
        },
        "id": "o2BosQhZdbzT",
        "outputId": "59eb03d5-f9f3-4b78-8ba5-bccf1973e9af"
      },
      "outputs": [
        {
          "name": "stdout",
          "output_type": "stream",
          "text": [
            "enter n: 4\n",
            "1,....\n",
            "3,....\n",
            "6,....\n",
            "10,....\n"
          ]
        }
      ],
      "source": [
        "n = int(input(\"Enter the value of N: \"))\n",
        "sum = 0\n",
        "for i in range(1, n + 1):\n",
        "    sum += i\n",
        "    print(sum, end=\", \")\n",
        "print(\"...\")"
      ]
    },
    {
      "cell_type": "code",
      "execution_count": null,
      "metadata": {
        "colab": {
          "base_uri": "https://localhost:8080/"
        },
        "id": "jAKoYweEgfkL",
        "outputId": "303c9285-e8c9-43e3-87a9-d6c49fa9b1c6"
      },
      "outputs": [
        {
          "name": "stdout",
          "output_type": "stream",
          "text": [
            "enter n: 5\n",
            "enter x: 2\n",
            "2.0+4.0+6.0+8.0+10.0+= 30.0\n"
          ]
        }
      ],
      "source": [
        "n=int(input(\"enter n: \"))\n",
        "x=float(input(\"enter x: \"))\n",
        "s=0\n",
        "for i in range(1,n+1):\n",
        "  print(x*i,end=\"+\")\n",
        "  s=s+x*i\n",
        "print(\"=\",s)"
      ]
    },
    {
      "cell_type": "code",
      "execution_count": null,
      "metadata": {
        "colab": {
          "base_uri": "https://localhost:8080/"
        },
        "id": "3IWJE4kOiEta",
        "outputId": "475c2a5f-67c8-42e8-9f67-da0997345b41"
      },
      "outputs": [
        {
          "name": "stdout",
          "output_type": "stream",
          "text": [
            "enter n:5\n",
            "enter x: 4\n",
            "4.0+16.0+64.0+256.0+1024.0+= 1364.0\n"
          ]
        }
      ],
      "source": [
        "n=int(input(\"enter n:\"))\n",
        "x=float(input(\"enter x: \"))\n",
        "s=0\n",
        "for i in range(1,n+1):\n",
        "  print(x**i,end=\"+\")\n",
        "  s=s+x**i\n",
        "print(\"=\",s)"
      ]
    },
    {
      "cell_type": "code",
      "execution_count": null,
      "metadata": {
        "colab": {
          "base_uri": "https://localhost:8080/"
        },
        "id": "2o8QxuHAi-AJ",
        "outputId": "8c70545c-8f6a-4482-c74d-65e3b5817504"
      },
      "outputs": [
        {
          "name": "stdout",
          "output_type": "stream",
          "text": [
            "enter n: 5\n",
            "5+10+15+20+25+= 75\n"
          ]
        }
      ],
      "source": [
        "n=int(input(\"enter n: \"))\n",
        "s=0\n",
        "for i in range(1,n+1):\n",
        "    s=s+i*5\n",
        "    print(i*5,end=\"+\")\n",
        "print(\"=\",s)"
      ]
    },
    {
      "cell_type": "code",
      "execution_count": null,
      "metadata": {
        "colab": {
          "base_uri": "https://localhost:8080/"
        },
        "id": "hilEnpBFjV1H",
        "outputId": "cbedb6df-45b6-4dbb-ba1e-e8b9cae9bfd7"
      },
      "outputs": [
        {
          "name": "stdout",
          "output_type": "stream",
          "text": [
            "enter n: 5\n",
            "4+8+12+16+20+= 60\n"
          ]
        }
      ],
      "source": [
        "n=int(input(\"enter n: \"))\n",
        "s=0\n",
        "for i in range(1,n+1):\n",
        "  print(i*4,end=\"+\")\n",
        "  s=s+i*4\n",
        "print(\"=\",s)"
      ]
    },
    {
      "cell_type": "code",
      "execution_count": null,
      "metadata": {
        "colab": {
          "base_uri": "https://localhost:8080/",
          "height": 356
        },
        "id": "rtVPED4fmMZu",
        "outputId": "ef135f42-4ebd-44d9-9998-49563d256a77"
      },
      "outputs": [
        {
          "ename": "KeyboardInterrupt",
          "evalue": "Interrupted by user",
          "output_type": "error",
          "traceback": [
            "\u001b[0;31m---------------------------------------------------------------------------\u001b[0m",
            "\u001b[0;31mKeyboardInterrupt\u001b[0m                         Traceback (most recent call last)",
            "\u001b[0;32m<ipython-input-239-834e431971e3>\u001b[0m in \u001b[0;36m<cell line: 1>\u001b[0;34m()\u001b[0m\n\u001b[1;32m      1\u001b[0m \u001b[0;32mwhile\u001b[0m \u001b[0;32mTrue\u001b[0m\u001b[0;34m:\u001b[0m\u001b[0;34m\u001b[0m\u001b[0;34m\u001b[0m\u001b[0m\n\u001b[0;32m----> 2\u001b[0;31m   \u001b[0mn\u001b[0m\u001b[0;34m=\u001b[0m\u001b[0mint\u001b[0m\u001b[0;34m(\u001b[0m\u001b[0minput\u001b[0m\u001b[0;34m(\u001b[0m\u001b[0;34m\"enter n: \"\u001b[0m\u001b[0;34m)\u001b[0m\u001b[0;34m)\u001b[0m\u001b[0;34m\u001b[0m\u001b[0;34m\u001b[0m\u001b[0m\n\u001b[0m\u001b[1;32m      3\u001b[0m   \u001b[0mprint\u001b[0m\u001b[0;34m(\u001b[0m\u001b[0mn\u001b[0m\u001b[0;34m*\u001b[0m\u001b[0;36m7\u001b[0m\u001b[0;34m)\u001b[0m\u001b[0;34m\u001b[0m\u001b[0;34m\u001b[0m\u001b[0m\n\u001b[1;32m      4\u001b[0m   \u001b[0;32mbreak\u001b[0m\u001b[0;34m\u001b[0m\u001b[0;34m\u001b[0m\u001b[0m\n",
            "\u001b[0;32m/usr/local/lib/python3.10/dist-packages/ipykernel/kernelbase.py\u001b[0m in \u001b[0;36mraw_input\u001b[0;34m(self, prompt)\u001b[0m\n\u001b[1;32m    849\u001b[0m                 \u001b[0;34m\"raw_input was called, but this frontend does not support input requests.\"\u001b[0m\u001b[0;34m\u001b[0m\u001b[0;34m\u001b[0m\u001b[0m\n\u001b[1;32m    850\u001b[0m             )\n\u001b[0;32m--> 851\u001b[0;31m         return self._input_request(str(prompt),\n\u001b[0m\u001b[1;32m    852\u001b[0m             \u001b[0mself\u001b[0m\u001b[0;34m.\u001b[0m\u001b[0m_parent_ident\u001b[0m\u001b[0;34m,\u001b[0m\u001b[0;34m\u001b[0m\u001b[0;34m\u001b[0m\u001b[0m\n\u001b[1;32m    853\u001b[0m             \u001b[0mself\u001b[0m\u001b[0;34m.\u001b[0m\u001b[0m_parent_header\u001b[0m\u001b[0;34m,\u001b[0m\u001b[0;34m\u001b[0m\u001b[0;34m\u001b[0m\u001b[0m\n",
            "\u001b[0;32m/usr/local/lib/python3.10/dist-packages/ipykernel/kernelbase.py\u001b[0m in \u001b[0;36m_input_request\u001b[0;34m(self, prompt, ident, parent, password)\u001b[0m\n\u001b[1;32m    893\u001b[0m             \u001b[0;32mexcept\u001b[0m \u001b[0mKeyboardInterrupt\u001b[0m\u001b[0;34m:\u001b[0m\u001b[0;34m\u001b[0m\u001b[0;34m\u001b[0m\u001b[0m\n\u001b[1;32m    894\u001b[0m                 \u001b[0;31m# re-raise KeyboardInterrupt, to truncate traceback\u001b[0m\u001b[0;34m\u001b[0m\u001b[0;34m\u001b[0m\u001b[0m\n\u001b[0;32m--> 895\u001b[0;31m                 \u001b[0;32mraise\u001b[0m \u001b[0mKeyboardInterrupt\u001b[0m\u001b[0;34m(\u001b[0m\u001b[0;34m\"Interrupted by user\"\u001b[0m\u001b[0;34m)\u001b[0m \u001b[0;32mfrom\u001b[0m \u001b[0;32mNone\u001b[0m\u001b[0;34m\u001b[0m\u001b[0;34m\u001b[0m\u001b[0m\n\u001b[0m\u001b[1;32m    896\u001b[0m             \u001b[0;32mexcept\u001b[0m \u001b[0mException\u001b[0m \u001b[0;32mas\u001b[0m \u001b[0me\u001b[0m\u001b[0;34m:\u001b[0m\u001b[0;34m\u001b[0m\u001b[0;34m\u001b[0m\u001b[0m\n\u001b[1;32m    897\u001b[0m                 \u001b[0mself\u001b[0m\u001b[0;34m.\u001b[0m\u001b[0mlog\u001b[0m\u001b[0;34m.\u001b[0m\u001b[0mwarning\u001b[0m\u001b[0;34m(\u001b[0m\u001b[0;34m\"Invalid Message:\"\u001b[0m\u001b[0;34m,\u001b[0m \u001b[0mexc_info\u001b[0m\u001b[0;34m=\u001b[0m\u001b[0;32mTrue\u001b[0m\u001b[0;34m)\u001b[0m\u001b[0;34m\u001b[0m\u001b[0;34m\u001b[0m\u001b[0m\n",
            "\u001b[0;31mKeyboardInterrupt\u001b[0m: Interrupted by user"
          ]
        }
      ],
      "source": [
        "while True:\n",
        "  n=int(input(\"enter n: \"))\n",
        "  print(n*7)\n",
        "  break\n"
      ]
    },
    {
      "cell_type": "code",
      "execution_count": null,
      "metadata": {
        "colab": {
          "base_uri": "https://localhost:8080/"
        },
        "id": "Qd65kmd9pTAn",
        "outputId": "ff0e0ead-808d-4de5-e4d0-7fca59dcf237"
      },
      "outputs": [
        {
          "name": "stdout",
          "output_type": "stream",
          "text": [
            "Enter an integer: 5\n",
            "Enter how many multiples you want to see: 7\n",
            "Multiples of 7 for 5 are:\n",
            "35 70 105 140 175 210 245 "
          ]
        }
      ],
      "source": [
        "num = int(input(\"Enter an integer: \"))\n",
        "limit = int(input(\"Enter how many multiples you want to see: \"))\n",
        "\n",
        "print(\"Multiples of 7 for\", num, \"are:\")\n",
        "for i in range(1, limit + 1):\n",
        "    multiple = num * i * 7\n",
        "    print(multiple, end=\" \")"
      ]
    },
    {
      "cell_type": "code",
      "execution_count": null,
      "metadata": {
        "colab": {
          "background_save": true,
          "base_uri": "https://localhost:8080/"
        },
        "id": "A3LaJX_ipwpc",
        "outputId": "52073723-edcb-4c71-b970-f43115ef5ee8"
      },
      "outputs": [
        {
          "name": "stdout",
          "output_type": "stream",
          "text": [
            "5\n",
            "5\n"
          ]
        }
      ],
      "source": [
        "while True:\n",
        "  a=int(input(\"enter a: \"))\n",
        "  b=int(input(\"enter b: \"))\n",
        "  c=2*a+b\n",
        "  if c==0:\n",
        "    break\n",
        "  else:\n",
        "    print(C)"
      ]
    },
    {
      "cell_type": "code",
      "execution_count": null,
      "metadata": {
        "id": "nPr64Dq7sob1"
      },
      "outputs": [],
      "source": [
        "n=int(input(\"entera number n: \"))\n",
        "while n>0:\n",
        "  print(n%10)\n",
        "  n//10"
      ]
    },
    {
      "cell_type": "markdown",
      "source": [
        "**ASSIGNMENT BOOKLET QUESTIONS - HY PREP**"
      ],
      "metadata": {
        "id": "GuJNL5R3liJf"
      }
    },
    {
      "cell_type": "code",
      "source": [
        "a=\"RKP\";b=\"DPS\"\n",
        "print(b+a)"
      ],
      "metadata": {
        "colab": {
          "base_uri": "https://localhost:8080/"
        },
        "id": "KDgCfFPmllzV",
        "outputId": "32c38cc9-93f5-4832-9bc1-e722b01d1a27"
      },
      "execution_count": null,
      "outputs": [
        {
          "output_type": "stream",
          "name": "stdout",
          "text": [
            "DPSRKP\n"
          ]
        }
      ]
    },
    {
      "cell_type": "code",
      "source": [
        "print(\"have a great \\n day\")"
      ],
      "metadata": {
        "colab": {
          "base_uri": "https://localhost:8080/"
        },
        "id": "zqe8SQUllxq0",
        "outputId": "bd473fbf-2b02-4882-d865-9de6a28b6fdd"
      },
      "execution_count": null,
      "outputs": [
        {
          "output_type": "stream",
          "name": "stdout",
          "text": [
            "have a great \n",
            " day\n"
          ]
        }
      ]
    },
    {
      "cell_type": "code",
      "source": [
        "print(\"have a great \\t day\")"
      ],
      "metadata": {
        "colab": {
          "base_uri": "https://localhost:8080/"
        },
        "id": "ff4SZadnmOPf",
        "outputId": "0f92cd70-d0cd-452f-8338-3736a536b7c3"
      },
      "execution_count": null,
      "outputs": [
        {
          "output_type": "stream",
          "name": "stdout",
          "text": [
            "have a great \t day\n"
          ]
        }
      ]
    },
    {
      "cell_type": "code",
      "source": [
        "print(\"Hi\"*3);print(4*\"Hi\")"
      ],
      "metadata": {
        "colab": {
          "base_uri": "https://localhost:8080/"
        },
        "id": "jCc0z2oCmZtH",
        "outputId": "5abd7ec9-945c-432a-daac-4e8e869b4148"
      },
      "execution_count": null,
      "outputs": [
        {
          "output_type": "stream",
          "name": "stdout",
          "text": [
            "HiHiHi\n",
            "HiHiHiHi\n"
          ]
        }
      ]
    },
    {
      "cell_type": "code",
      "source": [
        "a,b,c=10,20.0,\"30,.0\"\n",
        "print(a,b,c,sep=\"&\")"
      ],
      "metadata": {
        "colab": {
          "base_uri": "https://localhost:8080/"
        },
        "id": "GmJdFyfPmmWS",
        "outputId": "a1b4247b-bd93-4488-c429-80fcdca379b1"
      },
      "execution_count": null,
      "outputs": [
        {
          "output_type": "stream",
          "name": "stdout",
          "text": [
            "10&20.0&30,.0\n"
          ]
        }
      ]
    },
    {
      "cell_type": "code",
      "source": [
        "a=b=c=d=10\n",
        "print(a+b)\n",
        "print(c,d,sep=\"+\")"
      ],
      "metadata": {
        "colab": {
          "base_uri": "https://localhost:8080/"
        },
        "id": "GXm6Z0c3m0aa",
        "outputId": "767262fb-ecaa-4159-ffc6-0f759c361277"
      },
      "execution_count": null,
      "outputs": [
        {
          "output_type": "stream",
          "name": "stdout",
          "text": [
            "20\n",
            "10+10\n"
          ]
        }
      ]
    },
    {
      "cell_type": "code",
      "source": [
        "a=15;b=20\n",
        "print(a,b,sep=\"+\",end=\"=\")\n",
        "print(a+b)"
      ],
      "metadata": {
        "colab": {
          "base_uri": "https://localhost:8080/"
        },
        "id": "kNyFz-JlnFYY",
        "outputId": "c7bd541d-f82c-4f3e-adda-6f40f3dda082"
      },
      "execution_count": null,
      "outputs": [
        {
          "output_type": "stream",
          "name": "stdout",
          "text": [
            "15+20=35\n"
          ]
        }
      ]
    },
    {
      "cell_type": "code",
      "source": [
        "l=float(input(\"enter length: \"))\n",
        "b=float(input(\"enter breadth: \"))\n",
        "print(\"area=\",l*b)\n",
        "print(\"perimeter=\",2*(l+b))"
      ],
      "metadata": {
        "colab": {
          "base_uri": "https://localhost:8080/"
        },
        "id": "TfDMkIInnOYQ",
        "outputId": "7be83d1f-f289-4dd1-d990-638f3c030e84"
      },
      "execution_count": null,
      "outputs": [
        {
          "output_type": "stream",
          "name": "stdout",
          "text": [
            "enter length: 4\n",
            "enter breadth: 4\n",
            "area= 16.0\n",
            "perimeter= 16.0\n"
          ]
        }
      ]
    },
    {
      "cell_type": "code",
      "source": [
        "ppl=float(input(\"enter principle amount: \"))\n",
        "rate=float(input(\"enter rate of interest: \"))\n",
        "time=float(input(\"enter time: \"))\n",
        "print(\"simple interest=\",(ppl*rate*time)/100) #important to put brackets around the mathematical formulae to avoid erros\n",
        "print(\"amount=\", ppl+((ppl*rate*time)/100)) #same thing, pay attention while using brackets"
      ],
      "metadata": {
        "colab": {
          "base_uri": "https://localhost:8080/"
        },
        "id": "5T3ApAJeoTjp",
        "outputId": "4e60b6e4-dc80-49c1-dd86-c0a19ef12b17"
      },
      "execution_count": null,
      "outputs": [
        {
          "output_type": "stream",
          "name": "stdout",
          "text": [
            "enter principle amount: 100\n",
            "enter rate of interest: 20\n",
            "enter time: 30\n",
            "simple interest= 600.0\n",
            "amount= 700.0\n"
          ]
        }
      ]
    },
    {
      "cell_type": "code",
      "source": [
        "r=float(input(\"enter the radius of circle: \"))\n",
        "area=3.14*r**2\n",
        "circumference=2*3.14*r\n",
        "print(\"Area of the circle is: \", area)\n",
        "print(\"circumference of the circle is: \", circumference)"
      ],
      "metadata": {
        "colab": {
          "base_uri": "https://localhost:8080/"
        },
        "id": "wx_rab99o01C",
        "outputId": "b2089008-219f-401f-a831-80432a6202f6"
      },
      "execution_count": null,
      "outputs": [
        {
          "output_type": "stream",
          "name": "stdout",
          "text": [
            "enter the radius of circle: 4\n",
            "Area of the circle is:  50.24\n",
            "circumference of the circle is:  25.12\n"
          ]
        }
      ]
    },
    {
      "cell_type": "code",
      "source": [
        "a=2\n",
        "b=5\n",
        "c=0\n",
        "if not(b<10):\n",
        "  print(\"ok\")\n",
        "else:\n",
        "  print(\"not ok\")"
      ],
      "metadata": {
        "colab": {
          "base_uri": "https://localhost:8080/"
        },
        "id": "7MbABW3Ope56",
        "outputId": "f214292c-7f26-4508-eba7-8abc24e4a9b9"
      },
      "execution_count": null,
      "outputs": [
        {
          "output_type": "stream",
          "name": "stdout",
          "text": [
            "not ok\n"
          ]
        }
      ]
    },
    {
      "cell_type": "code",
      "source": [
        "time = float(input(\"enter time in hours: \"))\n",
        "time=time*60*60\n",
        "print(\"time in seconds: \", time)"
      ],
      "metadata": {
        "colab": {
          "base_uri": "https://localhost:8080/"
        },
        "id": "Zcd4LR_YqJQC",
        "outputId": "d14d189c-a1b8-4ae3-8b64-6cb4716855f1"
      },
      "execution_count": null,
      "outputs": [
        {
          "output_type": "stream",
          "name": "stdout",
          "text": [
            "enter time in hours: 1\n",
            "time in seconds:  3600.0\n"
          ]
        }
      ]
    },
    {
      "cell_type": "code",
      "source": [
        "print('welcome' + 'to\\n' + 'a new world')"
      ],
      "metadata": {
        "colab": {
          "base_uri": "https://localhost:8080/"
        },
        "id": "9tuZQ3JWqs87",
        "outputId": "e1429448-1638-4f3b-8645-3b957d465122"
      },
      "execution_count": null,
      "outputs": [
        {
          "output_type": "stream",
          "name": "stdout",
          "text": [
            "welcometo\n",
            "a new world\n"
          ]
        }
      ]
    },
    {
      "cell_type": "code",
      "source": [
        "name=str(input(\"enter your name: \"))\n",
        "print(\"Welcome \",name,\"! ! !\")"
      ],
      "metadata": {
        "colab": {
          "base_uri": "https://localhost:8080/"
        },
        "id": "H2oXHaXUwnGk",
        "outputId": "089490d7-0154-4be9-a93c-b9be177fbfa1"
      },
      "execution_count": null,
      "outputs": [
        {
          "output_type": "stream",
          "name": "stdout",
          "text": [
            "enter your name: shes\n",
            "Welcome  shes ! ! !\n"
          ]
        }
      ]
    },
    {
      "cell_type": "code",
      "source": [
        "print(\"hello\",\"world\",sep=\"$\",end=\"#\")"
      ],
      "metadata": {
        "id": "cBRZLC0-xaDl",
        "colab": {
          "base_uri": "https://localhost:8080/"
        },
        "outputId": "5aafc3d0-8f4f-42d0-e359-979e51ba1cac"
      },
      "execution_count": null,
      "outputs": [
        {
          "output_type": "stream",
          "name": "stdout",
          "text": [
            "hello$world#"
          ]
        }
      ]
    },
    {
      "cell_type": "code",
      "source": [
        "a=25//3**2+5%2\n",
        "print(a)"
      ],
      "metadata": {
        "colab": {
          "base_uri": "https://localhost:8080/"
        },
        "id": "GS6cnDs_wkXv",
        "outputId": "a5eeb3ee-ecdb-4b78-e588-5329acd15b48"
      },
      "execution_count": null,
      "outputs": [
        {
          "output_type": "stream",
          "name": "stdout",
          "text": [
            "3\n"
          ]
        }
      ]
    },
    {
      "cell_type": "code",
      "source": [
        "a=int(input(\"enter first number: \"))\n",
        "b=int(input(\"enter second number: \"))\n",
        "c=int(input(\"enter third number: \"))\n",
        "avg=(a+b+c)/3\n",
        "print(\"average=\",avg)"
      ],
      "metadata": {
        "colab": {
          "base_uri": "https://localhost:8080/"
        },
        "id": "txJYJy9FyNzQ",
        "outputId": "271c871d-d2bf-489b-9195-5efed1c47bde"
      },
      "execution_count": null,
      "outputs": [
        {
          "output_type": "stream",
          "name": "stdout",
          "text": [
            "enter first number: 1\n",
            "enter second number: 1\n",
            "enter third number: 1\n",
            "average= 1.0\n"
          ]
        }
      ]
    },
    {
      "cell_type": "code",
      "source": [
        "a=int(input(\"enter a number: \"))\n",
        "b=int(input(\"enter a number: \"))\n",
        "if a>b:\n",
        "  print(a,\"is greater than\",b)\n",
        "elif a<b:\n",
        "  print(b,\"is greater than\",a)\n",
        "else:\n",
        "  print(a,\"is equal to\",b)"
      ],
      "metadata": {
        "colab": {
          "base_uri": "https://localhost:8080/"
        },
        "id": "hGUeFbdKy3c_",
        "outputId": "b6ebcc81-6931-46aa-bbf5-7a4198b8d674"
      },
      "execution_count": null,
      "outputs": [
        {
          "output_type": "stream",
          "name": "stdout",
          "text": [
            "enter a number: 1\n",
            "enter a number: 1\n",
            "1 is equal to 1\n"
          ]
        }
      ]
    },
    {
      "cell_type": "code",
      "source": [
        "age=int(input(\"enter your age: \"))\n",
        "if age>60:\n",
        "  print(\"You are a senior citizen\")\n",
        "else:\n",
        "  print(\"You are a youngster\")"
      ],
      "metadata": {
        "colab": {
          "base_uri": "https://localhost:8080/"
        },
        "id": "Z28k8P3hzKLP",
        "outputId": "283586a8-8736-4059-f0bb-3257f69adbb1"
      },
      "execution_count": null,
      "outputs": [
        {
          "output_type": "stream",
          "name": "stdout",
          "text": [
            "enter your age: -1\n",
            "You are a youngster\n"
          ]
        }
      ]
    },
    {
      "cell_type": "code",
      "source": [
        "a=int(input(\"enter a number:  \"))\n",
        "if a%5==0:\n",
        "  print(a,\"is a multiple of 5\")\n",
        "else:\n",
        "  print(a,\"is not a multiple of 5\")"
      ],
      "metadata": {
        "colab": {
          "base_uri": "https://localhost:8080/"
        },
        "id": "cXRwKjwuzZ4f",
        "outputId": "d59a836c-746b-4c44-a51b-ba66e6e797f3"
      },
      "execution_count": null,
      "outputs": [
        {
          "output_type": "stream",
          "name": "stdout",
          "text": [
            "enter a number:  11\n",
            "11 is not a multiple of 5\n"
          ]
        }
      ]
    },
    {
      "cell_type": "code",
      "source": [
        "a=int(input(\"enter first number: \"))\n",
        "b=int(input(\"enter second number: \"))\n",
        "c=int(input(\"enter third number:  \"))\n",
        "if a>b and a>c:\n",
        "  print(a,\"is the largest number\")\n",
        "elif b>a and b>c:\n",
        "  print(b,\"is the largest number\")\n",
        "elif c>a and c>b:\n",
        "  print(c,\"is the largest number\")\n",
        "else:\n",
        "  print(\"all numbers are equal\")"
      ],
      "metadata": {
        "colab": {
          "base_uri": "https://localhost:8080/"
        },
        "id": "0dUXGV6dzt0_",
        "outputId": "1b31c3c9-daa2-4539-b508-aa35dea21ff4"
      },
      "execution_count": null,
      "outputs": [
        {
          "output_type": "stream",
          "name": "stdout",
          "text": [
            "enter first number: 10\n",
            "enter second number: 10\n",
            "enter third number:  11\n",
            "11 is the largest number\n"
          ]
        }
      ]
    },
    {
      "cell_type": "markdown",
      "source": [
        "pg 11 q6"
      ],
      "metadata": {
        "id": "NV9CVr--3cy2"
      }
    },
    {
      "cell_type": "code",
      "source": [
        "price = float(input(\"enter price of the item: \"))\n",
        "qty = float(input(\"enter the quantity of the item: \"))\n",
        "if qty >= 1000:\n",
        "  price = price - (price%10)\n",
        "  print(\"amount to be payed by the customer is\",price)\n",
        "elif qty >= 500 and qty < 1000:\n",
        "  price = price-(price%5)\n",
        "  print(\"amount to be payed by the customer is\", price)\n",
        "elif qty < 500:\n",
        "  price=price\n",
        "  print(\"amount to be payed by the customer is\",price)\n",
        "else:\n",
        "  print(\"amount to be payed by the customer is: \", price)"
      ],
      "metadata": {
        "colab": {
          "base_uri": "https://localhost:8080/"
        },
        "id": "SskV_BHf0Mrp",
        "outputId": "f1638308-bd82-4305-dce1-1fd6f0f8443c"
      },
      "execution_count": null,
      "outputs": [
        {
          "output_type": "stream",
          "name": "stdout",
          "text": [
            "enter price of the item: 100\n",
            "enter the quantity of the item: 200\n",
            "amount to be payed by the customer is 100.0\n"
          ]
        }
      ]
    },
    {
      "cell_type": "markdown",
      "source": [
        "pg 11 q7"
      ],
      "metadata": {
        "id": "FT--FdKK3g8M"
      }
    },
    {
      "cell_type": "code",
      "source": [
        "salary = float(input(\"enter salary of the employee:  \"))\n",
        "serv_yrs = float(input(\"enter service years of the employee: \"))\n",
        "if serv_yrs > 20:\n",
        "  bonus = (salary/20)*100\n",
        "  salary = salary + bonus\n",
        "  print(\"your bonus is \",bonus,\"and net salary is \",salary)\n",
        "elif serv_yrs > 10:\n",
        "  bonus = (salary/10)*100\n",
        "  salary = salary + bonus\n",
        "  print(\"your bonus is \",bonus,\"and net salary is \",salary)\n",
        "elif serv_yrs > 5:\n",
        "  bonus = (salary/5)*100\n",
        "  salary = salary + bonus\n",
        "  print(\"your bonus is \",bonus,\"and net salary is \",salary)\n",
        "else:\n",
        "  bonus=500\n",
        "  salary = salary + bonus\n",
        "  print(\"your bonus is \",bonus,\"and net salary is \",salary)"
      ],
      "metadata": {
        "colab": {
          "base_uri": "https://localhost:8080/"
        },
        "id": "3KDywx9R1_Kp",
        "outputId": "bb815a75-7805-4ef1-9a94-8e49a65b9135"
      },
      "execution_count": null,
      "outputs": [
        {
          "output_type": "stream",
          "name": "stdout",
          "text": [
            "enter salary of the employee:  1000\n",
            "enter service years of the employee: 15\n",
            "your bonus is  10000.0 and net salary is  11000.0\n"
          ]
        }
      ]
    },
    {
      "cell_type": "code",
      "source": [
        "txt = str(input(\"enter a string: \"))\n",
        "num = int(input(\"enter a number: \"))a\n",
        "result = txt*num\n",
        "print(result)"
      ],
      "metadata": {
        "colab": {
          "base_uri": "https://localhost:8080/"
        },
        "id": "xeBUrSKY7Dee",
        "outputId": "d2bb6f08-3e95-4928-e2f9-fd661c427971"
      },
      "execution_count": null,
      "outputs": [
        {
          "output_type": "stream",
          "name": "stdout",
          "text": [
            "enter a string: shesh\n",
            "enter a number: 4\n",
            "sheshsheshsheshshesh\n"
          ]
        }
      ]
    },
    {
      "cell_type": "code",
      "source": [
        "a = 25//3**2+5%2\n",
        "print(a)"
      ],
      "metadata": {
        "id": "q4xFwi4s-4sP",
        "colab": {
          "base_uri": "https://localhost:8080/"
        },
        "outputId": "4db81cf1-9e69-418f-fb96-a2f1d4531391"
      },
      "execution_count": null,
      "outputs": [
        {
          "output_type": "stream",
          "name": "stdout",
          "text": [
            "3\n"
          ]
        }
      ]
    },
    {
      "cell_type": "code",
      "source": [
        "a = int(input(\"enter first number: \"))\n",
        "if a>0:\n",
        "  print(a,\"is positive\")\n",
        "elif a<0:\n",
        "  print(a,\"is negative\")\n",
        "else:\n",
        "  print(a,\"is zero\")"
      ],
      "metadata": {
        "colab": {
          "base_uri": "https://localhost:8080/"
        },
        "id": "d4OHV1Ionags",
        "outputId": "409f18a8-37aa-4213-e57a-5b6e9a77218f"
      },
      "execution_count": null,
      "outputs": [
        {
          "output_type": "stream",
          "name": "stdout",
          "text": [
            "enter first number: -34234\n",
            "-34234 is negative\n"
          ]
        }
      ]
    },
    {
      "cell_type": "code",
      "source": [
        "sub1 = float(input(\"enter marks of subject 1: \"))\n",
        "sub2 = float(input(\"enter marks of subject 2: \"))\n",
        "sub3 = float(input(\"enter marks of subject 3: \"))\n",
        "sub4 = float(input(\"enter marks of subject 4: \"))\n",
        "sub5 = float(input(\"enter marks of subject 5: \"))\n",
        "aggregate = (sub1+sub2+sub3+sub4+sub5)/500*100\n",
        "if aggregate >81:\n",
        "  print(\"Grade A\")\n",
        "elif aggregate >61 and aggregate <80:\n",
        "  print(\"grade b\")\n",
        "elif aggregate > 51 and aggregate < 80:\n",
        "  print(\"grade c\")\n",
        "elif aggregate > 46 and aggregate < 50:\n",
        "  print(\"grade d\")\n",
        "elif aggregate >25 and aggregate < 45:\n",
        "  print(\"grade e\")\n",
        "  if aggregate > 25:\n",
        "    print(\"grade f\")"
      ],
      "metadata": {
        "colab": {
          "base_uri": "https://localhost:8080/"
        },
        "id": "cQvssTgboBzS",
        "outputId": "9f12014b-3d2d-4a20-a934-e5e478f142d9"
      },
      "execution_count": null,
      "outputs": [
        {
          "output_type": "stream",
          "name": "stdout",
          "text": [
            "enter marks of subject 1: 97\n",
            "enter marks of subject 2: 95\n",
            "enter marks of subject 3: 92\n",
            "enter marks of subject 4: 94\n",
            "enter marks of subject 5: 95\n",
            "Grade A\n"
          ]
        }
      ]
    },
    {
      "cell_type": "code",
      "source": [
        "classes = int(input(\"enter number of classes held: \"))\n",
        "classes_attended = int(input(\"enter number of classes attended: \"))\n",
        "percentage = (classes_attended/classes)*100\n",
        "if percentage > 75:\n",
        "  print(\"Allowed to appear for the exam\")\n",
        "elif percentage < 75:\n",
        "  print(\"not allowed to appear for the exam\")"
      ],
      "metadata": {
        "colab": {
          "base_uri": "https://localhost:8080/"
        },
        "id": "QjKUggT7qB6U",
        "outputId": "d0f6de5e-da0b-4353-9829-7f563b007d84"
      },
      "execution_count": null,
      "outputs": [
        {
          "output_type": "stream",
          "name": "stdout",
          "text": [
            "enter number of classes held: 100\n",
            "enter number of classes attended: 50\n",
            "not allowed to appear for the exam\n"
          ]
        }
      ]
    },
    {
      "cell_type": "code",
      "source": [
        "number = int(input(\"enter a four digit number: \"))\n",
        "if number%4==0:\n",
        "  if number%400==0:\n",
        "    print(\"it is a century year\")\n",
        "  else:\n",
        "    print('it is a leap year')\n",
        "else:\n",
        "  print('it is not a leap ear')"
      ],
      "metadata": {
        "colab": {
          "base_uri": "https://localhost:8080/"
        },
        "id": "fBfrhardq44A",
        "outputId": "bb2e11cc-30c3-4e34-e5ae-96ef43075302"
      },
      "execution_count": null,
      "outputs": [
        {
          "output_type": "stream",
          "name": "stdout",
          "text": [
            "enter a four digit number: 2100\n",
            "it is a leap year\n"
          ]
        }
      ]
    },
    {
      "cell_type": "code",
      "source": [
        "a = int(input(\"enter a number: \"))\n",
        "if a>0:\n",
        "  a=a\n",
        "  print(a)\n",
        "elif a<0:\n",
        "  a=-(a)\n",
        "  print(a)"
      ],
      "metadata": {
        "colab": {
          "base_uri": "https://localhost:8080/"
        },
        "id": "MwVQmDVtrxM6",
        "outputId": "2192571e-cddb-4541-bdf6-3c19ee77f049"
      },
      "execution_count": null,
      "outputs": [
        {
          "output_type": "stream",
          "name": "stdout",
          "text": [
            "enter a number: -2\n",
            "2\n"
          ]
        }
      ]
    },
    {
      "cell_type": "code",
      "source": [
        "a = float(input(\"enter the length of first side of triangle: \"))\n",
        "b = float(input(\"enter the length of second side of triangle: \"))\n",
        "c = float(input(\"enter the length of third side of triangle:  \"))\n",
        "if a+b>c and a+c>b and b+c>a:\n",
        "  print(\"triangle can be formed\")\n",
        "  if a==b==c:\n",
        "    print(\"the triangle is equilateral \")\n",
        "  elif a!=b!=c:\n",
        "    print(\"the triangle formed is scalene\")\n",
        "  elif a==b!=c or a==c!=b or b==c!=a:\n",
        "    print(\"triangle formed is scalene\")\n",
        "else:\n",
        "  print(\"triangle can't be formed\")"
      ],
      "metadata": {
        "colab": {
          "base_uri": "https://localhost:8080/"
        },
        "id": "xQGxq38AwLFz",
        "outputId": "a6262de2-1242-4d6d-807d-911902eb7d27"
      },
      "execution_count": null,
      "outputs": [
        {
          "output_type": "stream",
          "name": "stdout",
          "text": [
            "enter the length of first side of triangle: 5\n",
            "enter the length of second side of triangle: 3\n",
            "enter the length of third side of triangle:  4\n",
            "triangle can be formed\n",
            "the triangle formed is scalene\n"
          ]
        }
      ]
    },
    {
      "cell_type": "code",
      "source": [
        "km = float(input(\"enter number of kilometres: \"))\n",
        "cls = str(input(\"enter the class of journey: \"))\n",
        "if cls==\"first\" and km<=100:\n",
        "  fare = km*3\n",
        "  print(\"total fare is: \",fare)\n",
        "elif cls==\"first\" and km>100 and km<=250:\n",
        "  fare = (100*3) + ((km-100)*2.50)\n",
        "  print('total fare is', fare)\n",
        "elif cls==\"first\" and km>250:\n",
        "  fare = (100*3) + (150*2.50) + ((km-250)*2)\n",
        "  print(\"total fare is, \",fare)\n",
        "elif cls==\"second\" and km<=100:\n",
        "  fare = km*2\n",
        "  print(\"total fare is: \",fare)\n",
        "elif cls==\"second\" and km>100 and km<=250:\n",
        "  fare = (100*2) + ((km-100)*1.50)\n",
        "  print('total fare is', fare)\n",
        "elif cls==\"second\" and km>250:\n",
        "  fare = (100*2) + (150*1.50) + ((km-250)*1)\n",
        "  print(\"total fare is, \",fare)\n",
        "if cls==\"third\" and km<=100:\n",
        "  fare = km*1.50\n",
        "  print(\"total fare is: \",fare)\n",
        "elif cls==\"third\" and km>100 and km<=250:\n",
        "  fare = (100*1.50) + ((km-100)*1)\n",
        "  print('total fare is', fare)\n",
        "elif cls==\"third\" and km>250:\n",
        "  fare = (100*1.50) + (150*1) + ((km-250)*0.50)\n",
        "  print(\"total fare is, \",fare)\n",
        "\n"
      ],
      "metadata": {
        "colab": {
          "base_uri": "https://localhost:8080/"
        },
        "id": "jZJC7zEPCJXq",
        "outputId": "d58dde42-8fb2-49e3-bf32-7c1c91042472"
      },
      "execution_count": null,
      "outputs": [
        {
          "output_type": "stream",
          "name": "stdout",
          "text": [
            "enter number of kilometres: 300\n",
            "enter the class of journey: third\n",
            "total fare is,  325.0\n"
          ]
        }
      ]
    },
    {
      "cell_type": "code",
      "source": [
        "a = int(input(\"enter a number: \"))\n",
        "if a%2==0:\n",
        "  print(\"the number is even\")\n",
        "elif a%2!=0:\n",
        "  print(\"the number is odd\")"
      ],
      "metadata": {
        "colab": {
          "base_uri": "https://localhost:8080/"
        },
        "id": "7H5Iq_keLdGh",
        "outputId": "efa17397-fd62-44a6-cf10-c246174f0837"
      },
      "execution_count": null,
      "outputs": [
        {
          "output_type": "stream",
          "name": "stdout",
          "text": [
            "enter a number: -1\n",
            "the number is odd\n"
          ]
        }
      ]
    },
    {
      "cell_type": "code",
      "source": [
        "marks = float(input(\"enter your marks: \"))\n",
        "if marks>=80:\n",
        "  print(\"scholarship granted\")\n",
        "else:\n",
        "  print(\"more efforts needed\")"
      ],
      "metadata": {
        "colab": {
          "base_uri": "https://localhost:8080/"
        },
        "id": "RpUZWGOUMGha",
        "outputId": "5f9344e4-d222-4d6a-813b-62d14a7dd21f"
      },
      "execution_count": null,
      "outputs": [
        {
          "output_type": "stream",
          "name": "stdout",
          "text": [
            "enter your marks: 99\n",
            "scholarship granted\n"
          ]
        }
      ]
    },
    {
      "cell_type": "code",
      "source": [
        "color = str(input(\"Enter color of traffic signal: \"))\n",
        "if color==\"Red\":\n",
        "  print(\"Stop\")\n",
        "elif color==\"Yellow\":\n",
        "  print(\"Wait\")\n",
        "elif color==\"Green\":\n",
        "  print(\"Go\")\n",
        "else:\n",
        "  print(\"Not the color of the Traffic Light\")"
      ],
      "metadata": {
        "colab": {
          "base_uri": "https://localhost:8080/"
        },
        "id": "gQdOBpusUv1o",
        "outputId": "61f00a1f-46f9-415a-8f70-6a0b0136a7d6"
      },
      "execution_count": null,
      "outputs": [
        {
          "output_type": "stream",
          "name": "stdout",
          "text": [
            "Enter color of traffic signal: red\n",
            "Not the color of the Traffic Light\n"
          ]
        }
      ]
    },
    {
      "cell_type": "code",
      "source": [
        "for i in range(1,11):\n",
        "  print(i)"
      ],
      "metadata": {
        "colab": {
          "base_uri": "https://localhost:8080/"
        },
        "id": "zfIFlej_VTKH",
        "outputId": "bcd55903-4986-4aea-a127-fdd81d016d6f"
      },
      "execution_count": null,
      "outputs": [
        {
          "output_type": "stream",
          "name": "stdout",
          "text": [
            "1\n",
            "2\n",
            "3\n",
            "4\n",
            "5\n",
            "6\n",
            "7\n",
            "8\n",
            "9\n",
            "10\n"
          ]
        }
      ]
    },
    {
      "cell_type": "code",
      "source": [
        "for i in range(1,11,2):\n",
        "  print(i)"
      ],
      "metadata": {
        "colab": {
          "base_uri": "https://localhost:8080/"
        },
        "id": "03SXvGE9cIZK",
        "outputId": "ccde99e0-ffff-482d-b0b0-b67e0c212be5"
      },
      "execution_count": null,
      "outputs": [
        {
          "output_type": "stream",
          "name": "stdout",
          "text": [
            "1\n",
            "3\n",
            "5\n",
            "7\n",
            "9\n"
          ]
        }
      ]
    },
    {
      "cell_type": "code",
      "source": [
        "S = 0\n",
        "for i in range(2,11,2):\n",
        "  print"
      ],
      "metadata": {
        "colab": {
          "base_uri": "https://localhost:8080/"
        },
        "id": "WUTcuUddcMOQ",
        "outputId": "915e644e-7b3e-4992-8686-4776265452df"
      },
      "execution_count": null,
      "outputs": [
        {
          "output_type": "stream",
          "name": "stdout",
          "text": [
            "0\n",
            "2\n",
            "6\n",
            "12\n",
            "20\n"
          ]
        }
      ]
    },
    {
      "cell_type": "code",
      "source": [
        "n=int(input(\"enter n: \"))\n",
        "s=0\n",
        "for i in range(1,n+1):\n",
        "  s=s+3*i\n",
        "  print(3*i,end='+')\n",
        "print(\"=\",s)"
      ],
      "metadata": {
        "colab": {
          "base_uri": "https://localhost:8080/"
        },
        "id": "olukgA3ycbIs",
        "outputId": "fb9dbcd2-a639-47e8-fd17-1ff904eead4d"
      },
      "execution_count": null,
      "outputs": [
        {
          "output_type": "stream",
          "name": "stdout",
          "text": [
            "enter n: 10\n",
            "3+6+9+12+15+18+21+24+27+30+= 165\n"
          ]
        }
      ]
    },
    {
      "cell_type": "code",
      "source": [
        "n=int(input(\"enter n: \"))\n",
        "fact = 1\n",
        "for i in range(1,n+1):\n",
        "  fact=fact*i\n",
        "  print(fact)"
      ],
      "metadata": {
        "colab": {
          "base_uri": "https://localhost:8080/"
        },
        "id": "pA4kRSJTeDDi",
        "outputId": "ae098794-9c2e-41b0-a721-16146cbdb5d6"
      },
      "execution_count": null,
      "outputs": [
        {
          "output_type": "stream",
          "name": "stdout",
          "text": [
            "enter n: 5\n",
            "1\n",
            "2\n",
            "6\n",
            "24\n",
            "120\n"
          ]
        }
      ]
    },
    {
      "cell_type": "code",
      "source": [
        "n=int(input(\"enter n: \"))\n",
        "for i in range(1,n+1):\n",
        "  if n%i==0:\n",
        "    print(i)"
      ],
      "metadata": {
        "colab": {
          "base_uri": "https://localhost:8080/"
        },
        "id": "GR_PY3Bqexsm",
        "outputId": "8f74e4c5-926b-4d19-89f5-cab3a2e68929"
      },
      "execution_count": null,
      "outputs": [
        {
          "output_type": "stream",
          "name": "stdout",
          "text": [
            "enter n: 20\n",
            "1\n",
            "2\n",
            "4\n",
            "5\n",
            "10\n",
            "20\n"
          ]
        }
      ]
    },
    {
      "cell_type": "code",
      "source": [
        "a=int(input(\"entervalue of a\"))\n",
        "b=int(input(\"enter value of b\"))\n",
        "if a>b:\n",
        "  min=b\n",
        "else:\n",
        "  min=a\n",
        "for i in range(1,min+1):\n",
        "  if a%i==0 and b%i==0:\n",
        "    print(i)"
      ],
      "metadata": {
        "colab": {
          "base_uri": "https://localhost:8080/"
        },
        "id": "5xIWQvadfDeh",
        "outputId": "a0828fae-fbe8-4503-d7a8-dd67b551b3e7"
      },
      "execution_count": null,
      "outputs": [
        {
          "output_type": "stream",
          "name": "stdout",
          "text": [
            "entervalue of a10\n",
            "enter value of b5\n",
            "1\n",
            "5\n"
          ]
        }
      ]
    },
    {
      "cell_type": "code",
      "source": [
        "n=int(input(\"enter n: \"))\n",
        "a=0;b=1\n",
        "for i in range(1,n+1):\n",
        "  print(a,end=\",\")\n",
        "  a,b=b,a+b"
      ],
      "metadata": {
        "colab": {
          "base_uri": "https://localhost:8080/"
        },
        "id": "BeY_HtRVf9og",
        "outputId": "4cc12648-d2b9-448a-860d-b8e1ec48f83b"
      },
      "execution_count": null,
      "outputs": [
        {
          "output_type": "stream",
          "name": "stdout",
          "text": [
            "enter n: 10\n",
            "0,1,1,2,3,5,8,13,21,34,"
          ]
        }
      ]
    },
    {
      "cell_type": "code",
      "source": [
        "for i in range(10,21):\n",
        "  if i%7==0:\n",
        "    print(i)\n",
        "else:\n",
        "  print(\"all done\")"
      ],
      "metadata": {
        "colab": {
          "base_uri": "https://localhost:8080/"
        },
        "id": "8Bks1GJEoxI1",
        "outputId": "01457150-8099-4eb6-e61d-d507f32d24ca"
      },
      "execution_count": null,
      "outputs": [
        {
          "output_type": "stream",
          "name": "stdout",
          "text": [
            "14\n",
            "all done\n"
          ]
        }
      ]
    },
    {
      "cell_type": "code",
      "source": [
        "for i in range(2,10,2):\n",
        "  if i%10!=0:\n",
        "    print(i)\n",
        "  else:\n",
        "    break"
      ],
      "metadata": {
        "colab": {
          "base_uri": "https://localhost:8080/"
        },
        "id": "qdvQrazopbtS",
        "outputId": "ebc6529c-5e9d-4f86-fee6-df0a6895140a"
      },
      "execution_count": null,
      "outputs": [
        {
          "output_type": "stream",
          "name": "stdout",
          "text": [
            "2\n",
            "4\n",
            "6\n",
            "8\n"
          ]
        }
      ]
    },
    {
      "cell_type": "code",
      "source": [
        "n=int(input(\"enter n: \"))\n",
        "if n>1:\n",
        "  for i in range(2,n):\n",
        "    if n%i==0:\n",
        "      print(n,\"is not prime\")\n",
        "      break\n",
        "    else:\n",
        "      print(n,\"is prime\")\n",
        "else:\n",
        "  print(\"neither prime nor composite\")"
      ],
      "metadata": {
        "id": "Ltp2PRmAtift",
        "colab": {
          "base_uri": "https://localhost:8080/"
        },
        "outputId": "a511b6a5-b6a3-45c1-9f5a-6720e0d0c7db"
      },
      "execution_count": null,
      "outputs": [
        {
          "output_type": "stream",
          "name": "stdout",
          "text": [
            "enter n: 10\n",
            "10 is not prime\n"
          ]
        }
      ]
    },
    {
      "cell_type": "code",
      "source": [
        "n=int(input(\"enter n: \"))\n",
        "s=0\n",
        "for i in range(1,n+1):\n",
        "  print(i,sep='+')\n",
        "  s=s+i\n",
        "print(\"=\",s)"
      ],
      "metadata": {
        "colab": {
          "base_uri": "https://localhost:8080/"
        },
        "id": "TWnQ5Ab3y0-f",
        "outputId": "41368c35-647a-406a-d34c-85be3c4f116d"
      },
      "execution_count": null,
      "outputs": [
        {
          "output_type": "stream",
          "name": "stdout",
          "text": [
            "enter n: 5\n",
            "1\n",
            "2\n",
            "3\n",
            "4\n",
            "5\n",
            "= 15\n"
          ]
        }
      ]
    },
    {
      "cell_type": "code",
      "source": [
        "n=int(input(\"Enter n: \"))\n",
        "s=0\n",
        "for i in range(1,n+1):\n",
        "  print(2*i,end=\"+\")\n",
        "  s=s+2*i\n",
        "print(\"=\",s)"
      ],
      "metadata": {
        "colab": {
          "base_uri": "https://localhost:8080/"
        },
        "id": "DMfIAHQ1zFMo",
        "outputId": "95983913-f291-4262-f866-492f85405d5a"
      },
      "execution_count": null,
      "outputs": [
        {
          "output_type": "stream",
          "name": "stdout",
          "text": [
            "Enter n: 5\n",
            "2+4+6+8+10+= 30\n"
          ]
        }
      ]
    },
    {
      "cell_type": "code",
      "source": [
        "n=int(input(\"enter n: \"))\n",
        "s=0\n",
        "for i in range(1,n+1):\n",
        "  print(3*i-2,end='+')\n",
        "  s+=3*i-2\n",
        "print('=',s)"
      ],
      "metadata": {
        "colab": {
          "base_uri": "https://localhost:8080/"
        },
        "id": "PovHp2sZzo6n",
        "outputId": "ceaf762f-06b6-4e1b-9f89-bafca583ea15"
      },
      "execution_count": null,
      "outputs": [
        {
          "output_type": "stream",
          "name": "stdout",
          "text": [
            "enter n: 5\n",
            "1+4+7+10+13+= 35\n"
          ]
        }
      ]
    },
    {
      "cell_type": "code",
      "source": [
        "n=int(input(\"enter n: \"))\n",
        "x=float(input(\"enter x: \"))\n",
        "s=0\n",
        "for i in range(1,n+1):\n",
        "  print(x**i,end='+')\n",
        "  s=s+x**i\n",
        "print('=',s)"
      ],
      "metadata": {
        "colab": {
          "base_uri": "https://localhost:8080/"
        },
        "id": "8Dcu5-fP0Djr",
        "outputId": "c893534b-cd9f-4acb-a8af-f36c9ca740bd"
      },
      "execution_count": null,
      "outputs": [
        {
          "output_type": "stream",
          "name": "stdout",
          "text": [
            "enter n: 10\n",
            "enter x: 2\n",
            "2.0+4.0+8.0+16.0+32.0+64.0+128.0+256.0+512.0+1024.0+= 2046.0\n"
          ]
        }
      ]
    },
    {
      "cell_type": "code",
      "source": [
        "while True:\n",
        "  n=int(input(\"enter n: \"))\n",
        "  print(n*7)\n",
        "  choice = input(\"Yes or no?\")\n",
        "  if choice==\"no\":\n",
        "    break"
      ],
      "metadata": {
        "colab": {
          "base_uri": "https://localhost:8080/"
        },
        "id": "_ZLNcDCE0Xy-",
        "outputId": "3c7931ca-541d-4db6-c2c3-c49560e84016"
      },
      "execution_count": null,
      "outputs": [
        {
          "name": "stdout",
          "output_type": "stream",
          "text": [
            "enter n: 100\n",
            "700\n",
            "Yes or no?no\n"
          ]
        }
      ]
    },
    {
      "cell_type": "code",
      "source": [
        "while True:\n",
        "  a=int(input(\"enter a: \"))\n",
        "  b=int(input(\"enter b: \"))\n",
        "  c=2*a+b\n",
        "  if c==0:\n",
        "    break\n",
        "  else:\n",
        "    print(\"result =\",c)"
      ],
      "metadata": {
        "colab": {
          "base_uri": "https://localhost:8080/"
        },
        "id": "p6hzCHNZ6NGf",
        "outputId": "ad60df79-b34a-4084-8ebc-da240e692563"
      },
      "execution_count": null,
      "outputs": [
        {
          "name": "stdout",
          "output_type": "stream",
          "text": [
            "enter a: 10\n",
            "enter b: 12\n",
            "result = 32\n",
            "enter a: 0\n",
            "enter b: 0\n"
          ]
        }
      ]
    },
    {
      "cell_type": "code",
      "source": [
        "n=int(input(\"enter n: \"))\n",
        "while n>0:\n",
        "  d=n%10\n",
        "  print(\"*\"*d)\n",
        "  n=n//10"
      ],
      "metadata": {
        "colab": {
          "base_uri": "https://localhost:8080/"
        },
        "id": "RFjefGnj6x4X",
        "outputId": "7242981f-666c-4673-bbf6-82b7f855aac7"
      },
      "execution_count": null,
      "outputs": [
        {
          "output_type": "stream",
          "name": "stdout",
          "text": [
            "enter n: 455\n",
            "*****\n",
            "*****\n",
            "****\n"
          ]
        }
      ]
    },
    {
      "cell_type": "code",
      "source": [
        "n=int(input(\"n: \"))\n",
        "s=0\n",
        "while n>0:\n",
        "  d=n%10\n",
        "  s=s+d\n",
        "  print(d)\n",
        "  n=n//10\n",
        "print(s)"
      ],
      "metadata": {
        "colab": {
          "base_uri": "https://localhost:8080/"
        },
        "id": "l6INULBu69EP",
        "outputId": "1d3c54ba-1906-4085-c5ff-c16458a9d74c"
      },
      "execution_count": null,
      "outputs": [
        {
          "output_type": "stream",
          "name": "stdout",
          "text": [
            "n: 344\n",
            "4\n",
            "4\n",
            "3\n",
            "11\n"
          ]
        }
      ]
    },
    {
      "cell_type": "code",
      "source": [
        "n=int(input(\"enter n: \"))\n",
        "even =0;odd=0\n",
        "while n>0:\n",
        "  d=n%10\n",
        "  if d%2==0:\n",
        "    even=even+d\n",
        "  else:\n",
        "    odd=odd+d\n",
        "  print(d)\n",
        "  n=n//10\n",
        "print(even)\n",
        "print(odd)"
      ],
      "metadata": {
        "colab": {
          "base_uri": "https://localhost:8080/"
        },
        "id": "951iKYYm7cMe",
        "outputId": "feedbd4f-4fa1-4d7f-e528-7983d444d320"
      },
      "execution_count": null,
      "outputs": [
        {
          "output_type": "stream",
          "name": "stdout",
          "text": [
            "enter n: 450\n",
            "0\n",
            "5\n",
            "4\n",
            "4\n",
            "5\n"
          ]
        }
      ]
    },
    {
      "cell_type": "code",
      "source": [
        "n=int(input(\"enter n: \"))\n",
        "a,b=0,0\n",
        "while n>0:\n",
        "  d=n%10\n",
        "  if d==0:\n",
        "    a=a+1\n",
        "  elif d==1:\n",
        "    b=b+1\n",
        "  n=n//10\n",
        "print(a)\n",
        "print(b)"
      ],
      "metadata": {
        "colab": {
          "base_uri": "https://localhost:8080/"
        },
        "id": "ScpdQfiE7vz0",
        "outputId": "5b9c62d8-5393-4a53-ed45-1bcfb0d116c7"
      },
      "execution_count": null,
      "outputs": [
        {
          "output_type": "stream",
          "name": "stdout",
          "text": [
            "enter n: 34115500\n",
            "2\n",
            "2\n"
          ]
        }
      ]
    },
    {
      "cell_type": "code",
      "source": [
        "while True:\n",
        "  a=int(input())\n",
        "  b=int(input())\n",
        "  c=int(input())\n",
        "  if a==0 or b==0 or c==0:\n",
        "    break\n",
        "  if a*a+b*b==c*c or b*b+c*c==a*a or a*a+c*c==b*b:\n",
        "      print(\"pythogorean triplet\")\n",
        "  else:\n",
        "     print(\"not pt\")"
      ],
      "metadata": {
        "colab": {
          "base_uri": "https://localhost:8080/"
        },
        "id": "Dy24JtOw80M4",
        "outputId": "17e6f858-ec83-4eb3-d1fc-130f9845b608"
      },
      "execution_count": null,
      "outputs": [
        {
          "name": "stdout",
          "output_type": "stream",
          "text": [
            "3\n",
            "4\n",
            "5\n",
            "pythogorean triplet\n",
            "0\n",
            "0\n",
            "0\n"
          ]
        }
      ]
    },
    {
      "cell_type": "code",
      "source": [
        "n=int(input())\n",
        "while i<n:\n",
        "  if n%i==0\n",
        "    print(\"not prime\")\n",
        "    break\n",
        "  i=i+1\n",
        "else:\n",
        "  print(\"prime\")"
      ],
      "metadata": {
        "colab": {
          "base_uri": "https://localhost:8080/"
        },
        "id": "_jZ-QhJp9MDJ",
        "outputId": "906ec60a-97e6-476a-fb0c-32c50894e495"
      },
      "execution_count": null,
      "outputs": [
        {
          "output_type": "stream",
          "name": "stdout",
          "text": [
            "12\n",
            "prime\n"
          ]
        }
      ]
    },
    {
      "cell_type": "code",
      "source": [
        "x=int(input())\n",
        "y=str(x)\n",
        "if y==y[-1: :-1]:\n",
        "  print(\"palindrome\")"
      ],
      "metadata": {
        "colab": {
          "base_uri": "https://localhost:8080/"
        },
        "id": "T3-LdD5-B0sd",
        "outputId": "411ee6d6-f1ef-4adc-afca-eca19d4e242f"
      },
      "execution_count": null,
      "outputs": [
        {
          "name": "stdout",
          "output_type": "stream",
          "text": [
            "234\n"
          ]
        }
      ]
    },
    {
      "cell_type": "code",
      "source": [
        "a = \"this is a great work of art\"\n",
        "print(a.count(\"a\",8))"
      ],
      "metadata": {
        "colab": {
          "base_uri": "https://localhost:8080/"
        },
        "id": "Q7t8fJgPeYOW",
        "outputId": "a6c0df92-aa80-4dd4-b7b8-508e230587e2"
      },
      "execution_count": null,
      "outputs": [
        {
          "output_type": "stream",
          "name": "stdout",
          "text": [
            "3\n"
          ]
        }
      ]
    },
    {
      "cell_type": "code",
      "source": [
        "s = str(input(\"enter a string: \"))\n",
        "print(s.count(\"a\")+s.count(\"e\")+s.count(\"i\")+s.count(\"o\")+s.count(\"u\"))"
      ],
      "metadata": {
        "colab": {
          "base_uri": "https://localhost:8080/"
        },
        "id": "R6iaJWkyeujz",
        "outputId": "8badfb38-9a80-4730-efa7-e772c15196c1"
      },
      "execution_count": null,
      "outputs": [
        {
          "output_type": "stream",
          "name": "stdout",
          "text": [
            "enter a string: my name is shesh shiromani\n",
            "8\n"
          ]
        }
      ]
    },
    {
      "cell_type": "code",
      "source": [
        "x=str(input())\n",
        "print(x.find(\"ok\"))"
      ],
      "metadata": {
        "colab": {
          "base_uri": "https://localhost:8080/"
        },
        "id": "7POESc0HfaJo",
        "outputId": "f392677d-c669-4b57-8745-3f377bda5f58"
      },
      "execution_count": null,
      "outputs": [
        {
          "output_type": "stream",
          "name": "stdout",
          "text": [
            "shesh\n",
            "-1\n"
          ]
        }
      ]
    },
    {
      "cell_type": "code",
      "source": [
        "a=str(input(\"Enter string: \"))\n",
        "b=str(input(\"enter substring: \"))\n",
        "if a.find(b)==-1:\n",
        "  print(\"not a substring\")\n",
        "else:\n",
        "  print(\"it is a substring\")"
      ],
      "metadata": {
        "colab": {
          "base_uri": "https://localhost:8080/"
        },
        "id": "y75R3G-ufmSu",
        "outputId": "0a58c1f0-0efe-45f5-94ba-9e8eab1a2b1c"
      },
      "execution_count": null,
      "outputs": [
        {
          "output_type": "stream",
          "name": "stdout",
          "text": [
            "Enter string: shesh\n",
            "enter substring: sh\n",
            "it is a substring\n"
          ]
        }
      ]
    },
    {
      "cell_type": "code",
      "source": [
        "a=str(input())\n",
        "if a.startswith(\"sh\"):\n",
        "  print(\"ok\")\n",
        "elif a.endswith(\"mani\",3):\n",
        "  print(\"okay\")"
      ],
      "metadata": {
        "colab": {
          "base_uri": "https://localhost:8080/"
        },
        "id": "byI0kreZgfn_",
        "outputId": "dad4f489-7c2f-4514-fae2-440594e6ca17"
      },
      "execution_count": null,
      "outputs": [
        {
          "output_type": "stream",
          "name": "stdout",
          "text": [
            "rbkmani\n",
            "okay\n"
          ]
        }
      ]
    },
    {
      "cell_type": "code",
      "source": [
        "print(\"hello children\".isalnum())"
      ],
      "metadata": {
        "colab": {
          "base_uri": "https://localhost:8080/"
        },
        "id": "fl2ktHIdg7Yb",
        "outputId": "7cd6c3c0-a1ab-4ba7-a09b-783540bc82ab"
      },
      "execution_count": null,
      "outputs": [
        {
          "output_type": "stream",
          "name": "stdout",
          "text": [
            "False\n"
          ]
        }
      ]
    },
    {
      "cell_type": "code",
      "source": [
        "s=str(input(\"enter a string: \"))\n",
        "if s.isalnum()==False:\n",
        "  print(\"yes\")\n",
        "else:\n",
        "  print(\"no\")"
      ],
      "metadata": {
        "colab": {
          "base_uri": "https://localhost:8080/"
        },
        "id": "314WdgFnhf2n",
        "outputId": "a106c413-be43-4cac-dc4d-fc132abf9549"
      },
      "execution_count": null,
      "outputs": [
        {
          "output_type": "stream",
          "name": "stdout",
          "text": [
            "enter a string: @44\n",
            "yes\n"
          ]
        }
      ]
    },
    {
      "cell_type": "code",
      "source": [
        "S=str(input(\"enter a string: \"))\n",
        "a,n,s=0,0,0\n",
        "for i in S:\n",
        "  if i.isalpha()==True:\n",
        "    a=a+1\n",
        "    print(a)\n",
        "  elif i.isdigit()==True:\n",
        "    n=n+1\n",
        "    print(n)\n",
        "  else:\n",
        "    s=s+1\n",
        "    print(s)"
      ],
      "metadata": {
        "colab": {
          "base_uri": "https://localhost:8080/"
        },
        "id": "nDsBnxIOhzjM",
        "outputId": "e9bbf983-0049-4685-98d9-bb947531bc78"
      },
      "execution_count": null,
      "outputs": [
        {
          "output_type": "stream",
          "name": "stdout",
          "text": [
            "enter a string: rbkshesh123@\n",
            "1\n",
            "2\n",
            "3\n",
            "4\n",
            "5\n",
            "6\n",
            "7\n",
            "8\n",
            "1\n",
            "2\n",
            "3\n",
            "1\n"
          ]
        }
      ]
    },
    {
      "cell_type": "code",
      "source": [
        "s=str(input())\n",
        "for i in len(s):\n",
        "  if i.upper():\n",
        "    print(i.lower())\n",
        "  else:\n",
        "    print(i.upper())"
      ],
      "metadata": {
        "colab": {
          "base_uri": "https://localhost:8080/",
          "height": 228
        },
        "id": "iFftZ0bcixPL",
        "outputId": "e756a4fa-6464-4afb-a0c1-28b0155a2f46"
      },
      "execution_count": null,
      "outputs": [
        {
          "name": "stdout",
          "output_type": "stream",
          "text": [
            "shesh SHIROMANI\n"
          ]
        },
        {
          "output_type": "error",
          "ename": "TypeError",
          "evalue": "'int' object is not iterable",
          "traceback": [
            "\u001b[0;31m---------------------------------------------------------------------------\u001b[0m",
            "\u001b[0;31mTypeError\u001b[0m                                 Traceback (most recent call last)",
            "\u001b[0;32m<ipython-input-26-9a3765d196ec>\u001b[0m in \u001b[0;36m<cell line: 2>\u001b[0;34m()\u001b[0m\n\u001b[1;32m      1\u001b[0m \u001b[0ms\u001b[0m\u001b[0;34m=\u001b[0m\u001b[0mstr\u001b[0m\u001b[0;34m(\u001b[0m\u001b[0minput\u001b[0m\u001b[0;34m(\u001b[0m\u001b[0;34m)\u001b[0m\u001b[0;34m)\u001b[0m\u001b[0;34m\u001b[0m\u001b[0;34m\u001b[0m\u001b[0m\n\u001b[0;32m----> 2\u001b[0;31m \u001b[0;32mfor\u001b[0m \u001b[0mi\u001b[0m \u001b[0;32min\u001b[0m \u001b[0mlen\u001b[0m\u001b[0;34m(\u001b[0m\u001b[0ms\u001b[0m\u001b[0;34m)\u001b[0m\u001b[0;34m:\u001b[0m\u001b[0;34m\u001b[0m\u001b[0;34m\u001b[0m\u001b[0m\n\u001b[0m\u001b[1;32m      3\u001b[0m   \u001b[0;32mif\u001b[0m \u001b[0mi\u001b[0m\u001b[0;34m.\u001b[0m\u001b[0mupper\u001b[0m\u001b[0;34m(\u001b[0m\u001b[0;34m)\u001b[0m\u001b[0;34m:\u001b[0m\u001b[0;34m\u001b[0m\u001b[0;34m\u001b[0m\u001b[0m\n\u001b[1;32m      4\u001b[0m     \u001b[0mprint\u001b[0m\u001b[0;34m(\u001b[0m\u001b[0mi\u001b[0m\u001b[0;34m.\u001b[0m\u001b[0mlower\u001b[0m\u001b[0;34m(\u001b[0m\u001b[0;34m)\u001b[0m\u001b[0;34m)\u001b[0m\u001b[0;34m\u001b[0m\u001b[0;34m\u001b[0m\u001b[0m\n\u001b[1;32m      5\u001b[0m   \u001b[0;32melse\u001b[0m\u001b[0;34m:\u001b[0m\u001b[0;34m\u001b[0m\u001b[0;34m\u001b[0m\u001b[0m\n",
            "\u001b[0;31mTypeError\u001b[0m: 'int' object is not iterable"
          ]
        }
      ]
    },
    {
      "cell_type": "code",
      "source": [
        "a=\"peace and soul\"\n",
        "for i in range(len(a)):\n",
        "  if a[i]!=\" \":\n",
        "    print(a[i],end=\"*\")\n",
        "  else:\n",
        "    print(a[i])"
      ],
      "metadata": {
        "colab": {
          "base_uri": "https://localhost:8080/"
        },
        "id": "8lJldru8mQ45",
        "outputId": "7c7894c0-baf9-46c6-e483-780177e6c9cc"
      },
      "execution_count": null,
      "outputs": [
        {
          "output_type": "stream",
          "name": "stdout",
          "text": [
            "p*e*a*c*e* \n",
            "a*n*d* \n",
            "s*o*u*l*"
          ]
        }
      ]
    },
    {
      "cell_type": "code",
      "source": [
        "S=\"shesh shiromani\"\n",
        "print(S.lstrip(\" \"))"
      ],
      "metadata": {
        "colab": {
          "base_uri": "https://localhost:8080/"
        },
        "id": "yVdwsJXRoJOx",
        "outputId": "6bc3c90b-5715-4201-cdbf-043a2d4384c4"
      },
      "execution_count": null,
      "outputs": [
        {
          "output_type": "stream",
          "name": "stdout",
          "text": [
            "shesh shiromani\n"
          ]
        }
      ]
    },
    {
      "cell_type": "code",
      "source": [
        "s=\"STRING\"\n",
        "s=s[3:]+s[:3]\n",
        "print(s)"
      ],
      "metadata": {
        "colab": {
          "base_uri": "https://localhost:8080/"
        },
        "id": "EozaWDDLtKsH",
        "outputId": "3d238c00-cb16-448a-ff78-a07a2f0fa96c"
      },
      "execution_count": null,
      "outputs": [
        {
          "output_type": "stream",
          "name": "stdout",
          "text": [
            "INGSTR\n"
          ]
        }
      ]
    },
    {
      "cell_type": "code",
      "source": [
        "for i in range(1,5):\n",
        "  print(\"#\"*(5-i),\"X\"*i,sep=\"\")"
      ],
      "metadata": {
        "colab": {
          "base_uri": "https://localhost:8080/"
        },
        "id": "L908xOr9_azg",
        "outputId": "9787f580-3265-42c0-a662-2e867bf0dc60"
      },
      "execution_count": null,
      "outputs": [
        {
          "output_type": "stream",
          "name": "stdout",
          "text": [
            "####X\n",
            "###XX\n",
            "##XXX\n",
            "#XXXX\n"
          ]
        }
      ]
    },
    {
      "cell_type": "code",
      "source": [
        "for i in [5,10,15,9]:\n",
        "  if i%4>1:\n",
        "    print(i%4*'#')\n",
        "  else:\n",
        "    print(i//4*'@')"
      ],
      "metadata": {
        "colab": {
          "base_uri": "https://localhost:8080/"
        },
        "id": "gJUtEakLDooP",
        "outputId": "331f6a5f-0133-461e-c194-cc15e09730c4"
      },
      "execution_count": null,
      "outputs": [
        {
          "output_type": "stream",
          "name": "stdout",
          "text": [
            "@\n",
            "##\n",
            "###\n",
            "@@\n"
          ]
        }
      ]
    },
    {
      "cell_type": "code",
      "source": [
        "#block_no = str(input(\"enter your block number: \"))\n",
        "#floor_no = int(input(\"enter your floor number: \"))\n",
        "customer_number = int(input(\"enter your customer number: \"))\n",
        "if customer_number >=1 and customer_number <= 5:\n",
        "  print(\"Block A\")\n",
        "  if customer_number == 1:\n",
        "    print(\"floor 1\")\n",
        "    elif customer_number =="
      ],
      "metadata": {
        "id": "AAqn2DHTEDcv"
      },
      "execution_count": null,
      "outputs": []
    },
    {
      "cell_type": "code",
      "source": [
        "n = int(input())\n",
        "f = 1\n",
        "for i in range(2,n+1):\n",
        "  f = f*i\n",
        "print(f)"
      ],
      "metadata": {
        "colab": {
          "base_uri": "https://localhost:8080/"
        },
        "id": "kqmDFl914OiI",
        "outputId": "d7c372be-6a58-4d03-d9bf-a236d9a50ea3"
      },
      "execution_count": null,
      "outputs": [
        {
          "output_type": "stream",
          "name": "stdout",
          "text": [
            "5\n",
            "120\n"
          ]
        }
      ]
    },
    {
      "cell_type": "code",
      "source": [
        "n = int(input())\n",
        "for i in range(1,n+1):\n",
        "  for j in range(1,i+1):\n",
        "    print(j,end=\" \")\n",
        "  print()"
      ],
      "metadata": {
        "colab": {
          "base_uri": "https://localhost:8080/"
        },
        "id": "mpW4sgLY6wYq",
        "outputId": "3abee567-9cfb-4671-edf6-c9a062bbb57d"
      },
      "execution_count": null,
      "outputs": [
        {
          "output_type": "stream",
          "name": "stdout",
          "text": [
            "5\n",
            "1 \n",
            "1 2 \n",
            "1 2 3 \n",
            "1 2 3 4 \n",
            "1 2 3 4 5 \n"
          ]
        }
      ]
    },
    {
      "cell_type": "code",
      "source": [
        "n = int(input())\n",
        "s=0\n",
        "for i in range(1,n+1):\n",
        "  s=s+(n*i)\n",
        "  print(n*i,end=\"+\")\n",
        "  s=s+(n*i)\n",
        "print(\"=\",s)"
      ],
      "metadata": {
        "colab": {
          "base_uri": "https://localhost:8080/"
        },
        "id": "Z76ejuaC7B9K",
        "outputId": "b1f8d5c0-55ad-48b5-d66a-33d1e774ce5c"
      },
      "execution_count": null,
      "outputs": [
        {
          "output_type": "stream",
          "name": "stdout",
          "text": [
            "5\n",
            "5+10+15+20+25+= 150\n"
          ]
        }
      ]
    },
    {
      "cell_type": "code",
      "source": [
        "n = int(input())\n",
        "for i in range(1,n+1):\n",
        "  if n%i==0:\n",
        "    print(i)"
      ],
      "metadata": {
        "colab": {
          "base_uri": "https://localhost:8080/"
        },
        "id": "hWcCdfUW7SkT",
        "outputId": "e3143268-0828-4fb5-a1ef-f3cf5b110e34"
      },
      "execution_count": null,
      "outputs": [
        {
          "output_type": "stream",
          "name": "stdout",
          "text": [
            "10\n",
            "1\n",
            "2\n",
            "5\n",
            "10\n"
          ]
        }
      ]
    },
    {
      "cell_type": "code",
      "source": [
        "a= int(input())\n",
        "b = int(input())\n",
        "if a>b:\n",
        "  min = b\n",
        "else:\n",
        "  min = a\n",
        "for i in range(1,min+1):\n",
        "  if a%i==0 and b%i==0:\n",
        "    hcf=1\n",
        "    print(hcf)"
      ],
      "metadata": {
        "colab": {
          "base_uri": "https://localhost:8080/"
        },
        "id": "i4yKaS6w8Dp_",
        "outputId": "2043d959-f746-48a5-a55e-57abc917a896"
      },
      "execution_count": null,
      "outputs": [
        {
          "output_type": "stream",
          "name": "stdout",
          "text": [
            "6\n",
            "2\n",
            "1\n",
            "1\n"
          ]
        }
      ]
    },
    {
      "cell_type": "code",
      "source": [
        "n = int(input())\n",
        "a,b=0,1\n",
        "for i in range(1,n+1):\n",
        "  print(a,end=\",\")\n",
        "  a,b=b,a+b"
      ],
      "metadata": {
        "colab": {
          "base_uri": "https://localhost:8080/"
        },
        "id": "Xx2Wrj_C8TMw",
        "outputId": "c32b7d21-a8dc-48ad-ec4f-40f68d6c7d9d"
      },
      "execution_count": null,
      "outputs": [
        {
          "output_type": "stream",
          "name": "stdout",
          "text": [
            "5\n",
            "0,1,1,2,3,"
          ]
        }
      ]
    },
    {
      "cell_type": "code",
      "source": [
        "n = int(input())\n",
        "if n>1:\n",
        "  for i in range(1,n+1):\n",
        "    if n%i==0:\n",
        "      print(n,\"is composite\")\n",
        "      break\n",
        "    else:\n",
        "      print(n,\"is prime\")\n",
        "else:\n",
        "  print(\"neither prime nor composite\")"
      ],
      "metadata": {
        "colab": {
          "base_uri": "https://localhost:8080/"
        },
        "id": "6n6F431s8ff-",
        "outputId": "2c091c5c-34ea-4283-85e3-dcef2eb21dd7"
      },
      "execution_count": null,
      "outputs": [
        {
          "output_type": "stream",
          "name": "stdout",
          "text": [
            "5\n",
            "5 is composite\n"
          ]
        }
      ]
    },
    {
      "cell_type": "code",
      "source": [
        "n = int(input())\n",
        "s=0\n",
        "for i in range(1,n+1):\n",
        "  print(i,end=\"+\")\n",
        "  s=s+i\n",
        "print(\"=\",s)"
      ],
      "metadata": {
        "colab": {
          "base_uri": "https://localhost:8080/"
        },
        "id": "NmEqmEgY9STE",
        "outputId": "6bf3da8c-c9af-47e5-a9f0-cdfdb45fd933"
      },
      "execution_count": null,
      "outputs": [
        {
          "output_type": "stream",
          "name": "stdout",
          "text": [
            "10\n",
            "1+2+3+4+5+6+7+8+9+10+= 55\n"
          ]
        }
      ]
    },
    {
      "cell_type": "code",
      "source": [
        "n = int(input())\n",
        "s=0\n",
        "for i in range(1,3*n+1,3):\n",
        "  print(i,end=\"+\")\n",
        "  s=s+i\n",
        "print(\"=\",s)"
      ],
      "metadata": {
        "colab": {
          "base_uri": "https://localhost:8080/"
        },
        "id": "LIC8a6869aMG",
        "outputId": "c9432843-1739-41d6-a7b1-3117ffcd8f5c"
      },
      "execution_count": null,
      "outputs": [
        {
          "output_type": "stream",
          "name": "stdout",
          "text": [
            "10\n",
            "1+4+7+10+13+16+19+22+25+28+= 145\n"
          ]
        }
      ]
    },
    {
      "cell_type": "code",
      "source": [
        "n = int(input())\n",
        "x = int(input())\n",
        "for i in range(1,n+1):\n",
        "  print(x**i,end=\"+\")\n",
        "  s=s+x**i\n",
        "print(\"=\",s)"
      ],
      "metadata": {
        "colab": {
          "base_uri": "https://localhost:8080/"
        },
        "id": "46VaL7SW9v2q",
        "outputId": "3588e2ea-d57c-4439-eb5f-d96afbed4219"
      },
      "execution_count": null,
      "outputs": [
        {
          "output_type": "stream",
          "name": "stdout",
          "text": [
            "10\n",
            "2\n",
            "2+4+8+16+32+64+128+256+512+1024+= 617839706431\n"
          ]
        }
      ]
    },
    {
      "cell_type": "code",
      "source": [
        "n = int(input(\"enter n: \"))\n",
        "x = int(input(\"enter x: \"))\n",
        "f=1\n",
        "s=0\n",
        "for i in range(1,n+1):\n",
        "  f=f*i\n",
        "  if i%2==0:\n",
        "    term = -x**i/f\n",
        "  else:\n",
        "    term = x**i/f\n",
        "  s=s+term\n",
        "  print(term,end=\"+\")\n",
        "print(\"=\",s)"
      ],
      "metadata": {
        "colab": {
          "base_uri": "https://localhost:8080/"
        },
        "id": "wjFqym8K97za",
        "outputId": "4de0d706-ad13-4f63-8ce7-24083f0c227e"
      },
      "execution_count": null,
      "outputs": [
        {
          "output_type": "stream",
          "name": "stdout",
          "text": [
            "enter n: 10\n",
            "enter x: 2\n",
            "2.0+-2.0+1.3333333333333333+-0.6666666666666666+0.26666666666666666+-0.08888888888888889+0.025396825396825397+-0.006349206349206349+0.0014109347442680777+-0.0002821869488536155+= 0.864620811287478\n"
          ]
        }
      ]
    },
    {
      "cell_type": "code",
      "source": [
        "n = int(input(\"enter n: \"))\n",
        "s=0\n",
        "for i in range(1,n+1):\n",
        "  t=0\n",
        "  for j in range(1,i+1):\n",
        "    t=t+j\n",
        "    s=s+t\n",
        "    print(s,end=\"+\")"
      ],
      "metadata": {
        "colab": {
          "base_uri": "https://localhost:8080/"
        },
        "id": "P21HPZYJ-97f",
        "outputId": "9880c3d0-eb5d-457f-8a6b-ab0ccfa47f83"
      },
      "execution_count": null,
      "outputs": [
        {
          "output_type": "stream",
          "name": "stdout",
          "text": [
            "enter n: 10\n",
            "1+2+5+6+9+15+16+19+25+35+36+39+45+55+70+71+74+80+90+105+126+127+130+136+146+161+182+210+211+214+220+230+245+266+294+330+331+334+340+350+365+386+414+450+495+496+499+505+515+530+551+579+615+660+715+"
          ]
        }
      ]
    },
    {
      "cell_type": "code",
      "source": [
        "n = int(input(\"Enter the number of terms: \"))\n",
        "\n",
        "sum_term = 0  # Stores the sum of the entire series\n",
        "current_sum = 0  # Stores the sum of numbers from 1 to i\n",
        "\n",
        "for i in range(1, n + 1):\n",
        "    current_sum += i  # Adding i to the cumulative sum (1+2+3+...+i)\n",
        "    sum_term += current_sum  # Adding the current sum to the series sum\n",
        "    print(sum_term, end=\", \" if i < n else \"\\n\")  # Print the series\n"
      ],
      "metadata": {
        "colab": {
          "base_uri": "https://localhost:8080/"
        },
        "id": "K-oDfRjcBacH",
        "outputId": "d53ab78d-6931-4d7e-b18a-4c19558c89e8"
      },
      "execution_count": null,
      "outputs": [
        {
          "output_type": "stream",
          "name": "stdout",
          "text": [
            "Enter the number of terms: 10\n",
            "1, 4, 10, 20, 35, 56, 84, 120, 165, 220\n"
          ]
        }
      ]
    },
    {
      "cell_type": "code",
      "source": [
        "n = int(input(\"enter n: \"))\n",
        "for i in range(2,n+1):\n",
        "  for j in range(2,i+1):\n",
        "    if i%j!=0:\n",
        "      print(j)"
      ],
      "metadata": {
        "colab": {
          "base_uri": "https://localhost:8080/"
        },
        "id": "8lDc588zCfVv",
        "outputId": "2ffd97ed-3164-4c0d-c739-ffa7f5f1a596"
      },
      "execution_count": null,
      "outputs": [
        {
          "output_type": "stream",
          "name": "stdout",
          "text": [
            "enter n: 10\n",
            "2\n",
            "3\n",
            "2\n",
            "3\n",
            "4\n",
            "4\n",
            "5\n",
            "2\n",
            "3\n",
            "4\n",
            "5\n",
            "6\n",
            "3\n",
            "5\n",
            "6\n",
            "7\n",
            "2\n",
            "4\n",
            "5\n",
            "6\n",
            "7\n",
            "8\n",
            "3\n",
            "4\n",
            "6\n",
            "7\n",
            "8\n",
            "9\n"
          ]
        }
      ]
    },
    {
      "cell_type": "code",
      "source": [
        "n = int(input())\n",
        "for i in range(1,n+1):\n",
        "  if n%i==0:\n",
        "     print(i,end=\",\")"
      ],
      "metadata": {
        "colab": {
          "base_uri": "https://localhost:8080/"
        },
        "id": "5Kt7AtyrGmLW",
        "outputId": "0a37218b-f551-42e6-bf07-f63250b7286a"
      },
      "execution_count": null,
      "outputs": [
        {
          "output_type": "stream",
          "name": "stdout",
          "text": [
            "18\n",
            "1,2,3,6,9,18,"
          ]
        }
      ]
    },
    {
      "cell_type": "code",
      "source": [
        "n = int(input(\"enter n: \"))\n",
        "a = n\n",
        "rev = 0\n",
        "while n>0:\n",
        "  rev = rev*10 + n%10\n",
        "  n=n//10\n",
        "print(rev)\n",
        "if (rev == a):\n",
        "  print(\"palindrome\")\n",
        "else:\n",
        "  print(\"not palindrome\")"
      ],
      "metadata": {
        "colab": {
          "base_uri": "https://localhost:8080/"
        },
        "id": "F5RAeFZQHDag",
        "outputId": "18e7fd45-073a-4776-fdef-d2085ed69182"
      },
      "execution_count": null,
      "outputs": [
        {
          "output_type": "stream",
          "name": "stdout",
          "text": [
            "enter n: 101\n",
            "101\n",
            "palindrome\n"
          ]
        }
      ]
    },
    {
      "cell_type": "code",
      "source": [
        "n = int(input(\"enter n: \"))\n",
        "rev = 0\n",
        "while n>0:\n",
        "  rev = rev*10 + n%10\n",
        "  n=n//10\n",
        "first = True\n",
        "while rev>0:\n",
        "  if not first:\n",
        "    print(\"#\",end=\"\")\n",
        "  rev=rev//10"
      ],
      "metadata": {
        "colab": {
          "base_uri": "https://localhost:8080/"
        },
        "id": "stt0OnG_IXns",
        "outputId": "4056dc35-5f7f-4074-bb5f-8d4bf533e519"
      },
      "execution_count": null,
      "outputs": [
        {
          "name": "stdout",
          "output_type": "stream",
          "text": [
            "enter n: 345\n"
          ]
        }
      ]
    },
    {
      "cell_type": "code",
      "source": [
        "n = int(input(\"enter a number n: \"))\n",
        "a=n\n",
        "s=0\n",
        "while n>0:\n",
        "  d=n%10\n",
        "  s=s+d**3\n",
        "  n=n//10\n",
        "if a==s:\n",
        "  print(\"armstrong\")\n",
        "else:\n",
        "  print(\"not armstrong\")"
      ],
      "metadata": {
        "colab": {
          "base_uri": "https://localhost:8080/"
        },
        "id": "cCzeD2jmukhc",
        "outputId": "e0b78045-aa2d-469a-8dd7-d628358228c3"
      },
      "execution_count": null,
      "outputs": [
        {
          "output_type": "stream",
          "name": "stdout",
          "text": [
            "enter a number n: 153\n",
            "armstrong\n"
          ]
        }
      ]
    },
    {
      "cell_type": "code",
      "source": [
        "n = int(input(\"enter a number n: \"))\n",
        "a=2\n",
        "c=0\n",
        "while c<n:\n",
        "  for i in range(2,a//2+1):\n",
        "    if a%i == 0:\n",
        "       break\n",
        "  else:\n",
        "    print(a,end=\",\")\n",
        "    c=c+1\n",
        "  a=a+1"
      ],
      "metadata": {
        "colab": {
          "base_uri": "https://localhost:8080/"
        },
        "id": "yKpfW2byu2O2",
        "outputId": "d703379f-638e-493f-fd1c-9729f7e18a9b"
      },
      "execution_count": null,
      "outputs": [
        {
          "output_type": "stream",
          "name": "stdout",
          "text": [
            "enter a number n: 10\n",
            "2,3,5,7,11,13,17,19,23,29,"
          ]
        }
      ]
    },
    {
      "cell_type": "code",
      "source": [
        "n = int(input(\"enter a number n: \"))\n",
        "a=2\n",
        "c=0\n",
        "while c<n:\n",
        "  for i in range(2,a//2+1):\n",
        "    if a%i == 0:\n",
        "       break\n",
        "  else:\n",
        "    print(a,end=\",\")\n",
        "    c=c+1\n",
        "  a=a+1"
      ],
      "metadata": {
        "colab": {
          "base_uri": "https://localhost:8080/"
        },
        "id": "vWG9mGkVvUGz",
        "outputId": "3b8ddec9-ca12-47b2-83d5-6913972e4456"
      },
      "execution_count": null,
      "outputs": [
        {
          "output_type": "stream",
          "name": "stdout",
          "text": [
            "enter a number n: 10\n",
            "2,3,5,7,11,13,17,19,23,29,"
          ]
        }
      ]
    },
    {
      "cell_type": "code",
      "source": [
        "n = int(input(\"enter a number: \"))\n",
        "c=0\n",
        "a=2\n",
        "while c<n:\n",
        "  for i in range(2,a//2+1):\n",
        "    if a%i==0:\n",
        "      break\n",
        "    else:\n",
        "      print(a,end=\",\")\n",
        "      c=c+1\n",
        "    a=a+1"
      ],
      "metadata": {
        "colab": {
          "base_uri": "https://localhost:8080/",
          "height": 228
        },
        "id": "Cyk4rwhnvtE1",
        "outputId": "6d67a83a-0d2f-4265-ff41-af8be698c88f"
      },
      "execution_count": null,
      "outputs": [
        {
          "name": "stdout",
          "output_type": "stream",
          "text": [
            "enter a number: 10\n"
          ]
        },
        {
          "output_type": "error",
          "ename": "KeyboardInterrupt",
          "evalue": "",
          "traceback": [
            "\u001b[0;31m---------------------------------------------------------------------------\u001b[0m",
            "\u001b[0;31mKeyboardInterrupt\u001b[0m                         Traceback (most recent call last)",
            "\u001b[0;32m<ipython-input-122-ecddc539fbc6>\u001b[0m in \u001b[0;36m<cell line: 0>\u001b[0;34m()\u001b[0m\n\u001b[1;32m      3\u001b[0m \u001b[0ma\u001b[0m\u001b[0;34m=\u001b[0m\u001b[0;36m2\u001b[0m\u001b[0;34m\u001b[0m\u001b[0;34m\u001b[0m\u001b[0m\n\u001b[1;32m      4\u001b[0m \u001b[0;32mwhile\u001b[0m \u001b[0mc\u001b[0m\u001b[0;34m<\u001b[0m\u001b[0mn\u001b[0m\u001b[0;34m:\u001b[0m\u001b[0;34m\u001b[0m\u001b[0;34m\u001b[0m\u001b[0m\n\u001b[0;32m----> 5\u001b[0;31m   \u001b[0;32mfor\u001b[0m \u001b[0mi\u001b[0m \u001b[0;32min\u001b[0m \u001b[0mrange\u001b[0m\u001b[0;34m(\u001b[0m\u001b[0;36m2\u001b[0m\u001b[0;34m,\u001b[0m\u001b[0ma\u001b[0m\u001b[0;34m//\u001b[0m\u001b[0;36m2\u001b[0m\u001b[0;34m+\u001b[0m\u001b[0;36m1\u001b[0m\u001b[0;34m)\u001b[0m\u001b[0;34m:\u001b[0m\u001b[0;34m\u001b[0m\u001b[0;34m\u001b[0m\u001b[0m\n\u001b[0m\u001b[1;32m      6\u001b[0m     \u001b[0;32mif\u001b[0m \u001b[0ma\u001b[0m\u001b[0;34m%\u001b[0m\u001b[0mi\u001b[0m\u001b[0;34m==\u001b[0m\u001b[0;36m0\u001b[0m\u001b[0;34m:\u001b[0m\u001b[0;34m\u001b[0m\u001b[0;34m\u001b[0m\u001b[0m\n\u001b[1;32m      7\u001b[0m       \u001b[0;32mbreak\u001b[0m\u001b[0;34m\u001b[0m\u001b[0;34m\u001b[0m\u001b[0m\n",
            "\u001b[0;31mKeyboardInterrupt\u001b[0m: "
          ]
        }
      ]
    },
    {
      "cell_type": "code",
      "source": [
        "'''for n in range(2, number + 1):\n",
        "    isPrime = True\n",
        "    for i in range(2, n - 1):\n",
        "        if n % i == 0:\n",
        "            isPrime = False\n",
        "    if isPrime:\n",
        "        print(n)'''\n",
        "\n",
        "n = int(input())\n",
        "for i in range(2,n+1):\n",
        "  prime = True\n",
        "  for i in range(2,n-1):\n",
        "    if n%i == 0:\n",
        "      prime = False\n",
        "  if prime:\n",
        "    print(n)"
      ],
      "metadata": {
        "colab": {
          "base_uri": "https://localhost:8080/"
        },
        "id": "-AyL-c3fwdt1",
        "outputId": "f8e0ad75-c64e-44f0-dc21-42243f4c9bec"
      },
      "execution_count": null,
      "outputs": [
        {
          "name": "stdout",
          "output_type": "stream",
          "text": [
            "10\n"
          ]
        }
      ]
    },
    {
      "cell_type": "markdown",
      "source": [
        "# **PATTERN PROGRAMMING**\n",
        "start"
      ],
      "metadata": {
        "id": "gmKrRbT1C4Q4"
      }
    },
    {
      "cell_type": "code",
      "source": [
        "n = int(input(\"enter n: \"))\n",
        "for i in range(1,n+1):\n",
        "  for j in range(1,n+1):\n",
        "    print(i,end=\" \")\n",
        "  print()"
      ],
      "metadata": {
        "colab": {
          "base_uri": "https://localhost:8080/"
        },
        "id": "aalk4KQpyFx8",
        "outputId": "0b26419d-8ea0-4cf0-fc66-1d18b3e6982d"
      },
      "execution_count": null,
      "outputs": [
        {
          "output_type": "stream",
          "name": "stdout",
          "text": [
            "enter n: 10\n",
            "1 1 1 1 1 1 1 1 1 1 \n",
            "2 2 2 2 2 2 2 2 2 2 \n",
            "3 3 3 3 3 3 3 3 3 3 \n",
            "4 4 4 4 4 4 4 4 4 4 \n",
            "5 5 5 5 5 5 5 5 5 5 \n",
            "6 6 6 6 6 6 6 6 6 6 \n",
            "7 7 7 7 7 7 7 7 7 7 \n",
            "8 8 8 8 8 8 8 8 8 8 \n",
            "9 9 9 9 9 9 9 9 9 9 \n",
            "10 10 10 10 10 10 10 10 10 10 \n"
          ]
        }
      ]
    },
    {
      "cell_type": "code",
      "source": [
        "n = int(input(\"enter n: \"))\n",
        "for i in range(1,n+1):\n",
        "  for j in range(1,n+1):\n",
        "    print(j,end=\" \")\n",
        "  print()"
      ],
      "metadata": {
        "colab": {
          "base_uri": "https://localhost:8080/"
        },
        "id": "RKNQikBNye8R",
        "outputId": "8bc144b3-6603-491f-a0ef-58d324baa48b"
      },
      "execution_count": null,
      "outputs": [
        {
          "output_type": "stream",
          "name": "stdout",
          "text": [
            "enter n: 10\n",
            "1 2 3 4 5 6 7 8 9 10 \n",
            "1 2 3 4 5 6 7 8 9 10 \n",
            "1 2 3 4 5 6 7 8 9 10 \n",
            "1 2 3 4 5 6 7 8 9 10 \n",
            "1 2 3 4 5 6 7 8 9 10 \n",
            "1 2 3 4 5 6 7 8 9 10 \n",
            "1 2 3 4 5 6 7 8 9 10 \n",
            "1 2 3 4 5 6 7 8 9 10 \n",
            "1 2 3 4 5 6 7 8 9 10 \n",
            "1 2 3 4 5 6 7 8 9 10 \n"
          ]
        }
      ]
    },
    {
      "cell_type": "code",
      "source": [
        "n = int(input(\"enter a number n: \"))\n",
        "for i in range(1,n+1):\n",
        "  for j in range(1,i+1):\n",
        "    print(i,end=\" \")\n",
        "  print()"
      ],
      "metadata": {
        "colab": {
          "base_uri": "https://localhost:8080/"
        },
        "id": "GMscN0p_ynAB",
        "outputId": "b0b3e010-a02d-4dab-fbdd-e403290a0526"
      },
      "execution_count": null,
      "outputs": [
        {
          "output_type": "stream",
          "name": "stdout",
          "text": [
            "enter a number n: 10\n",
            "1 \n",
            "2 2 \n",
            "3 3 3 \n",
            "4 4 4 4 \n",
            "5 5 5 5 5 \n",
            "6 6 6 6 6 6 \n",
            "7 7 7 7 7 7 7 \n",
            "8 8 8 8 8 8 8 8 \n",
            "9 9 9 9 9 9 9 9 9 \n",
            "10 10 10 10 10 10 10 10 10 10 \n"
          ]
        }
      ]
    },
    {
      "cell_type": "code",
      "source": [
        "n = int(input(\"enter a number n: \"))\n",
        "for i in range(1,n+1):\n",
        "  for j in range(1,i+1):\n",
        "    print(j,end=\" \")\n",
        "  print()"
      ],
      "metadata": {
        "colab": {
          "base_uri": "https://localhost:8080/"
        },
        "id": "dPA6NQezyv-3",
        "outputId": "a5784c19-543b-4c14-f2cb-bd49df94bf1f"
      },
      "execution_count": null,
      "outputs": [
        {
          "output_type": "stream",
          "name": "stdout",
          "text": [
            "enter a number n: 10\n",
            "1 \n",
            "1 2 \n",
            "1 2 3 \n",
            "1 2 3 4 \n",
            "1 2 3 4 5 \n",
            "1 2 3 4 5 6 \n",
            "1 2 3 4 5 6 7 \n",
            "1 2 3 4 5 6 7 8 \n",
            "1 2 3 4 5 6 7 8 9 \n",
            "1 2 3 4 5 6 7 8 9 10 \n"
          ]
        }
      ]
    },
    {
      "cell_type": "code",
      "source": [
        "n = int(input(\"enter a number n: \"))\n",
        "for i in range(n,0,-1):\n",
        "  for j in range(1,i+1):\n",
        "    print(j,end=\" \")\n",
        "  print()"
      ],
      "metadata": {
        "colab": {
          "base_uri": "https://localhost:8080/"
        },
        "id": "QtzJLg1wyypN",
        "outputId": "6c2f32db-9013-4ca8-fa80-4ebf79ea34c8"
      },
      "execution_count": null,
      "outputs": [
        {
          "output_type": "stream",
          "name": "stdout",
          "text": [
            "enter a number n: 10\n",
            "1 2 3 4 5 6 7 8 9 10 \n",
            "1 2 3 4 5 6 7 8 9 \n",
            "1 2 3 4 5 6 7 8 \n",
            "1 2 3 4 5 6 7 \n",
            "1 2 3 4 5 6 \n",
            "1 2 3 4 5 \n",
            "1 2 3 4 \n",
            "1 2 3 \n",
            "1 2 \n",
            "1 \n"
          ]
        }
      ]
    },
    {
      "cell_type": "code",
      "source": [
        "n = int(input(\"enter a number n: \"))\n",
        "for i in range(n,0,-1):\n",
        "  for j in range(1,i+1):\n",
        "    print(i,end=\" \")\n",
        "  print()"
      ],
      "metadata": {
        "colab": {
          "base_uri": "https://localhost:8080/"
        },
        "id": "K-fszg5Ly--u",
        "outputId": "475c7ed8-5d6d-41ce-9d84-531963d955f8"
      },
      "execution_count": null,
      "outputs": [
        {
          "output_type": "stream",
          "name": "stdout",
          "text": [
            "enter a number n: 10\n",
            "10 10 10 10 10 10 10 10 10 10 \n",
            "9 9 9 9 9 9 9 9 9 \n",
            "8 8 8 8 8 8 8 8 \n",
            "7 7 7 7 7 7 7 \n",
            "6 6 6 6 6 6 \n",
            "5 5 5 5 5 \n",
            "4 4 4 4 \n",
            "3 3 3 \n",
            "2 2 \n",
            "1 \n"
          ]
        }
      ]
    },
    {
      "cell_type": "code",
      "source": [
        "n = int(input(\"enter a number n: \"))\n",
        "for i in range(1,n+1):\n",
        "  print(\" \"*(n-i),end=\" \")\n",
        "  for j in range(1,i+1):\n",
        "    print(i,end=\"\")\n",
        "  print()"
      ],
      "metadata": {
        "colab": {
          "base_uri": "https://localhost:8080/"
        },
        "id": "jC4vtszQzCtl",
        "outputId": "7fefb08d-1ac8-4ffe-938f-de30f3d13afc"
      },
      "execution_count": null,
      "outputs": [
        {
          "output_type": "stream",
          "name": "stdout",
          "text": [
            "enter a number n: 10\n",
            "          1\n",
            "         22\n",
            "        333\n",
            "       4444\n",
            "      55555\n",
            "     666666\n",
            "    7777777\n",
            "   88888888\n",
            "  999999999\n",
            " 10101010101010101010\n"
          ]
        }
      ]
    },
    {
      "cell_type": "code",
      "source": [
        "n = int(input(\"enter a number n: \"))\n",
        "for i in range(1,n+1):\n",
        "  print(\" \"*(n-i),end=\" \")\n",
        "  for j in range(1,i+1):\n",
        "    print(i,end=\"\")\n",
        "  print()"
      ],
      "metadata": {
        "colab": {
          "base_uri": "https://localhost:8080/"
        },
        "id": "kz0Qv0TGzXuW",
        "outputId": "1f745b73-6678-4006-d88e-1360bc377350"
      },
      "execution_count": null,
      "outputs": [
        {
          "output_type": "stream",
          "name": "stdout",
          "text": [
            "enter a number n: 10\n",
            "          1\n",
            "         12\n",
            "        123\n",
            "       1234\n",
            "      12345\n",
            "     123456\n",
            "    1234567\n",
            "   12345678\n",
            "  123456789\n",
            " 12345678910\n"
          ]
        }
      ]
    },
    {
      "cell_type": "markdown",
      "source": [
        "pascal's triangle"
      ],
      "metadata": {
        "id": "bb-smcS3C065"
      }
    },
    {
      "cell_type": "code",
      "source": [
        "n = int(input(\"enter n: \"))\n",
        "for i in range(1,n+1):\n",
        "  print(\" \"*(n-i),end=\" \")\n",
        "  for j in range(1,i+1):\n",
        "    print(j,end=\" \")\n",
        "  for j in range(i-1,0,-1):\n",
        "    print(j,end=\" \")\n",
        "  print()"
      ],
      "metadata": {
        "colab": {
          "base_uri": "https://localhost:8080/"
        },
        "id": "IO35VGVlzwKd",
        "outputId": "76a5780a-947c-4c90-a31c-21f50b18b449"
      },
      "execution_count": null,
      "outputs": [
        {
          "output_type": "stream",
          "name": "stdout",
          "text": [
            "enter n: 10\n",
            "          1 \n",
            "         1 2 1 \n",
            "        1 2 3 2 1 \n",
            "       1 2 3 4 3 2 1 \n",
            "      1 2 3 4 5 4 3 2 1 \n",
            "     1 2 3 4 5 6 5 4 3 2 1 \n",
            "    1 2 3 4 5 6 7 6 5 4 3 2 1 \n",
            "   1 2 3 4 5 6 7 8 7 6 5 4 3 2 1 \n",
            "  1 2 3 4 5 6 7 8 9 8 7 6 5 4 3 2 1 \n",
            " 1 2 3 4 5 6 7 8 9 10 9 8 7 6 5 4 3 2 1 \n"
          ]
        }
      ]
    },
    {
      "cell_type": "code",
      "source": [
        "n = int(input(\"enter a number n: \"))\n",
        "for i in range(1,n+1):\n",
        "  print(\"#\"*(n-i),end=\" \")\n",
        "  for j in range(1,2*i):\n",
        "    print(i,end=\" \")\n",
        "  print((n-i)*\"#\")"
      ],
      "metadata": {
        "colab": {
          "base_uri": "https://localhost:8080/"
        },
        "id": "YEpfITWq0QlE",
        "outputId": "1c1bfcfe-fdae-47ac-e36c-bb6510466c28"
      },
      "execution_count": null,
      "outputs": [
        {
          "output_type": "stream",
          "name": "stdout",
          "text": [
            "enter a number n: 10\n",
            "######### 1 #########\n",
            "######## 2 2 2 ########\n",
            "####### 3 3 3 3 3 #######\n",
            "###### 4 4 4 4 4 4 4 ######\n",
            "##### 5 5 5 5 5 5 5 5 5 #####\n",
            "#### 6 6 6 6 6 6 6 6 6 6 6 ####\n",
            "### 7 7 7 7 7 7 7 7 7 7 7 7 7 ###\n",
            "## 8 8 8 8 8 8 8 8 8 8 8 8 8 8 8 ##\n",
            "# 9 9 9 9 9 9 9 9 9 9 9 9 9 9 9 9 9 #\n",
            " 10 10 10 10 10 10 10 10 10 10 10 10 10 10 10 10 10 10 10 \n"
          ]
        }
      ]
    },
    {
      "cell_type": "markdown",
      "source": [
        "end"
      ],
      "metadata": {
        "id": "TBlb6IQuDCd4"
      }
    },
    {
      "cell_type": "code",
      "source": [
        "n = int(input(\"enter n: \"))\n",
        "s=0\n",
        "while n>0:\n",
        "  d=n%10\n",
        "  s=s+d\n",
        "  print(d)\n",
        "  n=n//10\n",
        "print(s)"
      ],
      "metadata": {
        "colab": {
          "base_uri": "https://localhost:8080/"
        },
        "id": "xt76bfq-2Lbl",
        "outputId": "d84cb9eb-a6a6-49b3-ac16-775a9838bfd9"
      },
      "execution_count": null,
      "outputs": [
        {
          "output_type": "stream",
          "name": "stdout",
          "text": [
            "enter n: 541\n",
            "1\n",
            "4\n",
            "5\n",
            "10\n"
          ]
        }
      ]
    },
    {
      "cell_type": "markdown",
      "source": [
        "to count the number of even and odd numbers in a number entered by the user"
      ],
      "metadata": {
        "id": "9QcdWBagCvQB"
      }
    },
    {
      "cell_type": "code",
      "source": [
        "n = int(input(\"enter a number: \"))\n",
        "count_even=0\n",
        "count_odd=0\n",
        "while n>0:\n",
        "  d=n%10\n",
        "  if d%2==0:\n",
        "    count_even+=1\n",
        "  else:\n",
        "    count_odd+=1\n",
        "  n//=10\n",
        "print(count_even,count_odd)"
      ],
      "metadata": {
        "colab": {
          "base_uri": "https://localhost:8080/"
        },
        "id": "GffkpGr3PIIS",
        "outputId": "532a9b4e-637c-4d1c-f69d-2a8a5505be2d"
      },
      "execution_count": null,
      "outputs": [
        {
          "output_type": "stream",
          "name": "stdout",
          "text": [
            "enter a number: 1002345\n",
            "4 3\n"
          ]
        }
      ]
    },
    {
      "cell_type": "markdown",
      "source": [
        "to count the number of zeroes and ones in a number entered by the user"
      ],
      "metadata": {
        "id": "0LsEvj2lCo-Z"
      }
    },
    {
      "cell_type": "code",
      "source": [
        "n = int(input(\"enter a number: \"))\n",
        "count_zero = 0\n",
        "count_one = 0\n",
        "while n>0:\n",
        "  d=n%10\n",
        "  if d==0:\n",
        "    count_zero+=1\n",
        "  elif d==1:\n",
        "    count_one+=1\n",
        "  n//=10\n",
        "print(a,b)"
      ],
      "metadata": {
        "colab": {
          "base_uri": "https://localhost:8080/"
        },
        "id": "sJyyl6x7Pk76",
        "outputId": "c23e0442-4ddc-4be6-83ef-1ebc8b75b8f9"
      },
      "execution_count": null,
      "outputs": [
        {
          "output_type": "stream",
          "name": "stdout",
          "text": [
            "enter a number: 1002\n",
            "2 1\n"
          ]
        }
      ]
    },
    {
      "cell_type": "code",
      "source": [
        "n = int(input(\"enter a number: \"))\n",
        "sum_even = 0\n",
        "sum_odd = 0\n",
        "s=0\n",
        "while n>0:\n",
        "  d=n%10\n",
        "  if d%2==0:\n",
        "    s=s+d\n",
        "  else:\n",
        "    s=s+d\n",
        "  n//=10\n",
        "print(sum_even,sum_odd)"
      ],
      "metadata": {
        "colab": {
          "base_uri": "https://localhost:8080/"
        },
        "id": "A4tebRUOQeBj",
        "outputId": "d10389d7-73d4-4d90-d8a6-b6101cd0ad69"
      },
      "execution_count": null,
      "outputs": [
        {
          "output_type": "stream",
          "name": "stdout",
          "text": [
            "enter a number: 10345\n",
            "0 0\n"
          ]
        }
      ]
    },
    {
      "cell_type": "code",
      "source": [
        "n = int(input(\"entera number\"))\n",
        "c=0\n",
        "a=2\n",
        "while c<n:\n",
        "  for i in range(1,a//2+1):\n",
        "    if a%1==0:\n",
        "      break\n",
        "    else:\n",
        "      print(a,end=\" \")\n",
        "      c=c+1\n",
        "  a=a+1"
      ],
      "metadata": {
        "colab": {
          "base_uri": "https://localhost:8080/",
          "height": 228
        },
        "id": "H7ik5SYyR0OV",
        "outputId": "a8768c20-2a31-4909-deb5-ebbda41a3f12"
      },
      "execution_count": null,
      "outputs": [
        {
          "name": "stdout",
          "output_type": "stream",
          "text": [
            "entera number5\n"
          ]
        },
        {
          "output_type": "error",
          "ename": "KeyboardInterrupt",
          "evalue": "",
          "traceback": [
            "\u001b[0;31m---------------------------------------------------------------------------\u001b[0m",
            "\u001b[0;31mKeyboardInterrupt\u001b[0m                         Traceback (most recent call last)",
            "\u001b[0;32m<ipython-input-17-a5f6c17e51be>\u001b[0m in \u001b[0;36m<cell line: 0>\u001b[0;34m()\u001b[0m\n\u001b[1;32m      2\u001b[0m \u001b[0mc\u001b[0m\u001b[0;34m=\u001b[0m\u001b[0;36m0\u001b[0m\u001b[0;34m\u001b[0m\u001b[0;34m\u001b[0m\u001b[0m\n\u001b[1;32m      3\u001b[0m \u001b[0ma\u001b[0m\u001b[0;34m=\u001b[0m\u001b[0;36m2\u001b[0m\u001b[0;34m\u001b[0m\u001b[0;34m\u001b[0m\u001b[0m\n\u001b[0;32m----> 4\u001b[0;31m \u001b[0;32mwhile\u001b[0m \u001b[0mc\u001b[0m\u001b[0;34m<\u001b[0m\u001b[0mn\u001b[0m\u001b[0;34m:\u001b[0m\u001b[0;34m\u001b[0m\u001b[0;34m\u001b[0m\u001b[0m\n\u001b[0m\u001b[1;32m      5\u001b[0m   \u001b[0;32mfor\u001b[0m \u001b[0mi\u001b[0m \u001b[0;32min\u001b[0m \u001b[0mrange\u001b[0m\u001b[0;34m(\u001b[0m\u001b[0;36m1\u001b[0m\u001b[0;34m,\u001b[0m\u001b[0ma\u001b[0m\u001b[0;34m//\u001b[0m\u001b[0;36m2\u001b[0m\u001b[0;34m+\u001b[0m\u001b[0;36m1\u001b[0m\u001b[0;34m)\u001b[0m\u001b[0;34m:\u001b[0m\u001b[0;34m\u001b[0m\u001b[0;34m\u001b[0m\u001b[0m\n\u001b[1;32m      6\u001b[0m     \u001b[0;32mif\u001b[0m \u001b[0ma\u001b[0m\u001b[0;34m%\u001b[0m\u001b[0;36m1\u001b[0m\u001b[0;34m==\u001b[0m\u001b[0;36m0\u001b[0m\u001b[0;34m:\u001b[0m\u001b[0;34m\u001b[0m\u001b[0;34m\u001b[0m\u001b[0m\n",
            "\u001b[0;31mKeyboardInterrupt\u001b[0m: "
          ]
        }
      ]
    },
    {
      "cell_type": "code",
      "source": [
        "n = int(input(\"enter a number: \"))\n",
        "for i in range(2,n):\n",
        "  for j in range(2,i//2+1):\n",
        "    if j%i==0:\n",
        "      break\n",
        "    else:\n",
        "      print(i,end=\" \")"
      ],
      "metadata": {
        "colab": {
          "base_uri": "https://localhost:8080/"
        },
        "id": "G1r_VTZlSqoc",
        "outputId": "100eb5c7-842a-4551-b43f-91d94d06259e"
      },
      "execution_count": null,
      "outputs": [
        {
          "output_type": "stream",
          "name": "stdout",
          "text": [
            "enter a number: 10\n",
            "4 5 6 6 7 7 8 8 8 9 9 9 "
          ]
        }
      ]
    },
    {
      "cell_type": "markdown",
      "source": [
        "reversing a number entered by the user and printing it"
      ],
      "metadata": {
        "id": "8XivH8pTCiIG"
      }
    },
    {
      "cell_type": "code",
      "source": [
        "n = int(input())\n",
        "rev=0\n",
        "while n>0:\n",
        "  rev=rev*10 + n%10\n",
        "  n=n//10\n",
        "a = rev\n",
        "print(a,end=\"#\")"
      ],
      "metadata": {
        "colab": {
          "base_uri": "https://localhost:8080/"
        },
        "id": "kMaYoGJjUqP0",
        "outputId": "56d1d4cf-712f-4cb4-d49a-989203677a7e"
      },
      "execution_count": null,
      "outputs": [
        {
          "output_type": "stream",
          "name": "stdout",
          "text": [
            "345\n",
            "543#"
          ]
        }
      ]
    },
    {
      "cell_type": "code",
      "source": [
        "a = \"school\"\n",
        "for i in range(len(a),2):\n",
        "  print(i)"
      ],
      "metadata": {
        "id": "IWwwH-T8VRql"
      },
      "execution_count": null,
      "outputs": []
    },
    {
      "cell_type": "markdown",
      "source": [
        "to count the number of vowels in a string entered by the user"
      ],
      "metadata": {
        "id": "Y1j84ZY8CdQG"
      }
    },
    {
      "cell_type": "code",
      "source": [
        "s = str(input(\"enter a string: \"))\n",
        "count_vowel=0\n",
        "count_consonant=0\n",
        "for i in s:\n",
        "  if i in\"aeiouAEIOU\":\n",
        "    count_vowel=count_vowel+1\n",
        "  else:\n",
        "    count_consonant+=1\n",
        "print(count_vowel,count_consonant)"
      ],
      "metadata": {
        "colab": {
          "base_uri": "https://localhost:8080/"
        },
        "id": "uyjmauliXoMl",
        "outputId": "8ee38732-1d4f-44c1-8bdc-b282c12d8b37"
      },
      "execution_count": null,
      "outputs": [
        {
          "output_type": "stream",
          "name": "stdout",
          "text": [
            "enter a string: shesh shiromani\n",
            "5 10\n"
          ]
        }
      ]
    },
    {
      "cell_type": "markdown",
      "source": [
        "to count the number of alphabets and digits in a string entered by the user"
      ],
      "metadata": {
        "id": "outAm_RQCYg2"
      }
    },
    {
      "cell_type": "code",
      "source": [
        "s=str(input(\"enter a string: \"))\n",
        "count_alphabets=0\n",
        "count_numbers=0\n",
        "y = len(s)\n",
        "for i in len(s):\n",
        "  if i>=\"A\" and i<=\"Z\":\n",
        "    count_alphabets+=1\n",
        "  elif i>=1 and i<=9:\n",
        "    count_numbers+=1\n",
        "print(count_alphabets,count_numbers)"
      ],
      "metadata": {
        "colab": {
          "base_uri": "https://localhost:8080/",
          "height": 228
        },
        "id": "QMNjwwEVYkL0",
        "outputId": "decd58f6-581c-4d7c-df1d-51b6f67ef6b2"
      },
      "execution_count": null,
      "outputs": [
        {
          "name": "stdout",
          "output_type": "stream",
          "text": [
            "enter a string: 123shesh\n"
          ]
        },
        {
          "output_type": "error",
          "ename": "TypeError",
          "evalue": "'int' object is not iterable",
          "traceback": [
            "\u001b[0;31m---------------------------------------------------------------------------\u001b[0m",
            "\u001b[0;31mTypeError\u001b[0m                                 Traceback (most recent call last)",
            "\u001b[0;32m<ipython-input-36-871fb885f489>\u001b[0m in \u001b[0;36m<cell line: 0>\u001b[0;34m()\u001b[0m\n\u001b[1;32m      3\u001b[0m \u001b[0mcount_numbers\u001b[0m\u001b[0;34m=\u001b[0m\u001b[0;36m0\u001b[0m\u001b[0;34m\u001b[0m\u001b[0;34m\u001b[0m\u001b[0m\n\u001b[1;32m      4\u001b[0m \u001b[0my\u001b[0m \u001b[0;34m=\u001b[0m \u001b[0mlen\u001b[0m\u001b[0;34m(\u001b[0m\u001b[0ms\u001b[0m\u001b[0;34m)\u001b[0m\u001b[0;34m\u001b[0m\u001b[0;34m\u001b[0m\u001b[0m\n\u001b[0;32m----> 5\u001b[0;31m \u001b[0;32mfor\u001b[0m \u001b[0mi\u001b[0m \u001b[0;32min\u001b[0m \u001b[0mlen\u001b[0m\u001b[0;34m(\u001b[0m\u001b[0ms\u001b[0m\u001b[0;34m)\u001b[0m\u001b[0;34m:\u001b[0m\u001b[0;34m\u001b[0m\u001b[0;34m\u001b[0m\u001b[0m\n\u001b[0m\u001b[1;32m      6\u001b[0m   \u001b[0;32mif\u001b[0m \u001b[0mi\u001b[0m\u001b[0;34m>=\u001b[0m\u001b[0;34m\"A\"\u001b[0m \u001b[0;32mand\u001b[0m \u001b[0mi\u001b[0m\u001b[0;34m<=\u001b[0m\u001b[0;34m\"Z\"\u001b[0m\u001b[0;34m:\u001b[0m\u001b[0;34m\u001b[0m\u001b[0;34m\u001b[0m\u001b[0m\n\u001b[1;32m      7\u001b[0m     \u001b[0mcount_alphabets\u001b[0m\u001b[0;34m+=\u001b[0m\u001b[0;36m1\u001b[0m\u001b[0;34m\u001b[0m\u001b[0;34m\u001b[0m\u001b[0m\n",
            "\u001b[0;31mTypeError\u001b[0m: 'int' object is not iterable"
          ]
        }
      ]
    },
    {
      "cell_type": "markdown",
      "source": [
        "to check if a string entered by the user is palindrome or not"
      ],
      "metadata": {
        "id": "wlnV7YxeCTtI"
      }
    },
    {
      "cell_type": "code",
      "source": [
        "s=str(input())\n",
        "if s[-1: :-1]==s:\n",
        "  print(\"palindrome\")\n",
        "else:\n",
        "  print(\"not palindrome\")"
      ],
      "metadata": {
        "colab": {
          "base_uri": "https://localhost:8080/"
        },
        "id": "lCzVnk3GZYW9",
        "outputId": "e6f90f48-8580-41cb-e749-8d3badaba478"
      },
      "execution_count": null,
      "outputs": [
        {
          "output_type": "stream",
          "name": "stdout",
          "text": [
            "nitin\n",
            "palindrome\n"
          ]
        }
      ]
    },
    {
      "cell_type": "markdown",
      "source": [
        "to check if the number entered by the user is palindrome or not"
      ],
      "metadata": {
        "id": "vAbmwPCHCP3T"
      }
    },
    {
      "cell_type": "code",
      "source": [
        "n = int(input(\"enter a number: \"))\n",
        "y=str(n)\n",
        "if y[-1: : -1] == y:\n",
        "  print(\"palindrome\")\n",
        "else:\n",
        "  print(\"not palindrome\")"
      ],
      "metadata": {
        "colab": {
          "base_uri": "https://localhost:8080/"
        },
        "id": "LYMjSNcGZ1O_",
        "outputId": "e814d12c-32aa-4672-84cc-9ac5705c8e80"
      },
      "execution_count": null,
      "outputs": [
        {
          "output_type": "stream",
          "name": "stdout",
          "text": [
            "enter a number: 101\n",
            "palindrome\n"
          ]
        }
      ]
    },
    {
      "cell_type": "code",
      "source": [
        "s=str(input())\n",
        "print(s[0: :2])"
      ],
      "metadata": {
        "colab": {
          "base_uri": "https://localhost:8080/"
        },
        "id": "STVAfxlvbBhe",
        "outputId": "9251fe10-874b-4e8f-9fef-6413d005e97b"
      },
      "execution_count": null,
      "outputs": [
        {
          "output_type": "stream",
          "name": "stdout",
          "text": [
            "shesh\n",
            "seh\n"
          ]
        }
      ]
    },
    {
      "cell_type": "code",
      "source": [
        "s=str(input())\n",
        "y=s[-2: :-2]\n",
        "print(y[-1: : -1])"
      ],
      "metadata": {
        "colab": {
          "base_uri": "https://localhost:8080/"
        },
        "id": "e6VRswp2bfuz",
        "outputId": "c431d727-3504-4728-e19d-77356eb0ccbc"
      },
      "execution_count": null,
      "outputs": [
        {
          "output_type": "stream",
          "name": "stdout",
          "text": [
            "shesh\n",
            "hs\n"
          ]
        }
      ]
    },
    {
      "cell_type": "code",
      "source": [
        "s=str(input())\n",
        "if s.isalnum()==True:\n",
        "  print(\"ok\")\n",
        "else:\n",
        "  print(\"not ok\")"
      ],
      "metadata": {
        "colab": {
          "base_uri": "https://localhost:8080/"
        },
        "id": "k3nKfFegbo1J",
        "outputId": "e774d3b5-fc8a-4c73-ebab-43175ec971e5"
      },
      "execution_count": null,
      "outputs": [
        {
          "output_type": "stream",
          "name": "stdout",
          "text": [
            "#\n",
            "not ok\n"
          ]
        }
      ]
    },
    {
      "cell_type": "markdown",
      "source": [
        "counting the number of alphabets,digits and special character in a string entered by the user"
      ],
      "metadata": {
        "id": "p-eUwkzoCIFd"
      }
    },
    {
      "cell_type": "code",
      "source": [
        "s=str(input(\"enter a string: \"))\n",
        "count_alphabets,count_numbers,count_spc=0,0,0\n",
        "for i in s:\n",
        "  if i.isalpha()==True:\n",
        "    count_alphabets+=1\n",
        "  elif i.isdigit()==True:\n",
        "    count_numbers+=1\n",
        "  else:\n",
        "    count_spc+=1\n",
        "print(count_alphabets,count_numbers,count_spc,end=\" \")"
      ],
      "metadata": {
        "colab": {
          "base_uri": "https://localhost:8080/"
        },
        "id": "F29hVqfSdN3S",
        "outputId": "42dd3686-66c9-4bd6-cb3e-b164610480b8"
      },
      "execution_count": null,
      "outputs": [
        {
          "output_type": "stream",
          "name": "stdout",
          "text": [
            "enter a string: shesh shiromani 123 @#\n",
            "14 3 5 "
          ]
        }
      ]
    },
    {
      "cell_type": "code",
      "source": [
        "s = str(input(\"enter a string: \"))\n",
        "for i in s:\n",
        "  if i.isalnum()==True:\n",
        "    if i.isdigit()==True:\n",
        "      s=s.replace(i,\"*\")\n",
        "  elif i.isalnum==False:\n",
        "    s=s.replace(i,\" \")\n",
        "print(s)"
      ],
      "metadata": {
        "colab": {
          "base_uri": "https://localhost:8080/"
        },
        "id": "taJ4NRl5f8mW",
        "outputId": "e9506953-9d96-42a8-e797-b2a470780766"
      },
      "execution_count": null,
      "outputs": [
        {
          "output_type": "stream",
          "name": "stdout",
          "text": [
            "enter a string: shesh123@@\n",
            "shesh***@@\n"
          ]
        }
      ]
    },
    {
      "cell_type": "code",
      "source": [
        "s = str(input(\"enter a string: \"))\n",
        "lc,uc=0,0\n",
        "for i in s:\n",
        "  if i.isalpha()==True:\n",
        "    if i.islower==True:\n",
        "      uc=uc+i\n",
        "    elif i.isupper()==True:\n",
        "      lc=lc+i\n",
        "print(lc,uc)"
      ],
      "metadata": {
        "colab": {
          "base_uri": "https://localhost:8080/",
          "height": 210
        },
        "id": "Y-B8qgxTgvaE",
        "outputId": "f41cabfc-1abe-46df-ad46-1dc408dd79be"
      },
      "execution_count": null,
      "outputs": [
        {
          "name": "stdout",
          "output_type": "stream",
          "text": [
            "enter a string: SHESHok\n"
          ]
        },
        {
          "output_type": "error",
          "ename": "TypeError",
          "evalue": "unsupported operand type(s) for +: 'int' and 'str'",
          "traceback": [
            "\u001b[0;31m---------------------------------------------------------------------------\u001b[0m",
            "\u001b[0;31mTypeError\u001b[0m                                 Traceback (most recent call last)",
            "\u001b[0;32m<ipython-input-76-f1e29e860a74>\u001b[0m in \u001b[0;36m<cell line: 0>\u001b[0;34m()\u001b[0m\n\u001b[1;32m      6\u001b[0m       \u001b[0muc\u001b[0m\u001b[0;34m=\u001b[0m\u001b[0muc\u001b[0m\u001b[0;34m+\u001b[0m\u001b[0mi\u001b[0m\u001b[0;34m\u001b[0m\u001b[0;34m\u001b[0m\u001b[0m\n\u001b[1;32m      7\u001b[0m     \u001b[0;32melif\u001b[0m \u001b[0mi\u001b[0m\u001b[0;34m.\u001b[0m\u001b[0misupper\u001b[0m\u001b[0;34m(\u001b[0m\u001b[0;34m)\u001b[0m\u001b[0;34m==\u001b[0m\u001b[0;32mTrue\u001b[0m\u001b[0;34m:\u001b[0m\u001b[0;34m\u001b[0m\u001b[0;34m\u001b[0m\u001b[0m\n\u001b[0;32m----> 8\u001b[0;31m       \u001b[0mlc\u001b[0m\u001b[0;34m=\u001b[0m\u001b[0mlc\u001b[0m\u001b[0;34m+\u001b[0m\u001b[0mi\u001b[0m\u001b[0;34m\u001b[0m\u001b[0;34m\u001b[0m\u001b[0m\n\u001b[0m\u001b[1;32m      9\u001b[0m \u001b[0mprint\u001b[0m\u001b[0;34m(\u001b[0m\u001b[0mlc\u001b[0m\u001b[0;34m,\u001b[0m\u001b[0muc\u001b[0m\u001b[0;34m)\u001b[0m\u001b[0;34m\u001b[0m\u001b[0;34m\u001b[0m\u001b[0m\n",
            "\u001b[0;31mTypeError\u001b[0m: unsupported operand type(s) for +: 'int' and 'str'"
          ]
        }
      ]
    },
    {
      "cell_type": "markdown",
      "source": [
        "couting number of some specific word in a sentence"
      ],
      "metadata": {
        "id": "VT8l2F7-B8l_"
      }
    },
    {
      "cell_type": "code",
      "source": [
        "s = str(input(\"enter a string: \"))\n",
        "c=0\n",
        "for i in range(len(s)):\n",
        "  if s[i]!=\" \" and (i==0 or s[i-1]==\" \"):\n",
        "    c+=1\n",
        "print(c)"
      ],
      "metadata": {
        "colab": {
          "base_uri": "https://localhost:8080/"
        },
        "id": "2cUjtBGdmLUi",
        "outputId": "f8867376-c2e3-4ff8-af62-41b90f693b9d"
      },
      "execution_count": null,
      "outputs": [
        {
          "output_type": "stream",
          "name": "stdout",
          "text": [
            "enter a string: a small box in a big box\n",
            "7\n"
          ]
        }
      ]
    },
    {
      "cell_type": "code",
      "source": [
        "stc = str(input(\"enter the sentence: \"))\n",
        "wrd = str(input(\"enter the word: \"))\n",
        "posn = 0\n",
        "a = len(wrd)\n",
        "b = len(stc)\n",
        "for i in range(b-a+1):\n",
        "  if stc[i:i + a] == wrd:\n",
        "    print(\"found at position:\",i)"
      ],
      "metadata": {
        "colab": {
          "base_uri": "https://localhost:8080/"
        },
        "id": "GOXPxj2u3Pdy",
        "outputId": "70c60c62-80d4-4338-ae20-6c6fa81dcd50"
      },
      "execution_count": null,
      "outputs": [
        {
          "output_type": "stream",
          "name": "stdout",
          "text": [
            "enter the sentence: okay shesh i hate you okay ?\n",
            "enter the word: okay\n",
            "found at position: 0\n",
            "found at position: 22\n"
          ]
        }
      ]
    },
    {
      "cell_type": "code",
      "source": [
        "s = str(input())\n",
        "if len(s) < 3:\n",
        "  print()\n",
        "else:\n",
        "  y=s[: :3][: :-1] + s[-3: : ][: : -1]\n",
        "  print(y)"
      ],
      "metadata": {
        "colab": {
          "base_uri": "https://localhost:8080/"
        },
        "id": "0e-Txe4_5ERx",
        "outputId": "328ddb36-d05b-4bc4-ba7c-5438f54ff339"
      },
      "execution_count": null,
      "outputs": [
        {
          "output_type": "stream",
          "name": "stdout",
          "text": [
            "HALF OF THE TEAM\n",
            "MTHFFHMAE\n"
          ]
        }
      ]
    },
    {
      "cell_type": "code",
      "source": [
        "s = input(\"Enter a string: \")\n",
        "\n",
        "half = len(s) // 2  # Finding the midpoint of the string\n",
        "\n",
        "# Reversing the first half and keeping the second half unchanged\n",
        "encoded_content = s[:half][::-1] + s[half:]\n",
        "\n",
        "print(\"Encoded content:\", encoded_content)\n"
      ],
      "metadata": {
        "colab": {
          "base_uri": "https://localhost:8080/"
        },
        "id": "MKcwN8Q5B3X1",
        "outputId": "906a6ee2-8428-47e5-c476-eac2b2c517dc"
      },
      "execution_count": null,
      "outputs": [
        {
          "output_type": "stream",
          "name": "stdout",
          "text": [
            "Enter a string: ABCDEFGHI\n",
            "Encoded content: DCBAEFGHI\n"
          ]
        }
      ]
    },
    {
      "cell_type": "markdown",
      "source": [
        "2 player coin toss game"
      ],
      "metadata": {
        "id": "3YVJb6BXBxXa"
      }
    },
    {
      "cell_type": "code",
      "source": [
        "import random\n",
        "n = int(input(\"enter number of tosses\"))\n",
        "coins = ['heads','tails']\n",
        "scores = [0,0]\n",
        "for i in range(1,n+1):\n",
        "  p1 = random.randint(0,1)\n",
        "  p2 = random.randint(0,1)\n",
        "  print(\"Player 1 got:\",coins[p1], \"Player 2 got:\",coins[p2])\n",
        "  if coins[p1] == coins[0] and coins[p2] == coins[0]:\n",
        "    scores[0]+=1\n",
        "    scores[1]+=1\n",
        "  elif coins[p1] == coins[0]:\n",
        "    scores[0]+=1\n",
        "  elif coins[p2] == coins[0]:\n",
        "    scores[1]+=1\n",
        "  else:\n",
        "    break\n",
        "  if scores[0] == 0:\n",
        "    print(\"Player 2 won!\")\n",
        "  elif scores[1] == 0:\n",
        "    print(\"Player 1 won!\")\n",
        "  else:\n",
        "    print(\"Its a tie!\")\n",
        "print(\"Player 1 scored:\",scores[0], \"Player 2 scored:\",scores[1])\n",
        "if scores[0] > scores[1]:\n",
        "  print(\"Player 1 won!\")\n",
        "elif scores[1] > scores[0]:\n",
        "  print(\"Player 2 won!\")\n",
        "else:\n",
        "  print(\"Its a tie!\")"
      ],
      "metadata": {
        "id": "lVVS41amD8Vm",
        "colab": {
          "base_uri": "https://localhost:8080/"
        },
        "outputId": "b2e0f42e-c366-4ea9-814e-f811774499cd"
      },
      "execution_count": null,
      "outputs": [
        {
          "output_type": "stream",
          "name": "stdout",
          "text": [
            "enter number of tosses10\n",
            "Player 1 got: tails Player 2 got: tails\n",
            "Player 1 scored: 0 Player 2 scored: 0\n",
            "Its a tie!\n"
          ]
        }
      ]
    },
    {
      "cell_type": "markdown",
      "source": [
        "**FINAL EXAM REVISION**"
      ],
      "metadata": {
        "id": "efDsiW8DBLiv"
      }
    },
    {
      "cell_type": "markdown",
      "source": [
        "sine graph"
      ],
      "metadata": {
        "id": "P9js_o1-nqTp"
      }
    },
    {
      "cell_type": "code",
      "source": [
        "from math import *\n",
        "for d in range(0,361,20):\n",
        "  r=d*pi/180\n",
        "  s=int(10*sin(r))\n",
        "  print(d,\"|\",(10+s)*\" \",\"*\")"
      ],
      "metadata": {
        "id": "x2Ll52IoDH4V",
        "colab": {
          "base_uri": "https://localhost:8080/"
        },
        "outputId": "6e611f19-0983-4c30-d785-0b07f852aabd"
      },
      "execution_count": null,
      "outputs": [
        {
          "output_type": "stream",
          "name": "stdout",
          "text": [
            "0 |            *\n",
            "20 |               *\n",
            "40 |                  *\n",
            "60 |                    *\n",
            "80 |                     *\n",
            "100 |                     *\n",
            "120 |                    *\n",
            "140 |                  *\n",
            "160 |               *\n",
            "180 |            *\n",
            "200 |         *\n",
            "220 |      *\n",
            "240 |    *\n",
            "260 |   *\n",
            "280 |   *\n",
            "300 |    *\n",
            "320 |      *\n",
            "340 |         *\n",
            "360 |            *\n"
          ]
        }
      ]
    },
    {
      "cell_type": "markdown",
      "source": [
        "addition quiz"
      ],
      "metadata": {
        "id": "HvQsDg3Nnv2l"
      }
    },
    {
      "cell_type": "code",
      "source": [
        "from random import *\n",
        "s=0, q=1\n",
        "while True:\n",
        "  a = randint(10,99)\n",
        "  b = randint(10,99)\n",
        "  c=input(str(a)+\"+\"+str(b)+\"?\")\n",
        "  if ((a+b) == c):\n",
        "    print(\"correct\")\n",
        "    s+=1\n",
        "  else:\n",
        "    print(\"incorrect\")\n",
        "  if input(\"More?(y/n)\") == \"n\":\n",
        "    break\n",
        "  q+=1\n",
        "print(\"score: \",score,\"/\",q)"
      ],
      "metadata": {
        "colab": {
          "base_uri": "https://localhost:8080/",
          "height": 106
        },
        "id": "WgjFgA1nWtG-",
        "outputId": "9860f002-b4d9-473a-956d-fe5e7f317893"
      },
      "execution_count": null,
      "outputs": [
        {
          "output_type": "error",
          "ename": "SyntaxError",
          "evalue": "invalid syntax (<ipython-input-7-00179f8e5ddd>, line 5)",
          "traceback": [
            "\u001b[0;36m  File \u001b[0;32m\"<ipython-input-7-00179f8e5ddd>\"\u001b[0;36m, line \u001b[0;32m5\u001b[0m\n\u001b[0;31m    c=input(str(a)+)\u001b[0m\n\u001b[0m                   ^\u001b[0m\n\u001b[0;31mSyntaxError\u001b[0m\u001b[0;31m:\u001b[0m invalid syntax\n"
          ]
        }
      ]
    },
    {
      "cell_type": "markdown",
      "source": [
        "2 player coin toss"
      ],
      "metadata": {
        "id": "9jS0743rofW3"
      }
    },
    {
      "cell_type": "code",
      "source": [
        "from random import *\n",
        "coins [\"heads\",\"tails\"]\n",
        "scores = [0,0]\n",
        "counts = [0,0]\n",
        "for i in range(5):\n",
        "  a=randint(0,1)\n",
        "  b=randint(0,1)\n",
        "  print(\"p1: \",coins[a], \"p2: \", coins[b])\n",
        "  scores[0]+=a\n",
        "  scores[1]+=b\n",
        "  if coins[a] == coins[0] and coins[b] == coins[0]:\n",
        "    counts[0]+=1\n",
        "print(\"p1 score: \",scores[0], \"p2 score: \",scores[1])"
      ],
      "metadata": {
        "id": "5zmZIrM2n-b6"
      },
      "execution_count": null,
      "outputs": []
    },
    {
      "cell_type": "markdown",
      "source": [
        "2 player dice game"
      ],
      "metadata": {
        "id": "grFO0cnLpkFQ"
      }
    },
    {
      "cell_type": "code",
      "source": [
        "from random import *\n",
        "scores[0,0]\n",
        "for i in range(5):\n",
        "  a=randint(1,6)\n",
        "  b=randint(1,6)\n",
        "  print(\"p1: \",a, \"p2: \",b)\n",
        "  scores[0]+=a\n",
        "  scores[1]+=b\n",
        "print(\"p1 score: \",scores[0], \"p2 score: \",scores[1])"
      ],
      "metadata": {
        "id": "F8kCINCzpmN-"
      },
      "execution_count": null,
      "outputs": []
    },
    {
      "cell_type": "markdown",
      "source": [
        "2 player card game"
      ],
      "metadata": {
        "id": "N6RQHvmZp7c9"
      }
    },
    {
      "cell_type": "code",
      "source": [
        "cards = [\"2\",\"3\",\"4\",\"5\",\"6\",\"7\",\"8\",\"9\",\"10\",\"J\",\"Q\",\"K\",\"A\"]\n",
        "counts = [0]*13\n",
        "p1,p2=0,0\n",
        "print(\"for player 1\\n\")\n",
        "for i in range(5):\n",
        "  while True:\n",
        "    c=randint(0,12)\n",
        "    if counts[c]<4:\n",
        "      counts[c]+=1\n",
        "      break\n",
        "    print(cards[c],end=\"\")\n",
        "    p1+=c\n",
        "  print()\n",
        "print(\"for player 2\\n\")\n",
        "for i in range(5):\n",
        "  while True:\n",
        "    c=randint(0,12)\n",
        "    if counts[c]<4:\n",
        "      counts[c]+=1\n",
        "      break\n",
        "    print(cards[c],end=\"\")\n",
        "    p2+=c\n",
        "  print()\n",
        "print(\"p1 score: \",p1, \"p2 score: \",p2)"
      ],
      "metadata": {
        "colab": {
          "base_uri": "https://localhost:8080/",
          "height": 106
        },
        "collapsed": true,
        "id": "MFX0vGnNp-Ne",
        "outputId": "9a3f324a-66e1-486c-d852-3eda9d71949f"
      },
      "execution_count": null,
      "outputs": [
        {
          "output_type": "error",
          "ename": "SyntaxError",
          "evalue": "incomplete input (<ipython-input-8-86313227f186>, line 1)",
          "traceback": [
            "\u001b[0;36m  File \u001b[0;32m\"<ipython-input-8-86313227f186>\"\u001b[0;36m, line \u001b[0;32m1\u001b[0m\n\u001b[0;31m    cards = [\"2\",\"3\",\"4\",\"5\",\u001b[0m\n\u001b[0m                             ^\u001b[0m\n\u001b[0;31mSyntaxError\u001b[0m\u001b[0;31m:\u001b[0m incomplete input\n"
          ]
        }
      ]
    },
    {
      "cell_type": "markdown",
      "source": [
        "states and capitals quiz"
      ],
      "metadata": {
        "id": "-tdCdroXGSIw"
      }
    },
    {
      "cell_type": "code",
      "source": [
        "from random import *\n",
        "sut = []\n",
        "cap=[]\n",
        "n=5\n",
        "randlist=[]\n",
        "for i in range(n):\n",
        "  while True:\n",
        "    x=randint(0,37)\n",
        "    if x not in randlist:\n",
        "      randlist.append(x)\n",
        "      break\n",
        "score = 0\n",
        "for i in range(n):\n",
        "  ans = input(sut[randlist[i]]+\"?\")\n",
        "  if ans == cap[randlist[i]]:\n",
        "    print(\"correct\")\n",
        "    score+=1\n",
        "  else:\n",
        "    print(\"wrong\\n\")\n",
        "    print(\"it was, \",cap[randlist[i]])\n",
        "print(\"score: \",score,\"/\",n)"
      ],
      "metadata": {
        "id": "uXq4PlaVqEcI"
      },
      "execution_count": null,
      "outputs": []
    },
    {
      "cell_type": "markdown",
      "source": [
        "median without stats"
      ],
      "metadata": {
        "id": "5_SZL_SvsKis"
      }
    },
    {
      "cell_type": "code",
      "source": [
        "L = []\n",
        "L.sort()\n",
        "n = len(L)\n",
        "if n%2==0:\n",
        "  median = (L[n//2]+L[n//2-1])/2\n",
        "else:\n",
        "  median = L[n//2]\n",
        "print(median)"
      ],
      "metadata": {
        "id": "WL3EJXPCsMBG"
      },
      "execution_count": null,
      "outputs": []
    },
    {
      "cell_type": "markdown",
      "source": [
        "mode without stats"
      ],
      "metadata": {
        "id": "cu9XiR6asjO-"
      }
    },
    {
      "cell_type": "code",
      "source": [
        "L = []\n",
        "d = {}\n",
        "for i in L:\n",
        "  if i in d:\n",
        "    d[i]+=1\n",
        "  else:\n",
        "    d[i]=1\n",
        "if len(d.keys()) == len(L):\n",
        "  print(\"no mode possible\")\n",
        "else:\n",
        "  max = 0\n",
        "  if for k,v in d.items():\n",
        "    if v>max:\n",
        "      max = v\n",
        "      mode = k\n",
        "      print(mode)"
      ],
      "metadata": {
        "id": "GIY88WqJsk5h"
      },
      "execution_count": null,
      "outputs": []
    },
    {
      "cell_type": "markdown",
      "source": [],
      "metadata": {
        "id": "DZ3BQgXOshR8"
      }
    },
    {
      "cell_type": "markdown",
      "source": [
        "taking input in a tuple"
      ],
      "metadata": {
        "id": "Eh0zwNiiGOE1"
      }
    },
    {
      "cell_type": "code",
      "source": [
        "n = int(input())\n",
        "t =()\n",
        "for i in range(0,n+1):\n",
        "  a = int(input())\n",
        "  b = int(input())\n",
        "  t+=(a,b)\n",
        "print(t)"
      ],
      "metadata": {
        "colab": {
          "base_uri": "https://localhost:8080/"
        },
        "id": "2Io34yx9CIn8",
        "outputId": "667406c6-5d6b-4bdd-ff65-e7705040af59"
      },
      "execution_count": null,
      "outputs": [
        {
          "output_type": "stream",
          "name": "stdout",
          "text": [
            "2\n",
            "1\n",
            "2\n",
            "3\n",
            "4\n",
            "5\n",
            "2\n",
            "(1, 2, 3, 4, 5, 2)\n"
          ]
        }
      ]
    },
    {
      "cell_type": "code",
      "source": [
        "item = [1,2,3,4]\n",
        "n = int(input())\n",
        "for i in range(len(item)):\n",
        "  if item[i] == n:\n",
        "    print(\"ok\")\n",
        "else:\n",
        "  print(\"not ok\")"
      ],
      "metadata": {
        "colab": {
          "base_uri": "https://localhost:8080/"
        },
        "id": "QmHSGQq7CUj9",
        "outputId": "f7d04397-4398-45c0-9e96-b0c530e94d58"
      },
      "execution_count": null,
      "outputs": [
        {
          "output_type": "stream",
          "name": "stdout",
          "text": [
            "10\n",
            "not ok\n"
          ]
        }
      ]
    },
    {
      "cell_type": "code",
      "source": [
        "t = (\"ok\",\"not okay\")\n",
        "x = \"#\".join(t)\n",
        "print(x)"
      ],
      "metadata": {
        "colab": {
          "base_uri": "https://localhost:8080/"
        },
        "id": "EJhSuKlNFpRC",
        "outputId": "c182d02c-32ab-4b44-f9b7-711b6358874d"
      },
      "execution_count": null,
      "outputs": [
        {
          "output_type": "stream",
          "name": "stdout",
          "text": [
            "ok#not okay\n"
          ]
        }
      ]
    },
    {
      "cell_type": "markdown",
      "source": [
        "taking input in a list and a tuple"
      ],
      "metadata": {
        "id": "P8m194ecGK8X"
      }
    },
    {
      "cell_type": "code",
      "source": [
        "L = []\n",
        "n=5\n",
        "while n>0:\n",
        "  num = int(input(\"enter a number\"))\n",
        "  L.append(num)\n",
        "  n=n-1\n",
        "print(L)\n",
        "T = tuple(L)\n",
        "print(T)"
      ],
      "metadata": {
        "id": "p0BF7tTfdvVn",
        "colab": {
          "base_uri": "https://localhost:8080/"
        },
        "outputId": "7744b5b6-972b-4439-e7ae-e45f786af901"
      },
      "execution_count": null,
      "outputs": [
        {
          "output_type": "stream",
          "name": "stdout",
          "text": [
            "enter a number10\n",
            "enter a number9\n",
            "enter a number8\n",
            "enter a number7\n",
            "enter a number6\n",
            "[10, 9, 8, 7, 6]\n",
            "(10, 9, 8, 7, 6)\n"
          ]
        }
      ]
    },
    {
      "cell_type": "markdown",
      "source": [],
      "metadata": {
        "id": "pk2aPeh-GV8l"
      }
    },
    {
      "cell_type": "code",
      "source": [
        "L = [1,2,3,4,5,6,7,8,9,10]\n",
        "for i in range(0,len(L)):\n",
        "  a = L[0::2]\n",
        "  b=L[1::2]\n",
        "  print(a,\"+\",b,\"=\",a+b)"
      ],
      "metadata": {
        "colab": {
          "base_uri": "https://localhost:8080/"
        },
        "id": "YHcbKNr5F6CT",
        "outputId": "e6cbabad-9397-4c73-e56f-686ed9d65620"
      },
      "execution_count": null,
      "outputs": [
        {
          "output_type": "stream",
          "name": "stdout",
          "text": [
            "[1, 3, 5, 7, 9] + [2, 4, 6, 8, 10] = [1, 3, 5, 7, 9, 2, 4, 6, 8, 10]\n",
            "[1, 3, 5, 7, 9] + [2, 4, 6, 8, 10] = [1, 3, 5, 7, 9, 2, 4, 6, 8, 10]\n",
            "[1, 3, 5, 7, 9] + [2, 4, 6, 8, 10] = [1, 3, 5, 7, 9, 2, 4, 6, 8, 10]\n",
            "[1, 3, 5, 7, 9] + [2, 4, 6, 8, 10] = [1, 3, 5, 7, 9, 2, 4, 6, 8, 10]\n",
            "[1, 3, 5, 7, 9] + [2, 4, 6, 8, 10] = [1, 3, 5, 7, 9, 2, 4, 6, 8, 10]\n",
            "[1, 3, 5, 7, 9] + [2, 4, 6, 8, 10] = [1, 3, 5, 7, 9, 2, 4, 6, 8, 10]\n",
            "[1, 3, 5, 7, 9] + [2, 4, 6, 8, 10] = [1, 3, 5, 7, 9, 2, 4, 6, 8, 10]\n",
            "[1, 3, 5, 7, 9] + [2, 4, 6, 8, 10] = [1, 3, 5, 7, 9, 2, 4, 6, 8, 10]\n",
            "[1, 3, 5, 7, 9] + [2, 4, 6, 8, 10] = [1, 3, 5, 7, 9, 2, 4, 6, 8, 10]\n",
            "[1, 3, 5, 7, 9] + [2, 4, 6, 8, 10] = [1, 3, 5, 7, 9, 2, 4, 6, 8, 10]\n"
          ]
        }
      ]
    },
    {
      "cell_type": "code",
      "source": [
        "L = [1, 2, 3, 4, 5, 6, 7, 8, 9, 10]\n",
        "\n",
        "for i in range(0, len(L), 2):\n",
        "    print(L[i] + L[i + 1])\n"
      ],
      "metadata": {
        "colab": {
          "base_uri": "https://localhost:8080/"
        },
        "id": "7iM7NaMCQDbv",
        "outputId": "78011412-f164-413a-c0d0-f36c45262902"
      },
      "execution_count": null,
      "outputs": [
        {
          "output_type": "stream",
          "name": "stdout",
          "text": [
            "3\n",
            "7\n",
            "11\n",
            "15\n",
            "19\n"
          ]
        }
      ]
    },
    {
      "cell_type": "code",
      "source": [
        "d = {\"jaya\":\"pune\",\"madan\":\"delhi\"}\n",
        "print(d.setdefault(\"madan\",\"jaipur\"))"
      ],
      "metadata": {
        "colab": {
          "base_uri": "https://localhost:8080/"
        },
        "id": "n82_Q1O4h0Cm",
        "outputId": "fd18ff54-ec84-4750-cf91-afcb7f18c09a"
      },
      "execution_count": null,
      "outputs": [
        {
          "output_type": "stream",
          "name": "stdout",
          "text": [
            "delhi\n"
          ]
        }
      ]
    },
    {
      "cell_type": "code",
      "source": [
        "s = str(input(\"enter a string: \"))\n",
        "for i in range(len(s)):\n",
        "  print(\" \"*i,s[i],\" \"*(len(s)-i),s[i])"
      ],
      "metadata": {
        "colab": {
          "base_uri": "https://localhost:8080/"
        },
        "id": "nEGr3Z1xx-GG",
        "outputId": "fa3dc998-646f-47a7-eb00-8a180f1c9130"
      },
      "execution_count": null,
      "outputs": [
        {
          "output_type": "stream",
          "name": "stdout",
          "text": [
            "enter a string: water\n",
            " w       w\n",
            "  a      a\n",
            "   t     t\n",
            "    e    e\n",
            "     r   r\n"
          ]
        }
      ]
    },
    {
      "cell_type": "code",
      "source": [
        "s = str(input(\"enter a string: \"))\n",
        "for i in range(len(s)):\n",
        " for j in range(i+1):\n",
        "  print(s,end=\" \")"
      ],
      "metadata": {
        "colab": {
          "base_uri": "https://localhost:8080/"
        },
        "id": "cy4u1M44Igpi",
        "outputId": "730553f7-25d8-42e8-f83d-da233b86003c"
      },
      "execution_count": null,
      "outputs": [
        {
          "output_type": "stream",
          "name": "stdout",
          "text": [
            "enter a string: gogreen\n",
            "gogreen gogreen gogreen gogreen gogreen gogreen gogreen gogreen gogreen gogreen gogreen gogreen gogreen gogreen gogreen gogreen gogreen gogreen gogreen gogreen gogreen gogreen gogreen gogreen gogreen gogreen gogreen gogreen "
          ]
        }
      ]
    },
    {
      "cell_type": "code",
      "source": [
        "s = str(input(\"enter a string: \"))\n",
        "for i in range(len(s)):\n",
        "  if s[i] in \"aeiouAEIOU\":\n",
        "    s=s.replace(s[i],\"_\")\n",
        "print(s)"
      ],
      "metadata": {
        "colab": {
          "base_uri": "https://localhost:8080/"
        },
        "id": "semqcnsPJpdP",
        "outputId": "77631e53-b7bf-4457-f5e8-599946f8c942"
      },
      "execution_count": null,
      "outputs": [
        {
          "output_type": "stream",
          "name": "stdout",
          "text": [
            "enter a string: water\n",
            "w_t_r\n"
          ]
        }
      ]
    },
    {
      "cell_type": "code",
      "source": [
        "wrd = str(input(\"enter a word: \"))\n",
        "stc = str(input(\"enter a sentence\"))\n",
        "if stc.find(wrd) == -1:\n",
        "  print(\"Status: Not Found\")\n",
        "else:\n",
        "  print(\"Status: Found\")"
      ],
      "metadata": {
        "colab": {
          "base_uri": "https://localhost:8080/"
        },
        "id": "JnnSTLljKd9b",
        "outputId": "9a32695a-1f7e-4770-c546-05d49a0a4128"
      },
      "execution_count": null,
      "outputs": [
        {
          "output_type": "stream",
          "name": "stdout",
          "text": [
            "enter a word: box\n",
            "enter a sentencea small box in the big box\n",
            "Status: Found\n"
          ]
        }
      ]
    },
    {
      "cell_type": "code",
      "source": [
        "stc1 = str(input(\"enter a sentence: \"))\n",
        "s=0\n",
        "stc2 = stc1.split()\n",
        "print(len(stc2))"
      ],
      "metadata": {
        "colab": {
          "base_uri": "https://localhost:8080/"
        },
        "id": "Y728Tb_sK9ad",
        "outputId": "b8a5b03b-e58c-4e68-e504-dfd19a24ddb6"
      },
      "execution_count": null,
      "outputs": [
        {
          "output_type": "stream",
          "name": "stdout",
          "text": [
            "enter a sentence: a small box in a big box\n",
            "7\n"
          ]
        }
      ]
    },
    {
      "cell_type": "code",
      "source": [
        "wrd = str(input(\"enter a word: \"))\n",
        "stc1 = str(input(\"enter a sentence\"))\n",
        "stc2 = stc1.split()\n",
        "for i in stc2:\n",
        "  if i == wrd:\n",
        "    print(i)\n",
        "print(s)"
      ],
      "metadata": {
        "colab": {
          "base_uri": "https://localhost:8080/"
        },
        "id": "Eaq_L9XJLOPr",
        "outputId": "1bcfdcf7-78b5-4b63-be88-125e0e3b7718"
      },
      "execution_count": null,
      "outputs": [
        {
          "output_type": "stream",
          "name": "stdout",
          "text": [
            "enter a word: box\n",
            "enter a sentencea small box in the big box\n",
            "box\n",
            "box\n",
            "0\n"
          ]
        }
      ]
    },
    {
      "cell_type": "code",
      "source": [
        "sentence = input(\"Enter a sentence: \")\n",
        "word = input(\"Enter a word to find: \")\n",
        "\n",
        "index = -1\n",
        "\n",
        "while True:\n",
        "    index = sentence.find(word, index + 1)\n",
        "    if index == -1:\n",
        "        break\n",
        "    print(index,end=\" \")"
      ],
      "metadata": {
        "colab": {
          "base_uri": "https://localhost:8080/",
          "height": 356
        },
        "collapsed": true,
        "id": "lSvCVdwrMpWF",
        "outputId": "58c9cfdf-0ccf-4496-a4fe-213c36dfcc79"
      },
      "execution_count": null,
      "outputs": [
        {
          "output_type": "error",
          "ename": "KeyboardInterrupt",
          "evalue": "Interrupted by user",
          "traceback": [
            "\u001b[0;31m---------------------------------------------------------------------------\u001b[0m",
            "\u001b[0;31mKeyboardInterrupt\u001b[0m                         Traceback (most recent call last)",
            "\u001b[0;32m<ipython-input-48-90faae796a68>\u001b[0m in \u001b[0;36m<cell line: 0>\u001b[0;34m()\u001b[0m\n\u001b[0;32m----> 1\u001b[0;31m \u001b[0msentence\u001b[0m \u001b[0;34m=\u001b[0m \u001b[0minput\u001b[0m\u001b[0;34m(\u001b[0m\u001b[0;34m\"Enter a sentence: \"\u001b[0m\u001b[0;34m)\u001b[0m\u001b[0;34m\u001b[0m\u001b[0;34m\u001b[0m\u001b[0m\n\u001b[0m\u001b[1;32m      2\u001b[0m \u001b[0mword\u001b[0m \u001b[0;34m=\u001b[0m \u001b[0minput\u001b[0m\u001b[0;34m(\u001b[0m\u001b[0;34m\"Enter a word to find: \"\u001b[0m\u001b[0;34m)\u001b[0m\u001b[0;34m\u001b[0m\u001b[0;34m\u001b[0m\u001b[0m\n\u001b[1;32m      3\u001b[0m \u001b[0;34m\u001b[0m\u001b[0m\n\u001b[1;32m      4\u001b[0m \u001b[0mindex\u001b[0m \u001b[0;34m=\u001b[0m \u001b[0;34m-\u001b[0m\u001b[0;36m1\u001b[0m\u001b[0;34m\u001b[0m\u001b[0;34m\u001b[0m\u001b[0m\n\u001b[1;32m      5\u001b[0m \u001b[0;34m\u001b[0m\u001b[0m\n",
            "\u001b[0;32m/usr/local/lib/python3.11/dist-packages/ipykernel/kernelbase.py\u001b[0m in \u001b[0;36mraw_input\u001b[0;34m(self, prompt)\u001b[0m\n\u001b[1;32m   1175\u001b[0m                 \u001b[0;34m\"raw_input was called, but this frontend does not support input requests.\"\u001b[0m\u001b[0;34m\u001b[0m\u001b[0;34m\u001b[0m\u001b[0m\n\u001b[1;32m   1176\u001b[0m             )\n\u001b[0;32m-> 1177\u001b[0;31m         return self._input_request(\n\u001b[0m\u001b[1;32m   1178\u001b[0m             \u001b[0mstr\u001b[0m\u001b[0;34m(\u001b[0m\u001b[0mprompt\u001b[0m\u001b[0;34m)\u001b[0m\u001b[0;34m,\u001b[0m\u001b[0;34m\u001b[0m\u001b[0;34m\u001b[0m\u001b[0m\n\u001b[1;32m   1179\u001b[0m             \u001b[0mself\u001b[0m\u001b[0;34m.\u001b[0m\u001b[0m_parent_ident\u001b[0m\u001b[0;34m[\u001b[0m\u001b[0;34m\"shell\"\u001b[0m\u001b[0;34m]\u001b[0m\u001b[0;34m,\u001b[0m\u001b[0;34m\u001b[0m\u001b[0;34m\u001b[0m\u001b[0m\n",
            "\u001b[0;32m/usr/local/lib/python3.11/dist-packages/ipykernel/kernelbase.py\u001b[0m in \u001b[0;36m_input_request\u001b[0;34m(self, prompt, ident, parent, password)\u001b[0m\n\u001b[1;32m   1217\u001b[0m             \u001b[0;32mexcept\u001b[0m \u001b[0mKeyboardInterrupt\u001b[0m\u001b[0;34m:\u001b[0m\u001b[0;34m\u001b[0m\u001b[0;34m\u001b[0m\u001b[0m\n\u001b[1;32m   1218\u001b[0m                 \u001b[0;31m# re-raise KeyboardInterrupt, to truncate traceback\u001b[0m\u001b[0;34m\u001b[0m\u001b[0;34m\u001b[0m\u001b[0m\n\u001b[0;32m-> 1219\u001b[0;31m                 \u001b[0;32mraise\u001b[0m \u001b[0mKeyboardInterrupt\u001b[0m\u001b[0;34m(\u001b[0m\u001b[0;34m\"Interrupted by user\"\u001b[0m\u001b[0;34m)\u001b[0m \u001b[0;32mfrom\u001b[0m \u001b[0;32mNone\u001b[0m\u001b[0;34m\u001b[0m\u001b[0;34m\u001b[0m\u001b[0m\n\u001b[0m\u001b[1;32m   1220\u001b[0m             \u001b[0;32mexcept\u001b[0m \u001b[0mException\u001b[0m\u001b[0;34m:\u001b[0m\u001b[0;34m\u001b[0m\u001b[0;34m\u001b[0m\u001b[0m\n\u001b[1;32m   1221\u001b[0m                 \u001b[0mself\u001b[0m\u001b[0;34m.\u001b[0m\u001b[0mlog\u001b[0m\u001b[0;34m.\u001b[0m\u001b[0mwarning\u001b[0m\u001b[0;34m(\u001b[0m\u001b[0;34m\"Invalid Message:\"\u001b[0m\u001b[0;34m,\u001b[0m \u001b[0mexc_info\u001b[0m\u001b[0;34m=\u001b[0m\u001b[0;32mTrue\u001b[0m\u001b[0;34m)\u001b[0m\u001b[0;34m\u001b[0m\u001b[0;34m\u001b[0m\u001b[0m\n",
            "\u001b[0;31mKeyboardInterrupt\u001b[0m: Interrupted by user"
          ]
        }
      ]
    },
    {
      "cell_type": "code",
      "source": [
        "s = str(input(\"enter a string: \"))\n",
        "S1 = s[:4:]\n",
        "s3 = S1[::-1]\n",
        "s2 = s[:-4:-1]\n",
        "print(s3,s2)"
      ],
      "metadata": {
        "colab": {
          "base_uri": "https://localhost:8080/"
        },
        "id": "f1YnOagPSdOb",
        "outputId": "c91ad6c7-c50b-4dd4-e549-9bda7c898faf"
      },
      "execution_count": null,
      "outputs": [
        {
          "output_type": "stream",
          "name": "stdout",
          "text": [
            "enter a string: HALF OF THE TEAM\n",
            "FLAH MAE\n"
          ]
        }
      ]
    },
    {
      "cell_type": "code",
      "source": [
        "s = str(input(\"enter a string: \"))\n",
        "n=len(s)\n",
        "s1 = s[:n//2][::-1]\n",
        "s2 = s[n//2:n]\n",
        "print(s1+s2)"
      ],
      "metadata": {
        "colab": {
          "base_uri": "https://localhost:8080/"
        },
        "id": "IrnShO4ITgVA",
        "outputId": "708276bf-6821-4bf0-cfbb-c4a763b94258"
      },
      "execution_count": null,
      "outputs": [
        {
          "output_type": "stream",
          "name": "stdout",
          "text": [
            "enter a string: ABCDEFGHI\n",
            "DCBAEFGHI\n"
          ]
        }
      ]
    },
    {
      "cell_type": "code",
      "source": [
        "n = int(input(\"enter the number of terms: \"))\n",
        "c=0\n",
        "for i in range(1,n+1):\n",
        "  c+=2*i\n",
        "  print(c,end=\" \")"
      ],
      "metadata": {
        "colab": {
          "base_uri": "https://localhost:8080/"
        },
        "id": "_fJz37m-Um_g",
        "outputId": "ea15179f-1a0c-4a97-82ee-ec458ddad054"
      },
      "execution_count": null,
      "outputs": [
        {
          "output_type": "stream",
          "name": "stdout",
          "text": [
            "enter the number of terms: 10\n",
            "2 6 12 20 30 42 56 72 90 110 "
          ]
        }
      ]
    },
    {
      "cell_type": "code",
      "source": [
        "X = int(input(\"enter the base: \"))\n",
        "N = int(input(\"enter the number of terms: \"))\n",
        "s = X\n",
        "p=1\n",
        "for i in range(2,n+1):\n",
        "  p=p*i\n",
        "  s=X**i/p\n",
        "  print(s,end=\" \")"
      ],
      "metadata": {
        "colab": {
          "base_uri": "https://localhost:8080/"
        },
        "id": "aW0OQF6boPwC",
        "outputId": "149fe826-4ec9-48fd-ac2f-22a25c90f3ef"
      },
      "execution_count": null,
      "outputs": [
        {
          "output_type": "stream",
          "name": "stdout",
          "text": [
            "enter the base: 2\n",
            "enter the number of terms: 10\n",
            "2.0 1.3333333333333333 0.6666666666666666 0.26666666666666666 0.08888888888888889 0.025396825396825397 0.006349206349206349 0.0014109347442680777 0.0002821869488536155 "
          ]
        }
      ]
    },
    {
      "cell_type": "code",
      "source": [
        "x = int(input(\"enter the base: \"))\n",
        "n = int(input(\"enter the number of terms: \"))\n",
        "s = x\n",
        "p = 1\n",
        "for i in range(2,n+1):\n",
        "  p=p*i\n",
        "  s=x**i/p\n",
        "  print(s,end=\" \")"
      ],
      "metadata": {
        "colab": {
          "base_uri": "https://localhost:8080/"
        },
        "id": "nS1n9ULDpBMg",
        "outputId": "2a000bb3-6b02-4c97-b78b-012baf1d64a7"
      },
      "execution_count": null,
      "outputs": [
        {
          "output_type": "stream",
          "name": "stdout",
          "text": [
            "enter the base: 2\n",
            "enter the number of terms: 10\n",
            "2.0 1.3333333333333333 0.6666666666666666 0.26666666666666666 0.08888888888888889 0.025396825396825397 0.006349206349206349 0.0014109347442680777 0.0002821869488536155 "
          ]
        }
      ]
    },
    {
      "cell_type": "code",
      "source": [
        "x = int(input(\"enter the base: \"))\n",
        "n = int(input(\"enter the number of terms: \"))\n",
        "r=x\n",
        "f=1\n",
        "s=1\n",
        "print(r,end=\" \")\n",
        "for i in range(2,n+1):\n",
        "  f=f*i\n",
        "  r=(x**i/f)*s\n",
        "  s*=-1\n",
        "  print(r,end=\" \")"
      ],
      "metadata": {
        "colab": {
          "base_uri": "https://localhost:8080/"
        },
        "id": "MvTdZUwJpfem",
        "outputId": "24a1400b-78fd-4481-ebf1-91e1bc927012"
      },
      "execution_count": null,
      "outputs": [
        {
          "output_type": "stream",
          "name": "stdout",
          "text": [
            "enter the base: 10\n",
            "enter the number of terms: 10\n",
            "10 50.0 -166.66666666666666 416.6666666666667 -833.3333333333334 1388.888888888889 -1984.126984126984 2480.15873015873 -2755.731922398589 2755.731922398589 "
          ]
        }
      ]
    },
    {
      "cell_type": "code",
      "source": [
        "n = int(input(\"enter a number: \"))\n",
        "a=n\n",
        "s=0\n",
        "while n>0:\n",
        "  d=n%10\n",
        "  s=s+d**3\n",
        "  n=n//10\n",
        "if a==s:\n",
        "  print(\"armstrong\")"
      ],
      "metadata": {
        "id": "bbwgcY1zqOG8",
        "colab": {
          "base_uri": "https://localhost:8080/"
        },
        "outputId": "b6b1045f-4742-4616-debb-2e27829b0288"
      },
      "execution_count": null,
      "outputs": [
        {
          "output_type": "stream",
          "name": "stdout",
          "text": [
            "enter a number: 153\n",
            "armstrong\n"
          ]
        }
      ]
    },
    {
      "cell_type": "code",
      "source": [
        "n = int(input(\"enter a number: \"))\n",
        "for i in range(1,n+1):\n",
        "  print(\" \"*(n-i),end=\"\")\n",
        "  for j in range(1,i+1):\n",
        "    print(j,end=\" \")\n",
        "  for k in range(j-1,0,-1):\n",
        "    print(j,end=\" \")\n",
        "  print()"
      ],
      "metadata": {
        "colab": {
          "base_uri": "https://localhost:8080/"
        },
        "id": "-ZhVDWBmyZj8",
        "outputId": "64f58eac-1a28-4e7e-adc3-7b3b9e73e3ce"
      },
      "execution_count": null,
      "outputs": [
        {
          "output_type": "stream",
          "name": "stdout",
          "text": [
            "enter a number: 5\n",
            "    1 \n",
            "   1 2 2 \n",
            "  1 2 3 3 3 \n",
            " 1 2 3 4 4 4 4 \n",
            "1 2 3 4 5 5 5 5 5 \n"
          ]
        }
      ]
    },
    {
      "cell_type": "code",
      "source": [
        "n = int(input(\"enter a number: \"))\n",
        "for i in range(1,i+1):\n",
        "  print(\" \"*(n-i),end=\"\")\n",
        "  print(str(i)*i)"
      ],
      "metadata": {
        "colab": {
          "base_uri": "https://localhost:8080/"
        },
        "id": "0fDhwXrU0mji",
        "outputId": "5ac139e7-a8c0-41a9-b81e-cbf09d5c7868"
      },
      "execution_count": null,
      "outputs": [
        {
          "output_type": "stream",
          "name": "stdout",
          "text": [
            "enter a number: 5\n",
            "    1\n",
            "   22\n",
            "  333\n",
            " 4444\n",
            "55555\n"
          ]
        }
      ]
    },
    {
      "cell_type": "code",
      "source": [
        "s=input(\"Enter a word \")\n",
        "for i in range(len(s)-1,-1,-1):\n",
        "  print(\" \"*(i),end=\"\")\n",
        "  print(s[i])"
      ],
      "metadata": {
        "colab": {
          "base_uri": "https://localhost:8080/"
        },
        "id": "ugbQd-Zp-Q7V",
        "outputId": "79bd0b88-4007-40dd-dbef-3a6da20a843f"
      },
      "execution_count": null,
      "outputs": [
        {
          "output_type": "stream",
          "name": "stdout",
          "text": [
            "Enter a word GOGREEN\n",
            "      N\n",
            "     E\n",
            "    E\n",
            "   R\n",
            "  G\n",
            " O\n",
            "G\n"
          ]
        }
      ]
    },
    {
      "cell_type": "code",
      "source": [
        "# Try regenerating the animation one more time with a simpler version to reduce load\n",
        "\n",
        "import numpy as np\n",
        "import matplotlib.pyplot as plt\n",
        "import matplotlib.animation as animation\n",
        "\n",
        "# Set up the figure and axis\n",
        "fig, ax = plt.subplots(subplot_kw={'projection': 'polar'}, figsize=(5, 5))\n",
        "ax.set_ylim(0, 1)\n",
        "ax.set_yticklabels([])\n",
        "ax.set_xticklabels([])\n",
        "ax.set_title(\"Polar Sweep: Building Circle Area\")\n",
        "\n",
        "# Function to update each frame\n",
        "def update(frame):\n",
        "    ax.clear()\n",
        "    ax.set_ylim(0, 1)\n",
        "    ax.set_yticklabels([])\n",
        "    ax.set_xticklabels([])\n",
        "    ax.set_title(\"Polar Sweep: Building Circle Area\")\n",
        "    ax.grid(False)\n",
        "\n",
        "    theta_max = 2 * np.pi * (frame / 100)\n",
        "    theta = np.linspace(0, theta_max, 150)\n",
        "    r = np.linspace(0, 1, 150)\n",
        "    Theta, R = np.meshgrid(theta, r)\n",
        "    Z = np.ones_like(R)\n",
        "\n",
        "    ax.pcolormesh(Theta, R, Z, shading='auto', cmap='Oranges', alpha=0.7)\n",
        "\n",
        "# Create animation\n",
        "ani = animation.FuncAnimation(fig, update, frames=101, interval=40, repeat=False)\n",
        "\n",
        "# Save as GIF\n",
        "from matplotlib.animation import PillowWriter\n",
        "gif_path = \"/mnt/data/polar_sweep_circle.gif\"\n",
        "ani.save(gif_path, writer=PillowWriter(fps=20))\n",
        "\n",
        "plt.close()\n",
        "gif_path\n",
        "\n",
        "\n",
        "'''# Re-import after reset\n",
        "import numpy as np\n",
        "import matplotlib.pyplot as plt\n",
        "import matplotlib.animation as animation\n",
        "\n",
        "# Set up the figure and axis\n",
        "fig, ax = plt.subplots(subplot_kw={'projection': 'polar'}, figsize=(5, 5))\n",
        "ax.set_ylim(0, 1)\n",
        "ax.set_yticklabels([])\n",
        "ax.set_xticklabels([])\n",
        "ax.set_title(\"Polar Sweep: Building Circle Area\")\n",
        "\n",
        "# Function to update each frame\n",
        "def update(frame):\n",
        "    ax.clear()\n",
        "    ax.set_ylim(0, 1)\n",
        "    ax.set_yticklabels([])\n",
        "    ax.set_xticklabels([])\n",
        "    ax.set_title(\"Polar Sweep: Building Circle Area\")\n",
        "    ax.grid(False)\n",
        "\n",
        "    theta_max = 2 * np.pi * (frame / 100)\n",
        "    theta = np.linspace(0, theta_max, 150)\n",
        "    r = np.linspace(0, 1, 150)\n",
        "    Theta, R = np.meshgrid(theta, r)\n",
        "    Z = np.ones_like(R)\n",
        "\n",
        "    ax.pcolormesh(Theta, R, Z, shading='auto', cmap='Oranges', alpha=0.7)\n",
        "\n",
        "# Create animation\n",
        "ani = animation.FuncAnimation(fig, update, frames=101, interval=40, repeat=False)\n",
        "\n",
        "# Save as GIF\n",
        "from matplotlib.animation import PillowWriter\n",
        "gif_path = \"/mnt/data/polar_sweep_circle.gif\"\n",
        "ani.save(gif_path, writer=PillowWriter(fps=20))\n",
        "\n",
        "plt.close()\n",
        "gif_path'''\n"
      ],
      "metadata": {
        "id": "w_6VbJ5c_U22",
        "colab": {
          "base_uri": "https://localhost:8080/",
          "height": 696
        },
        "outputId": "dcd8abce-e716-4efc-d741-836f62ec328d"
      },
      "execution_count": 4,
      "outputs": [
        {
          "output_type": "error",
          "ename": "FileNotFoundError",
          "evalue": "[Errno 2] No such file or directory: '/mnt/data'",
          "traceback": [
            "\u001b[0;31m---------------------------------------------------------------------------\u001b[0m",
            "\u001b[0;31mFileNotFoundError\u001b[0m                         Traceback (most recent call last)",
            "\u001b[0;32m<ipython-input-4-e921b5bb2a98>\u001b[0m in \u001b[0;36m<cell line: 0>\u001b[0;34m()\u001b[0m\n\u001b[1;32m     35\u001b[0m \u001b[0;32mfrom\u001b[0m \u001b[0mmatplotlib\u001b[0m\u001b[0;34m.\u001b[0m\u001b[0manimation\u001b[0m \u001b[0;32mimport\u001b[0m \u001b[0mPillowWriter\u001b[0m\u001b[0;34m\u001b[0m\u001b[0;34m\u001b[0m\u001b[0m\n\u001b[1;32m     36\u001b[0m \u001b[0mgif_path\u001b[0m \u001b[0;34m=\u001b[0m \u001b[0;34m\"/mnt/data/polar_sweep_circle.gif\"\u001b[0m\u001b[0;34m\u001b[0m\u001b[0;34m\u001b[0m\u001b[0m\n\u001b[0;32m---> 37\u001b[0;31m \u001b[0mani\u001b[0m\u001b[0;34m.\u001b[0m\u001b[0msave\u001b[0m\u001b[0;34m(\u001b[0m\u001b[0mgif_path\u001b[0m\u001b[0;34m,\u001b[0m \u001b[0mwriter\u001b[0m\u001b[0;34m=\u001b[0m\u001b[0mPillowWriter\u001b[0m\u001b[0;34m(\u001b[0m\u001b[0mfps\u001b[0m\u001b[0;34m=\u001b[0m\u001b[0;36m20\u001b[0m\u001b[0;34m)\u001b[0m\u001b[0;34m)\u001b[0m\u001b[0;34m\u001b[0m\u001b[0;34m\u001b[0m\u001b[0m\n\u001b[0m\u001b[1;32m     38\u001b[0m \u001b[0;34m\u001b[0m\u001b[0m\n\u001b[1;32m     39\u001b[0m \u001b[0mplt\u001b[0m\u001b[0;34m.\u001b[0m\u001b[0mclose\u001b[0m\u001b[0;34m(\u001b[0m\u001b[0;34m)\u001b[0m\u001b[0;34m\u001b[0m\u001b[0;34m\u001b[0m\u001b[0m\n",
            "\u001b[0;32m/usr/local/lib/python3.11/dist-packages/matplotlib/animation.py\u001b[0m in \u001b[0;36msave\u001b[0;34m(self, filename, writer, fps, dpi, codec, bitrate, extra_args, metadata, extra_anim, savefig_kwargs, progress_callback)\u001b[0m\n\u001b[1;32m   1096\u001b[0m         \u001b[0;31m# callback a no-op; canvas.manager = None prevents resizing the GUI\u001b[0m\u001b[0;34m\u001b[0m\u001b[0;34m\u001b[0m\u001b[0m\n\u001b[1;32m   1097\u001b[0m         \u001b[0;31m# widget (both are likewise done in savefig()).\u001b[0m\u001b[0;34m\u001b[0m\u001b[0;34m\u001b[0m\u001b[0m\n\u001b[0;32m-> 1098\u001b[0;31m         with (writer.saving(self._fig, filename, dpi),\n\u001b[0m\u001b[1;32m   1099\u001b[0m               cbook._setattr_cm(self._fig.canvas, _is_saving=True, manager=None)):\n\u001b[1;32m   1100\u001b[0m             \u001b[0;32mif\u001b[0m \u001b[0;32mnot\u001b[0m \u001b[0mwriter\u001b[0m\u001b[0;34m.\u001b[0m\u001b[0m_supports_transparency\u001b[0m\u001b[0;34m(\u001b[0m\u001b[0;34m)\u001b[0m\u001b[0;34m:\u001b[0m\u001b[0;34m\u001b[0m\u001b[0;34m\u001b[0m\u001b[0m\n",
            "\u001b[0;32m/usr/lib/python3.11/contextlib.py\u001b[0m in \u001b[0;36m__enter__\u001b[0;34m(self)\u001b[0m\n\u001b[1;32m    135\u001b[0m         \u001b[0;32mdel\u001b[0m \u001b[0mself\u001b[0m\u001b[0;34m.\u001b[0m\u001b[0margs\u001b[0m\u001b[0;34m,\u001b[0m \u001b[0mself\u001b[0m\u001b[0;34m.\u001b[0m\u001b[0mkwds\u001b[0m\u001b[0;34m,\u001b[0m \u001b[0mself\u001b[0m\u001b[0;34m.\u001b[0m\u001b[0mfunc\u001b[0m\u001b[0;34m\u001b[0m\u001b[0;34m\u001b[0m\u001b[0m\n\u001b[1;32m    136\u001b[0m         \u001b[0;32mtry\u001b[0m\u001b[0;34m:\u001b[0m\u001b[0;34m\u001b[0m\u001b[0;34m\u001b[0m\u001b[0m\n\u001b[0;32m--> 137\u001b[0;31m             \u001b[0;32mreturn\u001b[0m \u001b[0mnext\u001b[0m\u001b[0;34m(\u001b[0m\u001b[0mself\u001b[0m\u001b[0;34m.\u001b[0m\u001b[0mgen\u001b[0m\u001b[0;34m)\u001b[0m\u001b[0;34m\u001b[0m\u001b[0;34m\u001b[0m\u001b[0m\n\u001b[0m\u001b[1;32m    138\u001b[0m         \u001b[0;32mexcept\u001b[0m \u001b[0mStopIteration\u001b[0m\u001b[0;34m:\u001b[0m\u001b[0;34m\u001b[0m\u001b[0;34m\u001b[0m\u001b[0m\n\u001b[1;32m    139\u001b[0m             \u001b[0;32mraise\u001b[0m \u001b[0mRuntimeError\u001b[0m\u001b[0;34m(\u001b[0m\u001b[0;34m\"generator didn't yield\"\u001b[0m\u001b[0;34m)\u001b[0m \u001b[0;32mfrom\u001b[0m \u001b[0;32mNone\u001b[0m\u001b[0;34m\u001b[0m\u001b[0;34m\u001b[0m\u001b[0m\n",
            "\u001b[0;32m/usr/local/lib/python3.11/dist-packages/matplotlib/animation.py\u001b[0m in \u001b[0;36msaving\u001b[0;34m(self, fig, outfile, dpi, *args, **kwargs)\u001b[0m\n\u001b[1;32m    219\u001b[0m \u001b[0;34m\u001b[0m\u001b[0m\n\u001b[1;32m    220\u001b[0m         \u001b[0;31m# This particular sequence is what contextlib.contextmanager wants\u001b[0m\u001b[0;34m\u001b[0m\u001b[0;34m\u001b[0m\u001b[0m\n\u001b[0;32m--> 221\u001b[0;31m         \u001b[0mself\u001b[0m\u001b[0;34m.\u001b[0m\u001b[0msetup\u001b[0m\u001b[0;34m(\u001b[0m\u001b[0mfig\u001b[0m\u001b[0;34m,\u001b[0m \u001b[0moutfile\u001b[0m\u001b[0;34m,\u001b[0m \u001b[0mdpi\u001b[0m\u001b[0;34m,\u001b[0m \u001b[0;34m*\u001b[0m\u001b[0margs\u001b[0m\u001b[0;34m,\u001b[0m \u001b[0;34m**\u001b[0m\u001b[0mkwargs\u001b[0m\u001b[0;34m)\u001b[0m\u001b[0;34m\u001b[0m\u001b[0;34m\u001b[0m\u001b[0m\n\u001b[0m\u001b[1;32m    222\u001b[0m         \u001b[0;32mwith\u001b[0m \u001b[0mmpl\u001b[0m\u001b[0;34m.\u001b[0m\u001b[0mrc_context\u001b[0m\u001b[0;34m(\u001b[0m\u001b[0;34m{\u001b[0m\u001b[0;34m'savefig.bbox'\u001b[0m\u001b[0;34m:\u001b[0m \u001b[0;32mNone\u001b[0m\u001b[0;34m}\u001b[0m\u001b[0;34m)\u001b[0m\u001b[0;34m:\u001b[0m\u001b[0;34m\u001b[0m\u001b[0;34m\u001b[0m\u001b[0m\n\u001b[1;32m    223\u001b[0m             \u001b[0;32mtry\u001b[0m\u001b[0;34m:\u001b[0m\u001b[0;34m\u001b[0m\u001b[0;34m\u001b[0m\u001b[0m\n",
            "\u001b[0;32m/usr/local/lib/python3.11/dist-packages/matplotlib/animation.py\u001b[0m in \u001b[0;36msetup\u001b[0;34m(self, fig, outfile, dpi)\u001b[0m\n\u001b[1;32m    485\u001b[0m \u001b[0;34m\u001b[0m\u001b[0m\n\u001b[1;32m    486\u001b[0m     \u001b[0;32mdef\u001b[0m \u001b[0msetup\u001b[0m\u001b[0;34m(\u001b[0m\u001b[0mself\u001b[0m\u001b[0;34m,\u001b[0m \u001b[0mfig\u001b[0m\u001b[0;34m,\u001b[0m \u001b[0moutfile\u001b[0m\u001b[0;34m,\u001b[0m \u001b[0mdpi\u001b[0m\u001b[0;34m=\u001b[0m\u001b[0;32mNone\u001b[0m\u001b[0;34m)\u001b[0m\u001b[0;34m:\u001b[0m\u001b[0;34m\u001b[0m\u001b[0;34m\u001b[0m\u001b[0m\n\u001b[0;32m--> 487\u001b[0;31m         \u001b[0msuper\u001b[0m\u001b[0;34m(\u001b[0m\u001b[0;34m)\u001b[0m\u001b[0;34m.\u001b[0m\u001b[0msetup\u001b[0m\u001b[0;34m(\u001b[0m\u001b[0mfig\u001b[0m\u001b[0;34m,\u001b[0m \u001b[0moutfile\u001b[0m\u001b[0;34m,\u001b[0m \u001b[0mdpi\u001b[0m\u001b[0;34m=\u001b[0m\u001b[0mdpi\u001b[0m\u001b[0;34m)\u001b[0m\u001b[0;34m\u001b[0m\u001b[0;34m\u001b[0m\u001b[0m\n\u001b[0m\u001b[1;32m    488\u001b[0m         \u001b[0mself\u001b[0m\u001b[0;34m.\u001b[0m\u001b[0m_frames\u001b[0m \u001b[0;34m=\u001b[0m \u001b[0;34m[\u001b[0m\u001b[0;34m]\u001b[0m\u001b[0;34m\u001b[0m\u001b[0;34m\u001b[0m\u001b[0m\n\u001b[1;32m    489\u001b[0m \u001b[0;34m\u001b[0m\u001b[0m\n",
            "\u001b[0;32m/usr/local/lib/python3.11/dist-packages/matplotlib/animation.py\u001b[0m in \u001b[0;36msetup\u001b[0;34m(self, fig, outfile, dpi)\u001b[0m\n\u001b[1;32m    166\u001b[0m         \"\"\"\n\u001b[1;32m    167\u001b[0m         \u001b[0;31m# Check that path is valid\u001b[0m\u001b[0;34m\u001b[0m\u001b[0;34m\u001b[0m\u001b[0m\n\u001b[0;32m--> 168\u001b[0;31m         \u001b[0mPath\u001b[0m\u001b[0;34m(\u001b[0m\u001b[0moutfile\u001b[0m\u001b[0;34m)\u001b[0m\u001b[0;34m.\u001b[0m\u001b[0mparent\u001b[0m\u001b[0;34m.\u001b[0m\u001b[0mresolve\u001b[0m\u001b[0;34m(\u001b[0m\u001b[0mstrict\u001b[0m\u001b[0;34m=\u001b[0m\u001b[0;32mTrue\u001b[0m\u001b[0;34m)\u001b[0m\u001b[0;34m\u001b[0m\u001b[0;34m\u001b[0m\u001b[0m\n\u001b[0m\u001b[1;32m    169\u001b[0m         \u001b[0mself\u001b[0m\u001b[0;34m.\u001b[0m\u001b[0moutfile\u001b[0m \u001b[0;34m=\u001b[0m \u001b[0moutfile\u001b[0m\u001b[0;34m\u001b[0m\u001b[0;34m\u001b[0m\u001b[0m\n\u001b[1;32m    170\u001b[0m         \u001b[0mself\u001b[0m\u001b[0;34m.\u001b[0m\u001b[0mfig\u001b[0m \u001b[0;34m=\u001b[0m \u001b[0mfig\u001b[0m\u001b[0;34m\u001b[0m\u001b[0;34m\u001b[0m\u001b[0m\n",
            "\u001b[0;32m/usr/lib/python3.11/pathlib.py\u001b[0m in \u001b[0;36mresolve\u001b[0;34m(self, strict)\u001b[0m\n\u001b[1;32m    991\u001b[0m \u001b[0;34m\u001b[0m\u001b[0m\n\u001b[1;32m    992\u001b[0m         \u001b[0;32mtry\u001b[0m\u001b[0;34m:\u001b[0m\u001b[0;34m\u001b[0m\u001b[0;34m\u001b[0m\u001b[0m\n\u001b[0;32m--> 993\u001b[0;31m             \u001b[0ms\u001b[0m \u001b[0;34m=\u001b[0m \u001b[0mos\u001b[0m\u001b[0;34m.\u001b[0m\u001b[0mpath\u001b[0m\u001b[0;34m.\u001b[0m\u001b[0mrealpath\u001b[0m\u001b[0;34m(\u001b[0m\u001b[0mself\u001b[0m\u001b[0;34m,\u001b[0m \u001b[0mstrict\u001b[0m\u001b[0;34m=\u001b[0m\u001b[0mstrict\u001b[0m\u001b[0;34m)\u001b[0m\u001b[0;34m\u001b[0m\u001b[0;34m\u001b[0m\u001b[0m\n\u001b[0m\u001b[1;32m    994\u001b[0m         \u001b[0;32mexcept\u001b[0m \u001b[0mOSError\u001b[0m \u001b[0;32mas\u001b[0m \u001b[0me\u001b[0m\u001b[0;34m:\u001b[0m\u001b[0;34m\u001b[0m\u001b[0;34m\u001b[0m\u001b[0m\n\u001b[1;32m    995\u001b[0m             \u001b[0mcheck_eloop\u001b[0m\u001b[0;34m(\u001b[0m\u001b[0me\u001b[0m\u001b[0;34m)\u001b[0m\u001b[0;34m\u001b[0m\u001b[0;34m\u001b[0m\u001b[0m\n",
            "\u001b[0;32m/usr/lib/python3.11/posixpath.py\u001b[0m in \u001b[0;36mrealpath\u001b[0;34m(filename, strict)\u001b[0m\n",
            "\u001b[0;32m/usr/lib/python3.11/posixpath.py\u001b[0m in \u001b[0;36m_joinrealpath\u001b[0;34m(path, rest, strict, seen)\u001b[0m\n",
            "\u001b[0;31mFileNotFoundError\u001b[0m: [Errno 2] No such file or directory: '/mnt/data'"
          ]
        },
        {
          "output_type": "display_data",
          "data": {
            "text/plain": [
              "<Figure size 500x500 with 1 Axes>"
            ],
            "image/png": "[encoded data removed]"
          },
          "metadata": {}
        }
      ]
    },
    {
      "cell_type": "code",
      "source": [],
      "metadata": {
        "id": "ZgYSyiYPHkWR"
      },
      "execution_count": null,
      "outputs": []
    }
  ],
  "metadata": {
    "colab": {
      "provenance": []
    },
    "kernelspec": {
      "display_name": "Python 3",
      "name": "python3"
    },
    "language_info": {
      "name": "python"
    }
  },
  "nbformat": 4,
  "nbformat_minor": 0
}